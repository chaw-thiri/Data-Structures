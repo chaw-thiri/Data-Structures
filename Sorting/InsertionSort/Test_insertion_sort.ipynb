{
  "nbformat": 4,
  "nbformat_minor": 0,
  "metadata": {
    "colab": {
      "provenance": []
    },
    "kernelspec": {
      "name": "python3",
      "display_name": "Python 3"
    },
    "language_info": {
      "name": "python"
    }
  },
  "cells": [
    {
      "cell_type": "code",
      "execution_count": 2,
      "metadata": {
        "colab": {
          "base_uri": "https://localhost:8080/"
        },
        "id": "2aneLi8cqraa",
        "outputId": "dd06194b-2ed0-4df5-a336-8a6b4a2680b1"
      },
      "outputs": [
        {
          "output_type": "stream",
          "name": "stdout",
          "text": [
            "[2, 3, 3, 4, 5, 6, 7, 8, 9]\n"
          ]
        }
      ],
      "source": [
        "def insertionSort(array):\n",
        "    for i in range(1,len(array)):   \n",
        "        h = i\n",
        "        while h > 0 and array[h-1]> array[h]: # when h < 0 the array would be all sorted\n",
        "            array[h],array[h-1] = array[h-1],array[h]\n",
        "            h -= 1\n",
        "    return array\n",
        "array = [3,7,5,8,4,2,6,3,9]\n",
        "print(insertionSort(array))"
      ]
    },
    {
      "cell_type": "code",
      "source": [],
      "metadata": {
        "id": "5ENJkcWnYoD2"
      },
      "execution_count": null,
      "outputs": []
    }
  ]
}