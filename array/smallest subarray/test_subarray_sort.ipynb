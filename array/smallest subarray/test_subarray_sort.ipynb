{
  "nbformat": 4,
  "nbformat_minor": 0,
  "metadata": {
    "colab": {
      "provenance": []
    },
    "kernelspec": {
      "name": "python3",
      "display_name": "Python 3"
    },
    "language_info": {
      "name": "python"
    }
  },
  "cells": [
    {
      "cell_type": "code",
      "source": [
        "# time O(n), space = O(1)\n",
        "def subarraySort(array):\n",
        "    minOutOfOrder = float(\"inf\")\n",
        "    maxOutOfOrder = float(\"-inf\")\n",
        "    for i in range(len(array)):\n",
        "        num = array[i]\n",
        "        if isOutOfOrder(i,num,array):\n",
        "            minOutOfOrder = min(minOutOfOrder,num)\n",
        "            maxOutOfOrder = max(maxOutOfOrder,num)\n",
        "    \n",
        "    if minOutOfOrder == float(\"inf\"):\n",
        "        return [-1,-1]\n",
        "    \n",
        "    subarrayLeftIdx = 0\n",
        "    while minOutOfOrder >= array[subarrayLeftIdx]:\n",
        "        subarrayLeftIdx += 1\n",
        "        \n",
        "    subarrayRightIdx = len(array)-1\n",
        "    while maxOutOfOrder <= array[subarrayRightIdx]:\n",
        "        subarrayRightIdx -= 1\n",
        "\n",
        "    return[subarrayLeftIdx,subarrayRightIdx]\n",
        "\n",
        "def isOutOfOrder(i, num, array):\n",
        "    if i == 0:\n",
        "        return num> array[i+1]\n",
        "    if i == len(array)-1:\n",
        "        return num< array[i-1]\n",
        "    return num > array[i+1] or num < array[i-1]"
      ],
      "metadata": {
        "id": "2rScgrDq982b"
      },
      "execution_count": null,
      "outputs": []
    }
  ]
}