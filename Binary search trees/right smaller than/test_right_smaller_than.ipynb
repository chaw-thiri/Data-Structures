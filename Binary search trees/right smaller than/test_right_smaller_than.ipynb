{
  "cells": [
    {
      "cell_type": "code",
      "execution_count": null,
      "metadata": {
        "id": "GESNgF4uEuaD"
      },
      "outputs": [],
      "source": [
        "# T O(n ^ 2)\n",
        "# S O(n)\n",
        "def rightSmallerThan(array):\n",
        "\n",
        "    rightSmallerCounts=[]\n",
        "    for i in range(len(array)):\n",
        "        rightSmallerCount=0\n",
        "        for j in range(i+1,len(array)): # i + 1 = right after the current element\n",
        "            if array[j]<array[i]:\n",
        "                rightSmallerCount+=1\n",
        "        rightSmallerCounts.append(rightSmallerCount)\n",
        "    return rightSmallerCounts\n"
      ]
    },
    {
      "cell_type": "code",
      "execution_count": null,
      "metadata": {
        "id": "KMTTdRt8Exb5"
      },
      "outputs": [],
      "source": [
        "# avg T = O(log n), S = O(n)\n",
        "# worst T = O(n^2), S = O(n)\n",
        "def rightSmallerThan(array):\n",
        "\n",
        "    if len(array)==0: # empty array\n",
        "        return []\n",
        "\n",
        "    lastIdx =len(array) -1\n",
        "    bst=SpecialBST(array[lastIdx],lastIdx,0)\n",
        "    for i in reversed(range(len(array)-1)):\n",
        "        bst.insert(array[i], i)\n",
        "\n",
        "    rightSmallerCounts=array[:]\n",
        "\n",
        "    getRightSmallerCounts(bst, rightSmallerCounts)\n",
        "    return rightSmallerCounts\n",
        "\n",
        "def getRightSmallerCounts(bst,rightSmallerCounts):\n",
        "    if bst is None:\n",
        "        return\n",
        "    rightSmallerCounts[bst.idx]=bst.numSmallerAtInsertTime\n",
        "    getRightSmallerCounts(bst.left,rightSmallerCounts)\n",
        "    getRightSmallerCounts(bst.right,rightSmallerCounts)\n",
        "\n",
        "class SpecialBST:\n",
        "        def __init__(self,value,idx,numSmallerAtInsertTime):\n",
        "            self.value=value\n",
        "            self.idx=idx\n",
        "            self.numSmallerAtInsertTime=numSmallerAtInsertTime\n",
        "            self.leftSubtreeSize=0\n",
        "            self.left=None\n",
        "            self.right=None\n",
        "\n",
        "        def insert(self,value,idx,numSmallerAtInsertTime=0):\n",
        "            if value<self.value:\n",
        "                self.leftSubtreeSize+=1\n",
        "                if self.left is None:\n",
        "                    self.left=SpecialBST(value,idx,numSmallerAtInsertTime)\n",
        "                else:\n",
        "                    self.left.insert(value,idx,numSmallerAtInsertTime)\n",
        "            else:\n",
        "                numSmallerAtInsertTime+=self.leftSubtreeSize\n",
        "                if value>self.value:\n",
        "                    numSmallerAtInsertTime+=1\n",
        "                if self.right is None:\n",
        "                    self.right=SpecialBST(value,idx,numSmallerAtInsertTime)\n",
        "                else:\n",
        "                    self.right.insert(value,idx,numSmallerAtInsertTime)\n",
        "\n",
        "\n",
        "\n"
      ]
    },
    {
      "cell_type": "code",
      "execution_count": null,
      "metadata": {
        "id": "eIekQx_DE1jG"
      },
      "outputs": [],
      "source": [
        "def rightSmallerThan(array):\n",
        "    # Write your code here.\n",
        "    if len(array) ==0:\n",
        "        return[]\n",
        "\n",
        "    rightSmallerCounts=array[:]\n",
        "    lastIdx=len(array)-1\n",
        "    bst=SpecialBST(array[lastIdx])\n",
        "    rightSmallerCounts[lastIdx]=0\n",
        "    for i in reversed(range(len(array)-1)):\n",
        "        bst.insert(array[i],i,rightSmallerCounts)\n",
        "\n",
        "    return rightSmallerCounts\n",
        "\n",
        "class SpecialBST:\n",
        "    def __init__(self,value):\n",
        "        self.value=value\n",
        "        self.leftSubtreeSize=0\n",
        "        self.left=None\n",
        "        self.right=None\n",
        "\n",
        "    def insert(self,value,idx,rightSmallerCounts,numSmallerAtInsertTime=0):\n",
        "        if value<self.value:\n",
        "            self.leftSubtreeSize+=1\n",
        "            if self.left is None:\n",
        "                self.left=SpecialBST(value)\n",
        "                rightSmallerCounts[idx]=numSmallerAtInsertTime\n",
        "            else:\n",
        "                self.left.insert(value,idx,rightSmallerCounts,numSmallerAtInsertTime)\n",
        "        else:\n",
        "            numSmallerAtInsertTime+=self.leftSubtreeSize\n",
        "            if value>self.value:\n",
        "                numSmallerAtInsertTime+=1\n",
        "            if self.right is None:\n",
        "                self.right=SpecialBST(value)\n",
        "                rightSmallerCounts[idx]=numSmallerAtInsertTime\n",
        "            else:\n",
        "                self.right.insert(value,idx,rightSmallerCounts,numSmallerAtInsertTime)\n"
      ]
    }
  ],
  "metadata": {
    "colab": {
      "provenance": []
    },
    "kernelspec": {
      "display_name": "Python 3",
      "name": "python3"
    },
    "language_info": {
      "name": "python"
    }
  },
  "nbformat": 4,
  "nbformat_minor": 0
}
