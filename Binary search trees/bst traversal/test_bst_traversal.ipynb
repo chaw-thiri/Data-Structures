{
  "nbformat": 4,
  "nbformat_minor": 0,
  "metadata": {
    "colab": {
      "provenance": []
    },
    "kernelspec": {
      "name": "python3",
      "display_name": "Python 3"
    },
    "language_info": {
      "name": "python"
    }
  },
  "cells": [
    {
      "cell_type": "code",
      "execution_count": null,
      "metadata": {
        "id": "NYqrYI6mBev_"
      },
      "outputs": [],
      "source": [
        "# time = O(n)\n",
        "# space = O(n) / O(d)\n",
        "def inOrderTraverse(tree, array):\n",
        "    # left, current, right\n",
        "    if tree is not None:\n",
        "        inOrderTraverse(tree.left, array)\n",
        "        # all the elements on the left side has been added\n",
        "        array.append(tree.value)\n",
        "        inOrderTraverse(tree.right, array)\n",
        "    return array\n",
        "\n",
        "\n",
        "def preOrderTraverse(tree, array):\n",
        "    # current, left, right\n",
        "    if tree is not None:\n",
        "        array.append(tree.value)\n",
        "        preOrderTraverse(tree.right, array)\n",
        "        preOrderTraverse(tree.left, array)\n",
        "    return array\n",
        "\n",
        "\n",
        "def postOrderTraverse(tree, array):\n",
        "    # left, right, current\n",
        "    if tree is not None:\n",
        "        postOrderTraverse(tree.left, array)\n",
        "        postOrderTraverse(tree.right, array)\n",
        "        array.append(tree.value)\n",
        "    return array\n"
      ]
    }
  ]
}