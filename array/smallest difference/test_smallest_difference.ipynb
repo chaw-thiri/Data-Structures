{
  "nbformat": 4,
  "nbformat_minor": 0,
  "metadata": {
    "colab": {
      "provenance": []
    },
    "kernelspec": {
      "name": "python3",
      "display_name": "Python 3"
    },
    "language_info": {
      "name": "python"
    }
  },
  "cells": [
    {
      "cell_type": "code",
      "execution_count": 1,
      "metadata": {
        "id": "qxAVeYjFAfe4"
      },
      "outputs": [],
      "source": [
        "def smallestDifference(array_one, array_two):\n",
        "    array_one.sort()  # sort the arrays to simplify the comparison\n",
        "    array_two.sort()\n",
        "    \n",
        "    idx_one = 0  # initialize indices for both arrays\n",
        "    idx_two = 0\n",
        "    smallest_diff = float('inf')\n",
        "    smallest_pair = []\n",
        "\n",
        "    while idx_one < len(array_one) and idx_two < len(array_two):\n",
        "        num_one = array_one[idx_one]\n",
        "        num_two = array_two[idx_two]\n",
        "        current_diff = abs(num_one - num_two)\n",
        "\n",
        "        if current_diff < smallest_diff:  # update the smallest difference and pair\n",
        "            smallest_diff = current_diff\n",
        "            smallest_pair = [num_one, num_two]\n",
        "\n",
        "        if num_one < num_two:  # move the index of the array with the smaller number\n",
        "            idx_one += 1\n",
        "        else:\n",
        "            idx_two += 1\n",
        "\n",
        "    return smallest_pair\n",
        "# time = O (nlogn + m log m ) where n is the length of first array and m; second array\n",
        "# space = O(1)"
      ]
    },
    {
      "cell_type": "code",
      "source": [],
      "metadata": {
        "id": "j3of2oAkAnsS"
      },
      "execution_count": null,
      "outputs": []
    }
  ]
}