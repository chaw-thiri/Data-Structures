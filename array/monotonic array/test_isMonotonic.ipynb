{
  "nbformat": 4,
  "nbformat_minor": 0,
  "metadata": {
    "colab": {
      "provenance": []
    },
    "kernelspec": {
      "name": "python3",
      "display_name": "Python 3"
    },
    "language_info": {
      "name": "python"
    }
  },
  "cells": [
    {
      "cell_type": "code",
      "execution_count": 1,
      "metadata": {
        "id": "dwNKOgjj0N8b"
      },
      "outputs": [],
      "source": [
        "array =  [-1, -5, -10, -1100, -1100, -1101, -1102, -9001]"
      ]
    },
    {
      "cell_type": "code",
      "source": [
        "def isMonotonic(array):\n",
        "    if len(array) <= 2:\n",
        "        return True\n",
        "    direction = array[1]- array[0]\n",
        "    for i in range(2,len(array)):\n",
        "        difference = array[i]- array[i-1]\n",
        "        if direction == 0:\n",
        "            direction = array[i]-array[i-1]\n",
        "            continue\n",
        "        if BreakDriection(direction, array[i-1],array[i]):\n",
        "            return False\n",
        "    return True\n",
        "def BreakDriection(direction,previousInt, currentInt):\n",
        "    difference = currentInt - previousInt\n",
        "    if direction > 0:\n",
        "        return difference < 0\n",
        "    elif direction < 0:\n",
        "        return difference > 0"
      ],
      "metadata": {
        "id": "kXUhbVFW0VU6"
      },
      "execution_count": 4,
      "outputs": []
    },
    {
      "cell_type": "code",
      "source": [
        "print(isMonotonic(array))"
      ],
      "metadata": {
        "colab": {
          "base_uri": "https://localhost:8080/"
        },
        "id": "V09DfIVb0YM4",
        "outputId": "ff87eb80-e82d-400c-9b7e-7b864ef6d569"
      },
      "execution_count": 3,
      "outputs": [
        {
          "output_type": "stream",
          "name": "stdout",
          "text": [
            "True\n"
          ]
        }
      ]
    }
  ]
}