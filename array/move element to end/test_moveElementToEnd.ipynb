{
  "nbformat": 4,
  "nbformat_minor": 0,
  "metadata": {
    "colab": {
      "provenance": []
    },
    "kernelspec": {
      "name": "python3",
      "display_name": "Python 3"
    },
    "language_info": {
      "name": "python"
    }
  },
  "cells": [
    {
      "cell_type": "code",
      "execution_count": 4,
      "metadata": {
        "colab": {
          "base_uri": "https://localhost:8080/"
        },
        "id": "mJ1PEjCPTBVn",
        "outputId": "80c10b3b-126d-443f-e5ab-d0a7a89ebe8e"
      },
      "outputs": [
        {
          "output_type": "stream",
          "name": "stdout",
          "text": [
            "[6, 4, 5, 2, 2, 2, 2]\n"
          ]
        }
      ],
      "source": [
        "array = [2, 4, 2, 5, 6, 2, 2]\n",
        "tomove = 2\n",
        "print(moveElementToEnd(array,tomove))"
      ]
    },
    {
      "cell_type": "code",
      "source": [
        "def moveElementToEnd(array, toMove):\n",
        "    start = 0\n",
        "    end = len(array)-1\n",
        "    while start < end:\n",
        "        while start < end and array[end] == toMove:\n",
        "            end -= 1\n",
        "        # if array[start] != toMove:  # start += must be done in both conditions, so take it out of the loop\n",
        "        #     start += 1\n",
        "        if array[start] == toMove and array[end] != toMove:\n",
        "            array[start],array[end] = array[end], array[start]\n",
        "            # start += 1 \n",
        "        start += 1\n",
        "    return array"
      ],
      "metadata": {
        "id": "oqVAuT2HUjM0"
      },
      "execution_count": 3,
      "outputs": []
    }
  ]
}