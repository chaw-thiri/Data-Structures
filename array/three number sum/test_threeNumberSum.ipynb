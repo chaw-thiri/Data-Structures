{
  "nbformat": 4,
  "nbformat_minor": 0,
  "metadata": {
    "colab": {
      "provenance": []
    },
    "kernelspec": {
      "name": "python3",
      "display_name": "Python 3"
    },
    "language_info": {
      "name": "python"
    }
  },
  "cells": [
    {
      "cell_type": "code",
      "execution_count": 2,
      "metadata": {
        "id": "23sEvirC03ja"
      },
      "outputs": [],
      "source": [
        "def threeNumberSum(array, targetSum):\n",
        "    array.sort()\n",
        "    triplet = []\n",
        "    for i in range(len(array)-2): # want to stop when no more 3 numbers are left\n",
        "        left = i+1 # right side of i\n",
        "        right= len(array)-1 # end of the array\n",
        "        while left < right: \n",
        "            currentSum = array[i]+ array[left]+ array[right]\n",
        "            if currentSum == targetSum:\n",
        "                triplet.append([array[i],array[left], array[right]])\n",
        "                left += 1\n",
        "                right -= 1 # move both pointers at the same time\n",
        "            elif currentSum < targetSum:\n",
        "                left += 1\n",
        "            else:\n",
        "                right -= 1\n",
        "    return triplet"
      ]
    },
    {
      "cell_type": "code",
      "source": [
        "array = [1, 2, 3, 4, 5, 6, 7, 8, 9]\n",
        "targetSum = 6\n",
        "print(threeNumberSum(array,targetSum))\n",
        "\n",
        "\n"
      ],
      "metadata": {
        "colab": {
          "base_uri": "https://localhost:8080/"
        },
        "id": "ZBDfPRP72jwX",
        "outputId": "6958451c-026a-4014-b7db-ea618e0231a8"
      },
      "execution_count": 4,
      "outputs": [
        {
          "output_type": "stream",
          "name": "stdout",
          "text": [
            "[[1, 2, 3]]\n"
          ]
        }
      ]
    }
  ]
}