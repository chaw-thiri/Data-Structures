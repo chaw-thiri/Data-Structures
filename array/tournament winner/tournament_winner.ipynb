{
  "nbformat": 4,
  "nbformat_minor": 0,
  "metadata": {
    "colab": {
      "provenance": []
    },
    "kernelspec": {
      "name": "python3",
      "display_name": "Python 3"
    },
    "language_info": {
      "name": "python"
    }
  },
  "cells": [
    {
      "cell_type": "code",
      "execution_count": 35,
      "metadata": {
        "colab": {
          "base_uri": "https://localhost:8080/"
        },
        "id": "txE9F57nWKpN",
        "outputId": "3e9835c2-67af-404a-a5fb-8cd9612da334"
      },
      "outputs": [
        {
          "output_type": "stream",
          "name": "stdout",
          "text": [
            "Python\n"
          ]
        }
      ],
      "source": [
        "\n",
        "def tournamentWinner(competitions, results):\n",
        "  home_teams = []\n",
        "  away_teams =[]\n",
        "  Score_sheet ={}\n",
        "  best_team = competitions[0][0]\n",
        "  for row in competitions:\n",
        "    home_teams.append(row[0])\n",
        "    away_teams.append(row[1])\n",
        "    for member in row:\n",
        "      if member not in Score_sheet:\n",
        "        Score_sheet.update({member:0})\n",
        "  for i in range(len(results)):\n",
        "    result = results[i]\n",
        "    if result == 0: # away team wins\n",
        "      Score_sheet[away_teams[i]] += 3  \n",
        "      if Score_sheet[away_teams[i]] > Score_sheet[best_team]:\n",
        "        best_team = away_teams[i]\n",
        "    else:\n",
        "      Score_sheet[home_teams[i]] += 3 \n",
        "      if Score_sheet[home_teams[i]] > Score_sheet[best_team]:\n",
        "        best_team = home_teams[i]\n",
        "  return best_team\n",
        "      \n",
        "\n",
        "print(tournamentWinner(competitions,results))\n"
      ]
    },
    {
      "cell_type": "code",
      "source": [
        "\n",
        "competitions= [\n",
        "    [\"HTML\", \"C#\"],\n",
        "    [\"C#\", \"Python\"],\n",
        "    [\"Python\", \"HTML\"]\n",
        "  ]\n",
        "results= [0, 0, 1]"
      ],
      "metadata": {
        "id": "9OQF16dFsYGZ"
      },
      "execution_count": 34,
      "outputs": []
    }
  ]
}