{
  "nbformat": 4,
  "nbformat_minor": 0,
  "metadata": {
    "colab": {
      "provenance": []
    },
    "kernelspec": {
      "name": "python3",
      "display_name": "Python 3"
    },
    "language_info": {
      "name": "python"
    }
  },
  "cells": [
    {
      "cell_type": "code",
      "execution_count": null,
      "metadata": {
        "id": "3DGxRcqlHc1J"
      },
      "outputs": [],
      "source": [
        "# time - O(n log n) , S - O(1)\n",
        "# max heap\n",
        "def heapSort(array):\n",
        "    buildMaxHeap(array)\n",
        "    for endIdx in reversed(range(1,len(array))):\n",
        "        swap(0, endIdx, array)\n",
        "        siftDown(0,endIdx-1, array)\n",
        "    return array\n",
        "\n",
        "def buildMaxHeap( array):\n",
        "\n",
        "    firstParentIdx = (len(array)-2)//2\n",
        "    for curIdx in reversed(range(firstParentIdx+1)):\n",
        "        siftDown(curIdx,len(array)-1, array)\n",
        "\n",
        "def siftDown(curIdx, endIdx, heap):\n",
        "    childOneIdx = (2 * curIdx) +1\n",
        "    while childOneIdx <= endIdx:\n",
        "\n",
        "        childTwoIdx = (2 * curIdx) + 2 if ( (2 * curIdx) + 2 <= endIdx )else -1\n",
        "\n",
        "        if childTwoIdx != -1 and heap[childTwoIdx] > heap[childOneIdx]:\n",
        "            idxToSwap = childTwoIdx\n",
        "        else:\n",
        "            idxToSwap = childOneIdx\n",
        "\n",
        "\n",
        "        # curIdx is parentIdx\n",
        "        if heap[curIdx] < heap[idxToSwap]:\n",
        "            swap(curIdx,idxToSwap, heap)\n",
        "            curIdx = idxToSwap\n",
        "            childOneIdx = (2 * curIdx) + 1\n",
        "        else:\n",
        "            return\n",
        "\n",
        "def swap(i,j, array):\n",
        "    array[i], array[j] = array[j], array[i]\n",
        ""
      ]
    }
  ]
}