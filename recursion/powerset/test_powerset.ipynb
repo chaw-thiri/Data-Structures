{
  "nbformat": 4,
  "nbformat_minor": 0,
  "metadata": {
    "colab": {
      "provenance": []
    },
    "kernelspec": {
      "name": "python3",
      "display_name": "Python 3"
    },
    "language_info": {
      "name": "python"
    }
  },
  "cells": [
    {
      "cell_type": "code",
      "source": [
        "def powerset(array,idx = None):\n",
        "    if idx is None:\n",
        "        idx = len(array)-1\n",
        "    if idx <0:\n",
        "        return [[]]\n",
        "    ele = array[idx]\n",
        "    subsets = powerset(array, idx - 1)\n",
        "    for i in range(len(subsets)):\n",
        "        currentSubset = subsets[i]\n",
        "        subsets.append(currentSubset + [ele])\n",
        "    return subsets\n"
      ],
      "metadata": {
        "id": "5ENJkcWnYoD2"
      },
      "execution_count": 3,
      "outputs": []
    },
    {
      "cell_type": "code",
      "source": [
        "def powerset(array):\n",
        "    subsets = [[]]\n",
        "    for ele in array: \n",
        "        for i in range(len(subsets)):\n",
        "            currentSubset = subsets[i]\n",
        "            subsets.append(currentSubset + [ele])\n",
        "    return subsets\n"
      ],
      "metadata": {
        "id": "nkqoJXCo7VRg"
      },
      "execution_count": 1,
      "outputs": []
    },
    {
      "cell_type": "code",
      "source": [
        "array = [1,2,3,4,5]\n",
        "print(powerset(array))"
      ],
      "metadata": {
        "colab": {
          "base_uri": "https://localhost:8080/"
        },
        "id": "CBZtG0027XTS",
        "outputId": "4662bc8f-b163-4be7-e50f-5f0fd912e749"
      },
      "execution_count": 4,
      "outputs": [
        {
          "output_type": "stream",
          "name": "stdout",
          "text": [
            "[[], [1], [2], [1, 2], [3], [1, 3], [2, 3], [1, 2, 3], [4], [1, 4], [2, 4], [1, 2, 4], [3, 4], [1, 3, 4], [2, 3, 4], [1, 2, 3, 4], [5], [1, 5], [2, 5], [1, 2, 5], [3, 5], [1, 3, 5], [2, 3, 5], [1, 2, 3, 5], [4, 5], [1, 4, 5], [2, 4, 5], [1, 2, 4, 5], [3, 4, 5], [1, 3, 4, 5], [2, 3, 4, 5], [1, 2, 3, 4, 5]]\n"
          ]
        }
      ]
    }
  ]
}