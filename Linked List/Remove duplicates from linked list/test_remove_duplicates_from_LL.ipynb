{
  "cells": [
    {
      "cell_type": "code",
      "execution_count": null,
      "metadata": {
        "id": "bAfuUWPSLtMl"
      },
      "outputs": [],
      "source": [
        "# time = O(n) : traverse all the node\n",
        "# space = O(1)\n",
        "class LinkedList:\n",
        "    def __init__(self, value):\n",
        "        self.value = value\n",
        "        self.next = None\n",
        "\n",
        "\n",
        "def removeDuplicatesFromLinkedList(linkedList): # linked list = head node\n",
        "    currentNode = linkedList\n",
        "    while (currentNode != None):\n",
        "        nextDiffNode = currentNode.next\n",
        "        while (nextDiffNode != None  and currentNode.value == nextDiffNode.value): # skip all the duplicate values\n",
        "            nextDiffNode = nextDiffNode.next\n",
        "        currentNode.next = nextDiffNode\n",
        "        # move the pointer\n",
        "        currentNode = nextDiffNode\n",
        "    return linkedList # return the object\n"
      ]
    }
  ],
  "metadata": {
    "colab": {
      "provenance": []
    },
    "kernelspec": {
      "display_name": "Python 3",
      "name": "python3"
    },
    "language_info": {
      "name": "python"
    }
  },
  "nbformat": 4,
  "nbformat_minor": 0
}
