{
  "nbformat": 4,
  "nbformat_minor": 0,
  "metadata": {
    "colab": {
      "provenance": []
    },
    "kernelspec": {
      "name": "python3",
      "display_name": "Python 3"
    },
    "language_info": {
      "name": "python"
    }
  },
  "cells": [
    {
      "cell_type": "code",
      "execution_count": 1,
      "metadata": {
        "colab": {
          "base_uri": "https://localhost:8080/"
        },
        "id": "2aneLi8cqraa",
        "outputId": "51402926-78f8-4fe1-ce6e-3b551b0bf231"
      },
      "outputs": [
        {
          "output_type": "stream",
          "name": "stdout",
          "text": [
            "12\n"
          ]
        }
      ],
      "source": [
        "# O(n) = where n is the number of elements in array including subarray\n",
        "# O(d) = level of arrays\n",
        "def productSum(array, multiplier = 1):\n",
        "    sum = 0\n",
        "    for elementORlist in array:\n",
        "        if type(elementORlist) is list:\n",
        "            sum += productSum(elementORlist, multiplier + 1)\n",
        "        else:\n",
        "            sum += elementORlist\n",
        "    return sum*multiplier\n",
        "print(productSum([5, 2, [7, -1], 3, [6, [-13, 8], 4]]))"
      ]
    },
    {
      "cell_type": "code",
      "source": [],
      "metadata": {
        "id": "5ENJkcWnYoD2"
      },
      "execution_count": null,
      "outputs": []
    }
  ]
}