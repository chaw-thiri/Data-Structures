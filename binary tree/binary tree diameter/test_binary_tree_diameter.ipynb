{
  "nbformat": 4,
  "nbformat_minor": 0,
  "metadata": {
    "colab": {
      "provenance": []
    },
    "kernelspec": {
      "name": "python3",
      "display_name": "Python 3"
    },
    "language_info": {
      "name": "python"
    }
  },
  "cells": [
    {
      "cell_type": "code",
      "execution_count": null,
      "metadata": {
        "id": "sP2K_EDU6BSl"
      },
      "outputs": [],
      "source": [
        "# T = O(n) , n - no of nodes\n",
        "# S = O(h) , h = height of the tree\n",
        "class BinaryTree:\n",
        "    def __init__(self, value, left=None, right=None):\n",
        "        self.value = value\n",
        "        self.left = left\n",
        "        self.right = right\n",
        "#\n",
        "class TreeInfo:\n",
        "    def __init__(self,diameter,height):\n",
        "        self.diameter = diameter\n",
        "        self.height = height\n",
        "\n",
        "def binaryTreeDiameter(tree):\n",
        "    return getTreeInfo(tree).diameter\n",
        "\n",
        "def getTreeInfo(tree):\n",
        "    if tree is None:\n",
        "        return TreeInfo(0,0)\n",
        "\n",
        "    leftTreeInfo= getTreeInfo(tree.left)\n",
        "    rightTreeInfo = getTreeInfo(tree.right)\n",
        "\n",
        "    longestPathThroughRoot = leftTreeInfo.height + rightTreeInfo.height\n",
        "    maxDiameter = max(leftTreeInfo.diameter , rightTreeInfo.diameter)\n",
        "    currDiameter = max(longestPathThroughRoot, maxDiameter)\n",
        "    currHeight = 1 + max(leftTreeInfo.height, rightTreeInfo.height)\n",
        "\n",
        "    return TreeInfo(currDiameter, currHeight)\n",
        "\n"
      ]
    }
  ]
}