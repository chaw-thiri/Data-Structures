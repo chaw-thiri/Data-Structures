{
  "nbformat": 4,
  "nbformat_minor": 0,
  "metadata": {
    "colab": {
      "provenance": []
    },
    "kernelspec": {
      "name": "python3",
      "display_name": "Python 3"
    },
    "language_info": {
      "name": "python"
    }
  },
  "cells": [
    {
      "cell_type": "code",
      "source": [
        "# O(low * high * n) time and space \n",
        "# n = number of measuring cups \n",
        "def ambiguousMeasurements(measuringCups, low, high):\n",
        "    memoization = {}\n",
        "    return canMeasureInRange(measuringCups, low, high, memoization)\n",
        "\n",
        "def canMeasureInRange(measuringCups, low, high, memoization):\n",
        "    memoizeKey = createHashableKey(low,high)\n",
        "    if memoizeKey in memoization:\n",
        "        return memoization[memoizeKey]\n",
        "    \n",
        "    if low <= 0 and high <= 0:\n",
        "        return False\n",
        "    \n",
        "    canMeasure = False\n",
        "    for cup in measuringCups:\n",
        "        cupLow, cupHigh = cup\n",
        "        if low <= cupLow and cupHigh <= high:\n",
        "            canMeasure = True\n",
        "            break\n",
        "\n",
        "        newLow = max(0, low- cupLow)\n",
        "        newHigh = max(0, high- cupHigh)\n",
        "        canMeasure = canMeasureInRange(measuringCups, newLow, newHigh, memoization)\n",
        "        if canMeasure:\n",
        "            break\n",
        "\n",
        "    memoization[memoizeKey] = canMeasure\n",
        "    return canMeasure\n",
        "    \n",
        "\n",
        "def createHashableKey(low, high):\n",
        "    return str(low)+ \":\" + str(high)"
      ],
      "metadata": {
        "id": "v8b3jmPnrs2U"
      },
      "execution_count": 1,
      "outputs": []
    }
  ]
}