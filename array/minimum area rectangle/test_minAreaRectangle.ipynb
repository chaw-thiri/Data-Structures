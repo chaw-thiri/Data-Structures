{
  "nbformat": 4,
  "nbformat_minor": 0,
  "metadata": {
    "colab": {
      "provenance": []
    },
    "kernelspec": {
      "name": "python3",
      "display_name": "Python 3"
    },
    "language_info": {
      "name": "python"
    }
  },
  "cells": [
    {
      "cell_type": "code",
      "execution_count": null,
      "metadata": {
        "id": "Rs_nMv6WDlLb"
      },
      "outputs": [],
      "source": [
        "# both solutions have same space and time complexity \n",
        "# time = O(n*2)\n",
        "# space = O (n)\n",
        "# find all the points that shares the same x value\n",
        "# find the edge that have same y value\n",
        "\n",
        "def minimumAreaRectangle(points):\n",
        "    pointSet = createPointSet(points)\n",
        "    minAreaFound = float(\"inf\") \n",
        "\n",
        "    for currentIdx, p2 in enumerate(points):\n",
        "        p2x, p2y = p2 # ???\n",
        "        for previousIdx in range(currentIdx):\n",
        "            p1x, p1y = points[previousIdx]\n",
        "            pointsShareValue = ( p1x== p2x ) or ( p1y==p2y )\n",
        "\n",
        "            if pointsShareValue:\n",
        "                continue\n",
        "\n",
        "            # if p1x,p1y,p2x,p2y exist >> we found a rectangle\n",
        "            point1OnOppositeDiagonalExist = convertPointToString(p1x,p2y) in pointSet\n",
        "            point2OnOppositeDiagonalExist = convertPointToString(p2x, p1y) in pointSet\n",
        "            oppositeDiagonalExists = point1OnOppositeDiagonalExist and point2OnOppositeDiagonalExist  # ???\n",
        "\n",
        "            if oppositeDiagonalExists:\n",
        "                currentArea = abs(p2x-p1x) * abs(p2y-p1y)\n",
        "                minAreaFound = min(minAreaFound, currentArea)\n",
        "\n",
        "    return minAreaFound if  minAreaFound != float(\"inf\") else 0\n",
        "\n",
        "\n",
        "def createPointSet(points):\n",
        "    pointSet = set() # empty set\n",
        "\n",
        "    for point in points:\n",
        "        x,y = point\n",
        "        pointString = convertPointToString(x,y)\n",
        "        pointSet.add(pointString)\n",
        "    \n",
        "    return pointSet\n",
        "\n",
        "def convertPointToString(x,y ):\n",
        "    return str(x) + \":\" + str(y)\n",
        "\n",
        "\n"
      ]
    },
    {
      "cell_type": "code",
      "source": [
        "points= [\n",
        "    [1, 5],\n",
        "    [5, 1],\n",
        "    [4, 2],\n",
        "    [2, 4],\n",
        "    [2, 2],\n",
        "    [1, 2],\n",
        "    [4, 5],\n",
        "    [2, 5],\n",
        "    [-1, -2]]\n",
        "print(minimumAreaRectangle(points))"
      ],
      "metadata": {
        "id": "hGmCgy-HD0lr"
      },
      "execution_count": null,
      "outputs": []
    },
    {
      "cell_type": "code",
      "source": [
        "# time = O (n^2)\n",
        "# space = O(n)\n",
        "def minimumAreaRectangle(points):\n",
        "    columns = initializeColumns(points)\n",
        "    minAreaRound = float(\"inf\")\n",
        "    edgesParalletToYAxis = {}    # 1 : [2,5] , 2 : [2,4,5], 4 : [5,2], 5 :[1], -1 : [-2] \n",
        " \n",
        "\n",
        "    sortedCol = sorted(columns.keys())  # -1 : [-2], 1 : [2,5] , 2 : [2,4,5], 4 : [5,2], 5 :[1],\n",
        "    for x in sortedCol:\n",
        "        yValuesInCurrentColumns = columns[x]\n",
        "        yValuesInCurrentColumns.sort() # 4 : [5,2] >>> 4:[2:5]\n",
        "\n",
        "        for currentIdx, y2 in enumerate(yValuesInCurrentColumns):\n",
        "            for previousIdx in range(currentIdx): \n",
        "                y1 = yValuesInCurrentColumns[previousIdx]\n",
        "                pointString = str(y1) + \":\" + str(y2)\n",
        "    \n",
        "                if pointString in edgesParalletToYAxis:\n",
        "                    currentArea = (x-edgesParalletToYAxis[pointString]) * (y2-y1)\n",
        "                    minAreaRound = min(minAreaRound,currentArea)\n",
        "    \n",
        "                edgesParalletToYAxis[pointString] = x\n",
        "\n",
        "    return minAreaRound if minAreaRound != float(\"inf\") else 0\n",
        "\n",
        "def initializeColumns(points):\n",
        "    columns = {}  # [2,5] is at the column 1 \n",
        "    # [2,5] : 1 , [2:4] : 2, \n",
        "    # [2,5] : 2 overwrite \n",
        "\n",
        "    for point in points:\n",
        "        x,y = point \n",
        "        if x not in columns:\n",
        "            columns[x] = [] # ????\n",
        "\n",
        "        columns[x].append(y)\n",
        "\n",
        "    return columns"
      ],
      "metadata": {
        "id": "K8EgJT-mD2mj"
      },
      "execution_count": null,
      "outputs": []
    }
  ]
}