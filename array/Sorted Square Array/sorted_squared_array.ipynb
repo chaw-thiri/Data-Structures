{
  "nbformat": 4,
  "nbformat_minor": 0,
  "metadata": {
    "colab": {
      "provenance": []
    },
    "kernelspec": {
      "name": "python3",
      "display_name": "Python 3"
    },
    "language_info": {
      "name": "python"
    }
  },
  "cells": [
    {
      "cell_type": "code",
      "execution_count": null,
      "metadata": {
        "colab": {
          "base_uri": "https://localhost:8080/"
        },
        "id": "gWdFw-ZeIvTS",
        "outputId": "ac18945b-664b-42ac-a5e9-b905c772d8cd"
      },
      "outputs": [
        {
          "output_type": "stream",
          "name": "stdout",
          "text": [
            "[1, 4, 9, 25, 36, 64, 81]\n"
          ]
        }
      ],
      "source": [
        "# time = O(nlogn)\n",
        "# space = O(n)\n",
        "def sortedSquaredArray(array):\n",
        "  final_array= []\n",
        "  for i in range(len(array)):\n",
        "      final_array.append(array[i]**2)\n",
        "  return sorted(final_array)\n",
        "print(sortedSquaredArray([1, 2, 3, 5, 6, 8, 9]))"
      ]
    },
    {
      "cell_type": "code",
      "source": [
        "# time = O(n)\n",
        "# space = O(n)\n",
        "def sortedSquaredArray(array):\n",
        "  start = 0\n",
        "  end = len(array)-1\n",
        "  new_array=[]\n",
        "  while start<=end:\n",
        "    if abs(array[start]) > abs(array[end]):\n",
        "      new_array.insert(0,(array[start])**2)\n",
        "      start += 1\n",
        "    else:\n",
        "      new_array.insert(0,(array[end])**2)\n",
        "      end -= 1\n",
        "  return new_array\n",
        "print(sortedSquaredArray([1, 2, 3, 5, 6, 8, 9]))\n"
      ],
      "metadata": {
        "colab": {
          "base_uri": "https://localhost:8080/"
        },
        "id": "u9bheQxJMnSj",
        "outputId": "9e5ef56d-5c33-4be1-b0cc-b9ebc48fc9f9"
      },
      "execution_count": null,
      "outputs": [
        {
          "output_type": "stream",
          "name": "stdout",
          "text": [
            "[1, 4, 9, 25, 36, 64, 81]\n"
          ]
        }
      ]
    }
  ]
}