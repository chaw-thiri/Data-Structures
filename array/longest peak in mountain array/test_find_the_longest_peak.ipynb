{
  "nbformat": 4,
  "nbformat_minor": 0,
  "metadata": {
    "colab": {
      "provenance": []
    },
    "kernelspec": {
      "name": "python3",
      "display_name": "Python 3"
    },
    "language_info": {
      "name": "python"
    }
  },
  "cells": [
    {
      "cell_type": "code",
      "execution_count": null,
      "metadata": {
        "id": "tPOk1FMjcnQI"
      },
      "outputs": [],
      "source": [
        "def longestPeak(arr):\n",
        "    n = 0\n",
        "    for num in range(1,len(arr)-1): # the last and first num cannot form a peak\n",
        "        if arr[num-1]< arr[num] and arr[num+1] < arr[num]: # arr[num] is the peak now \n",
        "            leftIdx = RightIdx = num\n",
        "            while leftIdx > 0 and arr[leftIdx]> arr[leftIdx-1]:\n",
        "                leftIdx -= 1\n",
        "            while RightIdx+1 < len(arr) and arr[RightIdx] > arr[RightIdx+1]:\n",
        "                RightIdx += 1\n",
        "            n = max(n, (RightIdx-leftIdx+1))\n",
        "    return n"
      ]
    }
  ]
}