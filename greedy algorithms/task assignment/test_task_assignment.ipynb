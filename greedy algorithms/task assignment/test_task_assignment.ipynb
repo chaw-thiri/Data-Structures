{
  "nbformat": 4,
  "nbformat_minor": 0,
  "metadata": {
    "colab": {
      "provenance": []
    },
    "kernelspec": {
      "name": "python3",
      "display_name": "Python 3"
    },
    "language_info": {
      "name": "python"
    }
  },
  "cells": [
    {
      "cell_type": "code",
      "execution_count": 1,
      "metadata": {
        "id": "54PBQ3SGf_Ri"
      },
      "outputs": [],
      "source": [
        "# O(nlog(n)) time | O(n) space where n is the number of tasks -\n",
        "def taskAssignment (k, tasks):\n",
        "    pairedTasks = []\n",
        "    taskDurationsToIndices = getTaskDurationsToIndices(tasks)\n",
        "\n",
        "    sortedTasks = sorted(tasks) # n log n\n",
        "    for idx in range(k):\n",
        "        task1Duration= sortedTasks[idx]\n",
        "        indicesWithTask1Duration = taskDurationsToIndices[task1Duration]\n",
        "        task1Index = indicesWithTask1Duration.pop()\n",
        "\n",
        "        task2SortedIndex = len(tasks) - 1 - idx # to join with the opposite one\n",
        "\n",
        "        task2Duration= sortedTasks[task2SortedIndex]\n",
        "        indicesWithTask2Duration = taskDurationsToIndices[task2Duration]\n",
        "        task2Index = indicesWithTask2Duration.pop()\n",
        "\n",
        "        pairedTasks.append([task1Index, task2Index])\n",
        "\n",
        "    return pairedTasks\n",
        "\n",
        "def getTaskDurationsToIndices(tasks):\n",
        "    taskDurationsToIndices = {}\n",
        "\n",
        "    for idx, taskDuration in enumerate(tasks): # if the value is already in the dict\n",
        "        if taskDuration in taskDurationsToIndices:\n",
        "            taskDurationsToIndices[taskDuration].append(idx)\n",
        "\n",
        "        else:\n",
        "            taskDurationsToIndices[taskDuration] = [idx]\n",
        "\n",
        "    return taskDurationsToIndices\n"
      ]
    }
  ]
}