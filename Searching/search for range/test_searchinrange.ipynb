{
  "nbformat": 4,
  "nbformat_minor": 0,
  "metadata": {
    "colab": {
      "provenance": []
    },
    "kernelspec": {
      "name": "python3",
      "display_name": "Python 3"
    },
    "language_info": {
      "name": "python"
    }
  },
  "cells": [
    {
      "cell_type": "code",
      "execution_count": 1,
      "metadata": {
        "colab": {
          "base_uri": "https://localhost:8080/"
        },
        "id": "mzudwQKC21WS",
        "outputId": "88bcfa9d-1320-40e1-f3b9-b4e855dfe05d"
      },
      "outputs": [
        {
          "output_type": "stream",
          "name": "stdout",
          "text": [
            "[4, 9]\n"
          ]
        }
      ],
      "source": [
        "def searchForRange(array,target):\n",
        "    left = searchForRangeHelper(array, target, True)\n",
        "    right = searchForRangeHelper(array, target, False)\n",
        "    return [left,right]\n",
        "\n",
        "\n",
        "# leftbias = true/ false, if false --> rightbias\n",
        "def searchForRangeHelper(array, target, leftbias):\n",
        "    left = 0 \n",
        "    right = len(array) - 1\n",
        "    i = -1\n",
        "    while left <= right: \n",
        "        mid = (left + right ) //2 \n",
        "        if target < array[mid]:\n",
        "            right = mid -1 \n",
        "        elif target > array[mid]:\n",
        "            left = mid + 1 \n",
        "        else: \n",
        "            i = mid\n",
        "            if leftbias:\n",
        "                right = mid -1 \n",
        "            else: \n",
        "                left = mid + 1\n",
        "    return i\n",
        "  \n",
        "array = [0, 1, 21, 33, 45, 45, 45, 45, 45, 45, 61, 71, 73]\n",
        "target = 45\n",
        "print(searchForRange(array,target))\n",
        "    "
      ]
    }
  ]
}