{
  "nbformat": 4,
  "nbformat_minor": 0,
  "metadata": {
    "colab": {
      "provenance": []
    },
    "kernelspec": {
      "name": "python3",
      "display_name": "Python 3"
    },
    "language_info": {
      "name": "python"
    }
  },
  "cells": [
    {
      "cell_type": "code",
      "execution_count": 1,
      "metadata": {
        "id": "vOqgeebRwl0q"
      },
      "outputs": [],
      "source": [
        "# time = O(n)\n",
        "# space = O(1)\n",
        "def validStartingCity(distances, fuel, mpg):\n",
        "    numberOfCities = len(distances)\n",
        "    milesRemaining = 0\n",
        "\n",
        "    indexOfStartingCityCandidate = 0\n",
        "    milesRemainingAtStartingCityCandidate = 0\n",
        "\n",
        "\n",
        "    for cityIdx in range(1, numberOfCities):\n",
        "        distanceFromPreviousCity = distances[cityIdx -1]\n",
        "        fuelFromPreviousCity = fuel[cityIdx -1]\n",
        "        milesRemaining += fuelFromPreviousCity * mpg - distanceFromPreviousCity\n",
        "\n",
        "        if milesRemaining < milesRemainingAtStartingCityCandidate:\n",
        "            milesRemainingAtStartingCityCandidate = milesRemaining\n",
        "            indexOfStartingCityCandidate = cityIdx\n",
        "\n",
        "    return indexOfStartingCityCandidate\n",
        "\n",
        "\n",
        "\n",
        "\n"
      ]
    },
    {
      "cell_type": "code",
      "source": [
        "distances= [5, 2, 3]\n",
        "fuel= [1, 0, 1]\n",
        "mpg=5\n",
        "print(validStartingCity(distances,fuel,mpg))"
      ],
      "metadata": {
        "colab": {
          "base_uri": "https://localhost:8080/"
        },
        "id": "XmjcBlZ3wxRw",
        "outputId": "c6edcb8c-7f51-43d0-9294-b5d1132f6d45"
      },
      "execution_count": 2,
      "outputs": [
        {
          "output_type": "stream",
          "name": "stdout",
          "text": [
            "2\n"
          ]
        }
      ]
    }
  ]
}