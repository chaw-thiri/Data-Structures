{
  "nbformat": 4,
  "nbformat_minor": 0,
  "metadata": {
    "colab": {
      "provenance": []
    },
    "kernelspec": {
      "name": "python3",
      "display_name": "Python 3"
    },
    "language_info": {
      "name": "python"
    }
  },
  "cells": [
    {
      "cell_type": "code",
      "execution_count": null,
      "metadata": {
        "id": "CNVrk_PHHN5i"
      },
      "outputs": [],
      "source": [
        "# space = O(h), where h = height of the shorter\n",
        "# time = O(n), n = no of nodes in the shorter tree\n",
        "class BinaryTree:\n",
        "    def __init__(self, value, left=None, right=None):\n",
        "        self.value = value\n",
        "        self.left = left\n",
        "        self.right = right\n",
        "\n",
        "\n",
        "def mergeBinaryTrees(tree1, tree2):\n",
        "    if tree1 is None: return tree2\n",
        "    if tree2 is None: return tree1\n",
        "    tree1.value += tree2.value\n",
        "    tree1.left = mergeBinaryTrees(tree1.left,tree2.left)\n",
        "    tree1.right = mergeBinaryTrees(tree1.right, tree2.right)\n",
        "    return tree1\n",
        "\n",
        "\n",
        "\n",
        "\n"
      ]
    },
    {
      "cell_type": "code",
      "source": [
        "# space = O(h), where h = height of the shorter\n",
        "# time = O(n), n = no of nodes in the shorter tree\n",
        "class BinaryTree:\n",
        "    def __init__(self, value, left=None, right=None):\n",
        "        self.value = value\n",
        "        self.left = left\n",
        "        self.right = right\n",
        "\n",
        "\n",
        "def mergeBinaryTrees(tree1, tree2):\n",
        "    if tree1 is None: return tree2\n",
        "    if tree2 is None: return tree1\n",
        "    tree3 = BinaryTree(0)\n",
        "    tree3.value = tree1.value + tree2.value\n",
        "    tree3.left = mergeBinaryTrees(tree1.left,tree2.left)\n",
        "    tree3.right = mergeBinaryTrees(tree1.right, tree2.right)\n",
        "    return tree3\n",
        "\n",
        "\n",
        "\n",
        "\n"
      ],
      "metadata": {
        "id": "CccA5k76HSjk"
      },
      "execution_count": null,
      "outputs": []
    },
    {
      "cell_type": "code",
      "source": [
        "# using stack\n",
        "# space = O(h), where h = height of the shorter\n",
        "# time = O(n), n = no of nodes in the shorter tree\n",
        "class BinaryTree:\n",
        "    def __init__(self,value, left= None, right= None):\n",
        "        self.value = value\n",
        "        self.left = left\n",
        "        self.right = right\n",
        "\n",
        "def mergeBinaryTrees(tree1,tree2):\n",
        "    if tree1 is None:\n",
        "        return tree2\n",
        "    tree1Stack =[tree1]\n",
        "    tree2Stack = [tree2]\n",
        "    # stack = Last In First Out\n",
        "    while len(tree1Stack) > 0:\n",
        "        tree1Node = tree1Stack.pop()\n",
        "        tree2Node = tree2Stack.pop()\n",
        "\n",
        "        if tree2Node is None: continue\n",
        "\n",
        "        tree1Node.value += tree2Node.value\n",
        "        if tree1Node.left is None:\n",
        "            tree1Node.left = tree2Node.left\n",
        "        else:\n",
        "            tree1Stack.append(tree1Node.left)\n",
        "            tree2Stack.append(tree2Node.left)\n",
        "\n",
        "        if tree1Node.right is None:\n",
        "            tree1Node.right = tree2Node.right\n",
        "        else:\n",
        "            tree1Stack.append(tree1Node.right)\n",
        "            tree2Stack.append(tree2Node.right)\n",
        "    return tree1"
      ],
      "metadata": {
        "id": "kUlpYLDUHUaB"
      },
      "execution_count": null,
      "outputs": []
    }
  ]
}