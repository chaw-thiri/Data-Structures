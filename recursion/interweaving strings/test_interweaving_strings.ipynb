{
  "nbformat": 4,
  "nbformat_minor": 0,
  "metadata": {
    "colab": {
      "provenance": []
    },
    "kernelspec": {
      "name": "python3",
      "display_name": "Python 3"
    },
    "language_info": {
      "name": "python"
    }
  },
  "cells": [
    {
      "cell_type": "code",
      "source": [
        "def interweavingStrings(one,two,three):\n",
        "    if len(three) != len(one) + len(two):\n",
        "        return False\n",
        "    cache =[[None for j in range(len(two)+1)]for i in range(len(one)+1)]\n",
        "    print(f\"C1 :{cache}\")\n",
        "    return areInterwoven(one,two,three,0,0,cache)\n",
        "\n",
        "def areInterwoven(one,two,three,i,j,cache):\n",
        "    if cache[i][j] is not None:\n",
        "        print(f\"C2 :{cache}\")      \n",
        "        return cache[i][j]\n",
        "    \n",
        "    k = i + j \n",
        "    if k ==len(three):\n",
        "        return True\n",
        "    \n",
        "    if i < len(one) and one[i]==three[k]:\n",
        "        print(f\"C3 :{cache}\")\n",
        "        cache[i][j]= areInterwoven(one,two,three,i+1,j,cache)\n",
        "        print(f\"C4 :{cache}\")\n",
        "        if cache[i][j]:\n",
        "            return True\n",
        "    \n",
        "    if j < len(two) and two[j]==three[k]:\n",
        "        print(f\"C5 :{cache}\")\n",
        "        cache[i][j]= areInterwoven(one,two,three,i,j+1,cache)\n",
        "        return cache[i][j]\n",
        "    \n",
        "    return False"
      ],
      "metadata": {
        "id": "CCyw6E-1S7iM"
      },
      "execution_count": 4,
      "outputs": []
    },
    {
      "cell_type": "code",
      "source": [
        "def interweavingStrings(one,two,three):\n",
        "    if len(three) != len(one) + len(two):\n",
        "        return False\n",
        "    return areInterwoven(one,two,three,0,0)\n",
        "def areInterwoven(one,two,three,i,j):\n",
        "    k = i + j \n",
        "    if k ==len(three):\n",
        "        return True\n",
        "    \n",
        "    if i < len(one) and one[i]==three[k]:\n",
        "        if areInterwoven(one,two,three, i+1, j):\n",
        "            return True\n",
        "    \n",
        "    if j < len(two) and two[j]==three[k]:\n",
        "        return areInterwoven(one,two,three, i, j+1)\n",
        "    \n",
        "    return False"
      ],
      "metadata": {
        "id": "Tt1mAFNEN1x0"
      },
      "execution_count": 1,
      "outputs": []
    },
    {
      "cell_type": "code",
      "source": [
        "one = \"po\"\n",
        "two = \"TO\"\n",
        "three =\"poTO\"\n",
        "print(interweavingStrings(one,two,three))\n"
      ],
      "metadata": {
        "colab": {
          "base_uri": "https://localhost:8080/"
        },
        "id": "aYyHGdUsORNy",
        "outputId": "e9ad8657-eed7-47ca-9c77-466ce6bd1b97"
      },
      "execution_count": 6,
      "outputs": [
        {
          "output_type": "stream",
          "name": "stdout",
          "text": [
            "C1 :[[None, None, None], [None, None, None], [None, None, None]]\n",
            "C3 :[[None, None, None], [None, None, None], [None, None, None]]\n",
            "C3 :[[None, None, None], [None, None, None], [None, None, None]]\n",
            "C5 :[[None, None, None], [None, None, None], [None, None, None]]\n",
            "C5 :[[None, None, None], [None, None, None], [None, None, None]]\n",
            "C4 :[[None, None, None], [True, None, None], [True, True, None]]\n",
            "C4 :[[True, None, None], [True, None, None], [True, True, None]]\n",
            "True\n"
          ]
        }
      ]
    }
  ]
}