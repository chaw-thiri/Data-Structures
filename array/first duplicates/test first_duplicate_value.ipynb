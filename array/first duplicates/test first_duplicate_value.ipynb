{
  "nbformat": 4,
  "nbformat_minor": 0,
  "metadata": {
    "colab": {
      "provenance": []
    },
    "kernelspec": {
      "name": "python3",
      "display_name": "Python 3"
    },
    "language_info": {
      "name": "python"
    }
  },
  "cells": [
    {
      "cell_type": "code",
      "execution_count": null,
      "metadata": {
        "id": "fc4X8Fut95vH"
      },
      "outputs": [],
      "source": [
        "def firstDuplicateValue(array):\n",
        "    min_inx_of_sec_duplicate = len(array)\n",
        "    for i in range(len(array)):\n",
        "        value = array[i]\n",
        "        for j in range( i+1, len(array)):\n",
        "            value_to_compare = array[j]\n",
        "            if value == value_to_compare:\n",
        "                min_inx_of_sec_duplicate = min(min_inx_of_sec_duplicate,j) # replaced by the closest the number to current if, if the original value is larger, it would not be replaced.\n",
        "    if min_inx_of_sec_duplicate == len(array):\n",
        "        return -1\n",
        "    return array[min_inx_of_sec_duplicate]"
      ]
    },
    {
      "cell_type": "code",
      "source": [
        "def firstDuplicateValue(array):\n",
        "    seen = set()\n",
        "\n",
        "    for num in array:\n",
        "        if num in seen: # the first duplicate\n",
        "            return num\n",
        "        seen.add(num) # haven't seen this number before\n",
        "    return -1 # no duplicate\n",
        "# if there is no duplicate in the array, seen set will store n number, thus O(n) space. "
      ],
      "metadata": {
        "id": "B-CqW3nS96lH"
      },
      "execution_count": null,
      "outputs": []
    },
    {
      "cell_type": "code",
      "source": [
        "def firstDuplicateValue(array):\n",
        "    for value in array:\n",
        "        abs_value = abs(value)\n",
        "        if array[abs_value -1] < 0:\n",
        "            return abs_value\n",
        "        array[abs_value] += -1\n",
        "    return -1"
      ],
      "metadata": {
        "id": "jrzlp8x49_hw"
      },
      "execution_count": null,
      "outputs": []
    }
  ]
}