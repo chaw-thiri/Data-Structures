{
  "nbformat": 4,
  "nbformat_minor": 0,
  "metadata": {
    "colab": {
      "provenance": []
    },
    "kernelspec": {
      "name": "python3",
      "display_name": "Python 3"
    },
    "language_info": {
      "name": "python"
    }
  },
  "cells": [
    {
      "cell_type": "code",
      "execution_count": 1,
      "metadata": {
        "id": "i5iadAU3TQxD"
      },
      "outputs": [],
      "source": [
        "def mergeOverlappingIntervals(intervals):\n",
        "    # sort the array first \n",
        "    sorted_interval = sorted(intervals, key = lambda x: x[0]) # sorted according to the start interval\n",
        "\n",
        "    # find the merge\n",
        "    merged_interval =[]\n",
        "    current_interval = sorted_interval[0]\n",
        "    merged_interval.append(current_interval)\n",
        "\n",
        "    \n",
        "    for nextInterval in sorted_interval:\n",
        "        # for clarity name the start and end of the current and next varaible seperately \n",
        "        _, currentIntervalEnd = current_interval\n",
        "        next_interval_start, next_interval_end = nextInterval\n",
        "        if currentIntervalEnd >= next_interval_start: # without equal, start and end duplicates will be skipped.\n",
        "            current_interval[1]= max(currentIntervalEnd,next_interval_end)\n",
        "        else:\n",
        "            current_interval = nextInterval # modify current interval for next comparison\n",
        "            merged_interval.append(current_interval)\n",
        "    return merged_interval"
      ]
    }
  ]
}