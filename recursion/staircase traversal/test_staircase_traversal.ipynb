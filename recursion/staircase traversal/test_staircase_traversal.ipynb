{
  "nbformat": 4,
  "nbformat_minor": 0,
  "metadata": {
    "colab": {
      "provenance": []
    },
    "kernelspec": {
      "name": "python3",
      "display_name": "Python 3"
    },
    "language_info": {
      "name": "python"
    }
  },
  "cells": [
    {
      "cell_type": "code",
      "execution_count": null,
      "metadata": {
        "id": "5yaaY7jJATXc"
      },
      "outputs": [],
      "source": [
        "# time = O(k^n), space O(n)\n",
        "def staircaseTraversal(height,maxSteps):\n",
        "    return numberofWaysToTop(height,maxSteps)\n",
        "def numberofWaysToTop(height,maxSteps):\n",
        "    if height <= 1:\n",
        "        return 1 \n",
        "    numberOfWays =0\n",
        "    for step in range(1, min(maxSteps, height)+1):\n",
        "        numberOfWays += numberofWaysToTop(height-step,maxSteps)\n",
        "    return numberOfWays"
      ]
    },
    {
      "cell_type": "code",
      "source": [
        "\n",
        "def staircaseTraversal(height, maxSteps):\n",
        "    return numberOfWaysToTop(height, maxSteps, {0: 1, 1: 1})\n",
        "def numberOfWaysToTop(height, maxSteps, memoize):\n",
        "    if height in memoize:\n",
        "        return memoize[height]\n",
        "    numberOfWays = 0\n",
        "    for step in range(1, min(maxSteps, height) + 1):\n",
        "        numberOfWays += numberOfWaysToTop(height - step, maxSteps, memoize)\n",
        "    memoize[height] = numberOfWays\n",
        "    return numberOfWays"
      ],
      "metadata": {
        "id": "o4njeW2NAcHr"
      },
      "execution_count": null,
      "outputs": []
    },
    {
      "cell_type": "code",
      "source": [
        "\n",
        "# O(n * k) time | O(n) space - where n is the height of the staircase and k is the number of allowed steps\n",
        "def staircaseTraversal(height, maxSteps):\n",
        "    waysToTop = [0 for _ in range(height + 1)]\n",
        "    waysToTop[0] = 1\n",
        "    waysToTop[1] = 1\n",
        "    for currentHeight in range(2, height + 1):\n",
        "        step = 1\n",
        "        while step <= maxSteps and step <= currentHeight:\n",
        "            waysToTop[currentHeight] = waysToTop[currentHeight] + waysToTop[currentHeight - step]\n",
        "            step += 1\n",
        "    return waysToTop[height]"
      ],
      "metadata": {
        "id": "CVPGJgMJAd4-"
      },
      "execution_count": null,
      "outputs": []
    },
    {
      "cell_type": "code",
      "source": [],
      "metadata": {
        "id": "o9NWb7u9AfP4"
      },
      "execution_count": null,
      "outputs": []
    },
    {
      "cell_type": "code",
      "source": [
        "\n",
        "# O(n) time | O(n) space - where n is the height of the staircase\n",
        "def staircaseTraversal(height, maxSteps):\n",
        "    currentNumberOfWays = 0\n",
        "    waysToTop = [1]\n",
        "    for currentHeight in range(1, height + 1):\n",
        "        startOfWindow = currentHeight - maxSteps - 1\n",
        "        endOfWindow = currentHeight - 1\n",
        "        if startOfWindow >= 0:\n",
        "            currentNumberOfWays -= waysToTop[startOfWindow]\n",
        "        currentNumberOfWays += waysToTop[endOfWindow]\n",
        "        waysToTop.append(currentNumberOfWays)\n",
        "    return waysToTop[height]"
      ],
      "metadata": {
        "id": "RAPxDuhEAh20"
      },
      "execution_count": null,
      "outputs": []
    }
  ]
}