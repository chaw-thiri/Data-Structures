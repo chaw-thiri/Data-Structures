{
  "nbformat": 4,
  "nbformat_minor": 0,
  "metadata": {
    "colab": {
      "provenance": []
    },
    "kernelspec": {
      "name": "python3",
      "display_name": "Python 3"
    },
    "language_info": {
      "name": "python"
    }
  },
  "cells": [
    {
      "cell_type": "code",
      "execution_count": null,
      "metadata": {
        "id": "wm1QrBcCkLuG"
      },
      "outputs": [],
      "source": [
        "# This is an input class. Do not edit.\n",
        "class BinaryTree:\n",
        "    def __init__(self, value, left=None, right=None):\n",
        "        self.value = value\n",
        "        self.left = left\n",
        "        self.right = right\n",
        "# time = O(n)\n",
        "# space = O(h)\n",
        "\n",
        "def symmetricalTree(tree):\n",
        "   return treesAreMirrored(tree.left, tree.right)\n",
        "def treesAreMirrored(left,right):\n",
        "    if (left is not None\n",
        "    and right is not None\n",
        "    and left.value==right.value):\n",
        "        return (treesAreMirrored(left.left, right.right )\n",
        "                and treesAreMirrored(left.right, right.left))\n",
        "    return left == right\n",
        "\n"
      ]
    },
    {
      "cell_type": "code",
      "source": [
        "# time = O(n)\n",
        "# space = O(h)\n",
        "class BinaryTree:\n",
        "    def __init__(self, value, left=None, right=None):\n",
        "        self.value = value\n",
        "        self.left = left\n",
        "        self.right = right\n",
        "\n",
        "\n",
        "def symmetricalTree(tree):\n",
        "    if tree is None:\n",
        "        return True  # An empty tree is considered symmetrical\n",
        "\n",
        "    return isSymmetrical(tree.left, tree.right)\n",
        "\n",
        "\n",
        "def isSymmetrical(left, right):\n",
        "    if left is None and right is None:\n",
        "        return True  # If both subtrees are empty, they are symmetrical\n",
        "\n",
        "    if left is None or right is None or left.value != right.value:\n",
        "        return False  # If only one subtree is empty or the values differ, they are not symmetrical\n",
        "\n",
        "    return (\n",
        "        isSymmetrical(left.left, right.right) and\n",
        "        isSymmetrical(left.right, right.left)\n",
        "    )  # Recursively check if the mirrored subtrees are symmetrical\n"
      ],
      "metadata": {
        "id": "rwDdk82ckM9m"
      },
      "execution_count": null,
      "outputs": []
    },
    {
      "cell_type": "code",
      "source": [
        "# stack sol\n",
        "# O(n) time\n",
        "# O(h) space\n",
        "class BinaryTree:\n",
        "    def __init__(self, value, left=None, right=None):\n",
        "        self.value = value\n",
        "        self.left = left\n",
        "        self.right = right\n",
        "\n",
        "\n",
        "def symmetricalTree(tree):\n",
        "    stackLeft = [tree.left]\n",
        "    stackRight = [tree.right ]\n",
        "    while len(stackLeft) > 0:\n",
        "        left = stackLeft.pop()\n",
        "        right = stackRight.pop()\n",
        "        if left is None and right is None:\n",
        "            continue\n",
        "        if left is None or right is None or left.value != right.value:\n",
        "            return False\n",
        "\n",
        "        stackLeft.append(left.left)\n",
        "        stackLeft.append(left.right)\n",
        "        stackRight.append(right.right)\n",
        "        stackRight.append(right.left)\n",
        "    return True"
      ],
      "metadata": {
        "id": "Hvefown6kQ6p"
      },
      "execution_count": null,
      "outputs": []
    }
  ]
}