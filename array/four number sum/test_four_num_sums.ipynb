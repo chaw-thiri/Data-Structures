{
  "nbformat": 4,
  "nbformat_minor": 0,
  "metadata": {
    "colab": {
      "provenance": []
    },
    "kernelspec": {
      "name": "python3",
      "display_name": "Python 3"
    },
    "language_info": {
      "name": "python"
    }
  },
  "cells": [
    {
      "cell_type": "code",
      "source": [
        "def fourNumberSum(array, targetSum):\n",
        "    allPairSum = {}\n",
        "    quadruplets = []\n",
        "    for i in range(1,len(array)-1):\n",
        "        for j in range(i+1,len(array)):\n",
        "            currentSum = array[i]+ array[j]\n",
        "            difference = targetSum -currentSum\n",
        "            if difference in allPairSum:\n",
        "                for pair in allPairSum[difference]:\n",
        "                    quadruplets.append(pair + [array[i],array[j]])\n",
        "        for k in range(0,i):\n",
        "            currentSum = array[i]+ array[k]\n",
        "            if currentSum not in allPairSum:\n",
        "                allPairSum[currentSum]= [[array[k],array[i]]]\n",
        "            else:\n",
        "                allPairSum[currentSum].append([array[k],array[i]])\n",
        "    return quadruplets"
      ],
      "metadata": {
        "id": "LtoNzYZrOg21"
      },
      "execution_count": 1,
      "outputs": []
    }
  ]
}