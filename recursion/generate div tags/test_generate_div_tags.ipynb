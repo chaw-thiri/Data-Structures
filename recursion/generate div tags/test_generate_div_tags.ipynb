{
  "nbformat": 4,
  "nbformat_minor": 0,
  "metadata": {
    "colab": {
      "provenance": []
    },
    "kernelspec": {
      "name": "python3",
      "display_name": "Python 3"
    },
    "language_info": {
      "name": "python"
    }
  },
  "cells": [
    {
      "cell_type": "code",
      "source": [
        "  # O((2n)!/(n!((n+1)!)))) time and space \n",
        "# n = input number \n",
        "def generateDivTags(numberOfTags):\n",
        "    matchedDivTags = []\n",
        "    generateDivTagsFromPrefix(numberOfTags,numberOfTags,\"\",matchedDivTags)\n",
        "    return matchedDivTags\n",
        "def generateDivTagsFromPrefix(openingTagNeeded,closingTagNeeded, prefix, result):\n",
        "    if openingTagNeeded > 0:\n",
        "        newPrefix = prefix + \"<div>\"\n",
        "        generateDivTagsFromPrefix(openingTagNeeded-1, closingTagNeeded,newPrefix, result)\n",
        "\n",
        "    if openingTagNeeded < closingTagNeeded:\n",
        "        newPrefix = prefix + \"</div>\"\n",
        "        generateDivTagsFromPrefix(openingTagNeeded, closingTagNeeded-1, newPrefix, result)\n",
        "\n",
        "    if closingTagNeeded == 0:\n",
        "        result.append(prefix)"
      ],
      "metadata": {
        "id": "v8b3jmPnrs2U"
      },
      "execution_count": 1,
      "outputs": []
    },
    {
      "cell_type": "code",
      "source": [
        "print(generateDivTags(6))"
      ],
      "metadata": {
        "colab": {
          "base_uri": "https://localhost:8080/"
        },
        "id": "Y6UpjTPSj3Pq",
        "outputId": "d5205bb6-443d-48cc-da30-165716f8dd33"
      },
      "execution_count": 3,
      "outputs": [
        {
          "output_type": "stream",
          "name": "stdout",
          "text": [
            "['<div><div><div><div><div><div></div></div></div></div></div></div>', '<div><div><div><div><div></div><div></div></div></div></div></div>', '<div><div><div><div><div></div></div><div></div></div></div></div>', '<div><div><div><div><div></div></div></div><div></div></div></div>', '<div><div><div><div><div></div></div></div></div><div></div></div>', '<div><div><div><div><div></div></div></div></div></div><div></div>', '<div><div><div><div></div><div><div></div></div></div></div></div>', '<div><div><div><div></div><div></div><div></div></div></div></div>', '<div><div><div><div></div><div></div></div><div></div></div></div>', '<div><div><div><div></div><div></div></div></div><div></div></div>', '<div><div><div><div></div><div></div></div></div></div><div></div>', '<div><div><div><div></div></div><div><div></div></div></div></div>', '<div><div><div><div></div></div><div></div><div></div></div></div>', '<div><div><div><div></div></div><div></div></div><div></div></div>', '<div><div><div><div></div></div><div></div></div></div><div></div>', '<div><div><div><div></div></div></div><div><div></div></div></div>', '<div><div><div><div></div></div></div><div></div><div></div></div>', '<div><div><div><div></div></div></div><div></div></div><div></div>', '<div><div><div><div></div></div></div></div><div><div></div></div>', '<div><div><div><div></div></div></div></div><div></div><div></div>', '<div><div><div></div><div><div><div></div></div></div></div></div>', '<div><div><div></div><div><div></div><div></div></div></div></div>', '<div><div><div></div><div><div></div></div><div></div></div></div>', '<div><div><div></div><div><div></div></div></div><div></div></div>', '<div><div><div></div><div><div></div></div></div></div><div></div>', '<div><div><div></div><div></div><div><div></div></div></div></div>', '<div><div><div></div><div></div><div></div><div></div></div></div>', '<div><div><div></div><div></div><div></div></div><div></div></div>', '<div><div><div></div><div></div><div></div></div></div><div></div>', '<div><div><div></div><div></div></div><div><div></div></div></div>', '<div><div><div></div><div></div></div><div></div><div></div></div>', '<div><div><div></div><div></div></div><div></div></div><div></div>', '<div><div><div></div><div></div></div></div><div><div></div></div>', '<div><div><div></div><div></div></div></div><div></div><div></div>', '<div><div><div></div></div><div><div><div></div></div></div></div>', '<div><div><div></div></div><div><div></div><div></div></div></div>', '<div><div><div></div></div><div><div></div></div><div></div></div>', '<div><div><div></div></div><div><div></div></div></div><div></div>', '<div><div><div></div></div><div></div><div><div></div></div></div>', '<div><div><div></div></div><div></div><div></div><div></div></div>', '<div><div><div></div></div><div></div><div></div></div><div></div>', '<div><div><div></div></div><div></div></div><div><div></div></div>', '<div><div><div></div></div><div></div></div><div></div><div></div>', '<div><div><div></div></div></div><div><div><div></div></div></div>', '<div><div><div></div></div></div><div><div></div><div></div></div>', '<div><div><div></div></div></div><div><div></div></div><div></div>', '<div><div><div></div></div></div><div></div><div><div></div></div>', '<div><div><div></div></div></div><div></div><div></div><div></div>', '<div><div></div><div><div><div><div></div></div></div></div></div>', '<div><div></div><div><div><div></div><div></div></div></div></div>', '<div><div></div><div><div><div></div></div><div></div></div></div>', '<div><div></div><div><div><div></div></div></div><div></div></div>', '<div><div></div><div><div><div></div></div></div></div><div></div>', '<div><div></div><div><div></div><div><div></div></div></div></div>', '<div><div></div><div><div></div><div></div><div></div></div></div>', '<div><div></div><div><div></div><div></div></div><div></div></div>', '<div><div></div><div><div></div><div></div></div></div><div></div>', '<div><div></div><div><div></div></div><div><div></div></div></div>', '<div><div></div><div><div></div></div><div></div><div></div></div>', '<div><div></div><div><div></div></div><div></div></div><div></div>', '<div><div></div><div><div></div></div></div><div><div></div></div>', '<div><div></div><div><div></div></div></div><div></div><div></div>', '<div><div></div><div></div><div><div><div></div></div></div></div>', '<div><div></div><div></div><div><div></div><div></div></div></div>', '<div><div></div><div></div><div><div></div></div><div></div></div>', '<div><div></div><div></div><div><div></div></div></div><div></div>', '<div><div></div><div></div><div></div><div><div></div></div></div>', '<div><div></div><div></div><div></div><div></div><div></div></div>', '<div><div></div><div></div><div></div><div></div></div><div></div>', '<div><div></div><div></div><div></div></div><div><div></div></div>', '<div><div></div><div></div><div></div></div><div></div><div></div>', '<div><div></div><div></div></div><div><div><div></div></div></div>', '<div><div></div><div></div></div><div><div></div><div></div></div>', '<div><div></div><div></div></div><div><div></div></div><div></div>', '<div><div></div><div></div></div><div></div><div><div></div></div>', '<div><div></div><div></div></div><div></div><div></div><div></div>', '<div><div></div></div><div><div><div><div></div></div></div></div>', '<div><div></div></div><div><div><div></div><div></div></div></div>', '<div><div></div></div><div><div><div></div></div><div></div></div>', '<div><div></div></div><div><div><div></div></div></div><div></div>', '<div><div></div></div><div><div></div><div><div></div></div></div>', '<div><div></div></div><div><div></div><div></div><div></div></div>', '<div><div></div></div><div><div></div><div></div></div><div></div>', '<div><div></div></div><div><div></div></div><div><div></div></div>', '<div><div></div></div><div><div></div></div><div></div><div></div>', '<div><div></div></div><div></div><div><div><div></div></div></div>', '<div><div></div></div><div></div><div><div></div><div></div></div>', '<div><div></div></div><div></div><div><div></div></div><div></div>', '<div><div></div></div><div></div><div></div><div><div></div></div>', '<div><div></div></div><div></div><div></div><div></div><div></div>', '<div></div><div><div><div><div><div></div></div></div></div></div>', '<div></div><div><div><div><div></div><div></div></div></div></div>', '<div></div><div><div><div><div></div></div><div></div></div></div>', '<div></div><div><div><div><div></div></div></div><div></div></div>', '<div></div><div><div><div><div></div></div></div></div><div></div>', '<div></div><div><div><div></div><div><div></div></div></div></div>', '<div></div><div><div><div></div><div></div><div></div></div></div>', '<div></div><div><div><div></div><div></div></div><div></div></div>', '<div></div><div><div><div></div><div></div></div></div><div></div>', '<div></div><div><div><div></div></div><div><div></div></div></div>', '<div></div><div><div><div></div></div><div></div><div></div></div>', '<div></div><div><div><div></div></div><div></div></div><div></div>', '<div></div><div><div><div></div></div></div><div><div></div></div>', '<div></div><div><div><div></div></div></div><div></div><div></div>', '<div></div><div><div></div><div><div><div></div></div></div></div>', '<div></div><div><div></div><div><div></div><div></div></div></div>', '<div></div><div><div></div><div><div></div></div><div></div></div>', '<div></div><div><div></div><div><div></div></div></div><div></div>', '<div></div><div><div></div><div></div><div><div></div></div></div>', '<div></div><div><div></div><div></div><div></div><div></div></div>', '<div></div><div><div></div><div></div><div></div></div><div></div>', '<div></div><div><div></div><div></div></div><div><div></div></div>', '<div></div><div><div></div><div></div></div><div></div><div></div>', '<div></div><div><div></div></div><div><div><div></div></div></div>', '<div></div><div><div></div></div><div><div></div><div></div></div>', '<div></div><div><div></div></div><div><div></div></div><div></div>', '<div></div><div><div></div></div><div></div><div><div></div></div>', '<div></div><div><div></div></div><div></div><div></div><div></div>', '<div></div><div></div><div><div><div><div></div></div></div></div>', '<div></div><div></div><div><div><div></div><div></div></div></div>', '<div></div><div></div><div><div><div></div></div><div></div></div>', '<div></div><div></div><div><div><div></div></div></div><div></div>', '<div></div><div></div><div><div></div><div><div></div></div></div>', '<div></div><div></div><div><div></div><div></div><div></div></div>', '<div></div><div></div><div><div></div><div></div></div><div></div>', '<div></div><div></div><div><div></div></div><div><div></div></div>', '<div></div><div></div><div><div></div></div><div></div><div></div>', '<div></div><div></div><div></div><div><div><div></div></div></div>', '<div></div><div></div><div></div><div><div></div><div></div></div>', '<div></div><div></div><div></div><div><div></div></div><div></div>', '<div></div><div></div><div></div><div></div><div><div></div></div>', '<div></div><div></div><div></div><div></div><div></div><div></div>']\n"
          ]
        }
      ]
    }
  ]
}