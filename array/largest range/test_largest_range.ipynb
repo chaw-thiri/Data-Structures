{
  "nbformat": 4,
  "nbformat_minor": 0,
  "metadata": {
    "colab": {
      "provenance": []
    },
    "kernelspec": {
      "name": "python3",
      "display_name": "Python 3"
    },
    "language_info": {
      "name": "python"
    }
  },
  "cells": [
    {
      "cell_type": "code",
      "source": [
        "# time = O(n)\n",
        "# space = O(n)\n",
        "def largestRange(array):\n",
        "    bestRange = []\n",
        "    longestLenght = 0\n",
        "    nums = {}\n",
        "    for num in array:\n",
        "        nums[num] = True\n",
        "    \n",
        "    for num in array:\n",
        "        if not nums[num]:\n",
        "            continue\n",
        "        nums[num] = False\n",
        "        currentLength = 1\n",
        "        left = num-1\n",
        "        right = num+1\n",
        "        while left in nums:\n",
        "            nums[left] = False\n",
        "            currentLength += 1\n",
        "            left -= 1\n",
        "        while right in nums:\n",
        "            nums[right] = False\n",
        "            currentLength += 1\n",
        "            right += 1\n",
        "        if currentLength > longestLenght:\n",
        "            longestLenght = currentLength\n",
        "            bestRange =[left+1, right-1]\n",
        "    return bestRange"
      ],
      "metadata": {
        "id": "kDeF9dLcDW3G"
      },
      "execution_count": null,
      "outputs": []
    }
  ]
}