{
  "nbformat": 4,
  "nbformat_minor": 0,
  "metadata": {
    "colab": {
      "provenance": []
    },
    "kernelspec": {
      "name": "python3",
      "display_name": "Python 3"
    },
    "language_info": {
      "name": "python"
    }
  },
  "cells": [
    {
      "cell_type": "code",
      "execution_count": null,
      "metadata": {
        "id": "ApxYjxdldiKc"
      },
      "outputs": [],
      "source": [
        "# T = O(n) , S = O(log n)\n",
        "def maxPathSum(tree):\n",
        "    _, maxSum = findMaxSum(tree)\n",
        "    return maxSum\n",
        "\n",
        "def findMaxSum(tree):\n",
        "    if tree is None:\n",
        "        return (0, float(\"-inf\"))\n",
        "\n",
        "    leftMaxSumAsBranch, leftMaxPathSum = findMaxSum(tree.left)\n",
        "    rightMaxSumAsBranch, rightMaxPathSum = findMaxSum(tree.right)\n",
        "    maxChildSumAsBranch = max(leftMaxSumAsBranch,rightMaxSumAsBranch)\n",
        "\n",
        "    value = tree.value\n",
        "    maxSumAsBranch = max(maxChildSumAsBranch+value,value)\n",
        "    maxSumAsRootNode = max(leftMaxSumAsBranch+ value + rightMaxSumAsBranch,maxSumAsBranch)\n",
        "    maxPathSum = max(leftMaxPathSum, rightMaxPathSum, maxSumAsRootNode)\n",
        "\n",
        "    return (maxSumAsBranch, maxPathSum)"
      ]
    }
  ]
}