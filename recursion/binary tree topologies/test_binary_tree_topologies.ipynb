{
  "nbformat": 4,
  "nbformat_minor": 0,
  "metadata": {
    "colab": {
      "provenance": []
    },
    "kernelspec": {
      "name": "python3",
      "display_name": "Python 3"
    },
    "language_info": {
      "name": "python"
    }
  },
  "cells": [
    {
      "cell_type": "code",
      "source": [
        "\"\"\" binary tree topolgy = unique binary combination of \n",
        "n node without caring about the node value \"\"\"\n",
        "# solution 1 \n",
        "# time = O((n*(2n)!)/(n!(n+1)!))\n",
        "# space = O(n)\n",
        "def numberOfBinaryTreeTopologies(n):\n",
        "    if n == 0 :\n",
        "        return 1\n",
        "\n",
        "    numOfTrees = 0\n",
        "    for leftTreeSize in range(n):\n",
        "        rightTreeSize = n-1-leftTreeSize\n",
        "        numOfLeftTree = numberOfBinaryTreeTopologies(leftTreeSize)\n",
        "        numOfRightTree = numberOfBinaryTreeTopologies(rightTreeSize)\n",
        "        numOfTrees += numOfLeftTree * numOfRightTree\n",
        "    return numOfTrees"
      ],
      "metadata": {
        "id": "KQ5QzbusOLMq"
      },
      "execution_count": null,
      "outputs": []
    },
    {
      "cell_type": "code",
      "source": [
        "# O(n^2) time \n",
        "#O(n) space\n",
        "def numberOfBinaryTreeTopologies(n, cache={0:1}):\n",
        "    if n in cache:\n",
        "        return cache[n]\n",
        "\n",
        "    numOfTrees = 0\n",
        "    for leftTreeSize in range(n):\n",
        "        rightTreeSize = n-1-leftTreeSize\n",
        "        numOfLeftTree = numberOfBinaryTreeTopologies(leftTreeSize, cache)\n",
        "        numOfRightTree = numberOfBinaryTreeTopologies(rightTreeSize, cache)\n",
        "        numOfTrees += numOfLeftTree * numOfRightTree\n",
        "    cache[n]= numOfTrees\n",
        "    return numOfTrees"
      ],
      "metadata": {
        "id": "S45AujWiOLPq"
      },
      "execution_count": null,
      "outputs": []
    },
    {
      "cell_type": "code",
      "source": [
        "# O(n^2) time \n",
        "#O(n) space\n",
        "def numberOfBinaryTreeTopologies(n):\n",
        "    cache = [1]\n",
        "    for m in range(1, n+1):\n",
        "        numOfTrees = 0\n",
        "        for leftTreeSize in range(m):\n",
        "            rightTreeSize = m-1-leftTreeSize\n",
        "            numOfLeftTree = cache[leftTreeSize]\n",
        "            numOfRightTree = cache[rightTreeSize]\n",
        "            numOfTrees += numOfLeftTree * numOfRightTree\n",
        "        cache.append(numOfTrees)\n",
        "    return cache[n]"
      ],
      "metadata": {
        "id": "Wiicl8F3OLSb"
      },
      "execution_count": null,
      "outputs": []
    }
  ]
}