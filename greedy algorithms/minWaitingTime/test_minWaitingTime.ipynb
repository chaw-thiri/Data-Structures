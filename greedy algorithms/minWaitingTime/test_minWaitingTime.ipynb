{
  "nbformat": 4,
  "nbformat_minor": 0,
  "metadata": {
    "colab": {
      "provenance": []
    },
    "kernelspec": {
      "name": "python3",
      "display_name": "Python 3"
    },
    "language_info": {
      "name": "python"
    }
  },
  "cells": [
    {
      "cell_type": "code",
      "execution_count": null,
      "metadata": {
        "id": "AU3PKtq74aYs"
      },
      "outputs": [],
      "source": [
        "# T = O(n log n), due to sorting\n",
        "# S = O(1)\n",
        "def minimumWaitingTime(queries):\n",
        "    queries.sort() # t = n log n\n",
        "\n",
        "    totalWaitingTime = 0\n",
        "\n",
        "    for idx, duration in enumerate(queries): # n\n",
        "        queriesleft = len(queries)-(idx+1)   # idx = +1 cuz idx starts at 0\n",
        "        totalWaitingTime += duration * queriesleft\n",
        "\n",
        "    return totalWaitingTime\n",
        "\n",
        "\n",
        "# since n log n > n , net = O(n log n)"
      ]
    }
  ]
}