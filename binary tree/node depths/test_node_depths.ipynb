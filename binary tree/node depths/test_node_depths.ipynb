{
  "nbformat": 4,
  "nbformat_minor": 0,
  "metadata": {
    "colab": {
      "provenance": []
    },
    "kernelspec": {
      "name": "python3",
      "display_name": "Python 3"
    },
    "language_info": {
      "name": "python"
    }
  },
  "cells": [
    {
      "cell_type": "code",
      "execution_count": null,
      "metadata": {
        "id": "Gp6rmxzOmc2q"
      },
      "outputs": [],
      "source": [
        "# recursive solution\n",
        "# T = O(n) , n = total num of nodes\n",
        "# S = O(d) , d = depth of the tree\n",
        "# the max num of call stack wil be d\n",
        "def nodeDepths(root):\n",
        "\n",
        "    return nodeDepthsFinder(root,0)\n",
        "\n",
        "\n",
        "def nodeDepthsFinder(currNode, depth):\n",
        "    if currNode is None:\n",
        "        return 0\n",
        "    return depth+nodeDepthsFinder(currNode.left, depth+1)+nodeDepthsFinder(currNode.right, depth+1)\n",
        "    # why ???\n",
        "    # with depth, the ans will always be ZERO\n",
        "\n",
        "\n",
        "# This is the class of the input binary tree.\n",
        "class BinaryTree:\n",
        "    def __init__(self, value):\n",
        "        self.value = value\n",
        "        self.left = None\n",
        "        self.right = None\n"
      ]
    }
  ]
}