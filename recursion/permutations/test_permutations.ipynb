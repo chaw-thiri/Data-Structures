{
  "nbformat": 4,
  "nbformat_minor": 0,
  "metadata": {
    "colab": {
      "provenance": []
    },
    "kernelspec": {
      "name": "python3",
      "display_name": "Python 3"
    },
    "language_info": {
      "name": "python"
    }
  },
  "cells": [
    {
      "cell_type": "code",
      "execution_count": 1,
      "metadata": {
        "colab": {
          "base_uri": "https://localhost:8080/"
        },
        "id": "2aneLi8cqraa",
        "outputId": "8bca81e9-1a7e-489a-b9a1-7526c77e3449"
      },
      "outputs": [
        {
          "output_type": "stream",
          "name": "stdout",
          "text": [
            "[[1, 2, 3], [1, 3, 2], [2, 1, 3], [2, 3, 1], [3, 1, 2], [3, 2, 1]]\n"
          ]
        }
      ],
      "source": [
        "def getPermutations(array):\n",
        "    permutations = []\n",
        "    permutationsHelper(array,[],permutations)\n",
        "    return permutations\n",
        "def permutationsHelper(array,currentPermutations,permutations):\n",
        "    if  len(array) == 0 and len(currentPermutations) != 0: \n",
        "        permutations.append(currentPermutations) # return the empty array\n",
        "    else:\n",
        "        for i in range(len(array)):\n",
        "            newArray = array[:i] + array[i+1:]\n",
        "            # print(f\"new array :{newArray}\")\n",
        "            # print (f\"current permu :{currentPermutations}\")\n",
        "\n",
        "\n",
        "            newPermutation = currentPermutations + [array[i]]\n",
        "            # print(f\"new permutations {newPermutation}\")\n",
        "            # print(permutations)\n",
        "            # print(\"\\n\")\n",
        "            permutationsHelper(newArray, newPermutation, permutations)\n",
        "            \n",
        "\n",
        "array = [1,2,3]\n",
        "print(getPermutations(array))"
      ]
    },
    {
      "cell_type": "code",
      "source": [
        "def getPermutations(array):\n",
        "    permutations =[]\n",
        "    permutationsHelper(0,array,permutations)\n",
        "    return permutations\n",
        "def permutationsHelper(i,array,permutations):\n",
        "    if i == len(array)-1:\n",
        "        permutations.append(array[:])\n",
        "    else:\n",
        "        for j in range(i,len(array)):\n",
        "            swap(array,i,j)\n",
        "            permutationsHelper(i+1,array,permutations)\n",
        "            swap(array,i,j)\n",
        "def swap(array, i , j):\n",
        "    array[i], array[j] = array[j], array[i]\n"
      ],
      "metadata": {
        "id": "i-nFr89SpTr-"
      },
      "execution_count": null,
      "outputs": []
    },
    {
      "cell_type": "code",
      "source": [],
      "metadata": {
        "id": "5ENJkcWnYoD2"
      },
      "execution_count": null,
      "outputs": []
    }
  ]
}