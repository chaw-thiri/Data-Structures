{
  "nbformat": 4,
  "nbformat_minor": 0,
  "metadata": {
    "colab": {
      "provenance": []
    },
    "kernelspec": {
      "name": "python3",
      "display_name": "Python 3"
    },
    "language_info": {
      "name": "python"
    }
  },
  "cells": [
    {
      "cell_type": "code",
      "execution_count": null,
      "metadata": {
        "id": "6KcOCv_Uzpsj"
      },
      "outputs": [],
      "source": [
        "# time = O(n)\n",
        "# space = O(d) , call stack = depth of the tree\n",
        "\n",
        "class BinaryTree:\n",
        "    def __init__(self, value, left=None, right=None):\n",
        "        self.value = value\n",
        "        self.left = left\n",
        "        self.right = right\n",
        "# -1 L + R\n",
        "# -2 L - R\n",
        "# -3 L // R\n",
        "# -4 L * R\n",
        "\n",
        "def evaluateExpressionTree(tree):\n",
        "    # base case => reach the leaves, no operation can be done\n",
        "    if (tree.value >= 0):\n",
        "        return tree.value\n",
        "    leftValue = evaluateExpressionTree(tree.left)\n",
        "    rightValue = evaluateExpressionTree(tree.right)\n",
        "    if tree.value == -1:\n",
        "        return leftValue + rightValue\n",
        "    elif tree.value == -2:\n",
        "        return leftValue - rightValue\n",
        "    elif tree.value == -3:\n",
        "        return int(leftValue / rightValue) ## round to zero\n",
        "    else:\n",
        "        return leftValue* rightValue\n",
        "\n"
      ]
    }
  ]
}