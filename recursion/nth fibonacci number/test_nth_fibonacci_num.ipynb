{
  "nbformat": 4,
  "nbformat_minor": 0,
  "metadata": {
    "colab": {
      "provenance": []
    },
    "kernelspec": {
      "name": "python3",
      "display_name": "Python 3"
    },
    "language_info": {
      "name": "python"
    }
  },
  "cells": [
    {
      "cell_type": "code",
      "execution_count": null,
      "metadata": {
        "id": "lvi3SSqzNibT"
      },
      "outputs": [],
      "source": [
        "def fib(n):\n",
        "    if n == 2:\n",
        "        return 1\n",
        "    elif n == 1:\n",
        "        return 0\n",
        "    else:\n",
        "        return fib(n-1)+fib(n+1)\n",
        "# O(2^n) time | O(n) space"
      ]
    },
    {
      "cell_type": "code",
      "source": [
        "def getNthFib(n, memoize ={1:0,2:1}):\n",
        "    if n in memoize:\n",
        "        return memoize[n]\n",
        "    else:\n",
        "        memoize[n]= getNthFib(n-1,memoize) + getNthFib(n-2,memoize)\n",
        "        return memoize[n]\n",
        "# O(n) time and space"
      ],
      "metadata": {
        "id": "M2On72PNNpnZ"
      },
      "execution_count": null,
      "outputs": []
    },
    {
      "cell_type": "code",
      "source": [
        "def getNthFib(n):\n",
        "    firstTwo =[0,1]\n",
        "    for num in range(2,n):\n",
        "        nextNum = firstTwo[0]+firstTwo[1]\n",
        "        firstTwo[0] = firstTwo[1]\n",
        "        firstTwo[1] = nextNum\n",
        "        print(nextNum)\n",
        "    return firstTwo[1] if n > 1 else firstTwo[0]\n",
        "# time = O(n), space = O(1)"
      ],
      "metadata": {
        "id": "3YQiE6pzNr_8"
      },
      "execution_count": null,
      "outputs": []
    }
  ]
}