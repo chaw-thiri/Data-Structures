{
  "nbformat": 4,
  "nbformat_minor": 0,
  "metadata": {
    "colab": {
      "provenance": []
    },
    "kernelspec": {
      "name": "python3",
      "display_name": "Python 3"
    },
    "language_info": {
      "name": "python"
    }
  },
  "cells": [
    {
      "cell_type": "code",
      "execution_count": 1,
      "metadata": {
        "colab": {
          "base_uri": "https://localhost:8080/"
        },
        "id": "2aneLi8cqraa",
        "outputId": "a7d06225-253b-4ace-a176-cb86a51e55ba"
      },
      "outputs": [
        {
          "output_type": "stream",
          "name": "stdout",
          "text": [
            "[3, 3]\n"
          ]
        }
      ],
      "source": [
        "matrix = [\n",
        "    [1, 4, 7, 12, 15, 1000],\n",
        "    [2, 5, 19, 31, 32, 1001],\n",
        "    [3, 8, 24, 33, 35, 1002],\n",
        "    [40, 41, 42, 44, 45, 1003],\n",
        "    [99, 100, 103, 106, 128, 1004]\n",
        "  ]\n",
        "target = 44\n",
        "\n",
        "\n",
        "def searchInSortedMatrix(matrix, target):\n",
        "    row = len(matrix) - 1\n",
        "    column = 0\n",
        "    while row >= 0 and column <= len(matrix[0]):\n",
        "        if matrix[row][column] > target:\n",
        "            row -= 1\n",
        "        elif matrix[row][column] < target:\n",
        "            column += 1\n",
        "        elif matrix[row][column] == target:\n",
        "            return [row,column]\n",
        "    return [-1,-1]\n",
        "print(searchInSortedMatrix(matrix,target))\n"
      ]
    }
  ]
}