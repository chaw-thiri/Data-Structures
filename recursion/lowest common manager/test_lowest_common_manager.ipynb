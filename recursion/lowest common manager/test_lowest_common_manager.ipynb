{
  "nbformat": 4,
  "nbformat_minor": 0,
  "metadata": {
    "colab": {
      "provenance": []
    },
    "kernelspec": {
      "name": "python3",
      "display_name": "Python 3"
    },
    "language_info": {
      "name": "python"
    }
  },
  "cells": [
    {
      "cell_type": "code",
      "source": [
        "def getLowestCommonManager(topManager, reportOne, reportTwo):\n",
        "    return getOrgInfo(topManager, reportOne,reportTwo).lowestCommonManager\n",
        "\n",
        "def getOrgInfo(manager, reportOne, reportTwo):\n",
        "    numImportantReports = 0\n",
        "    for directImport in manager.directReports:\n",
        "        orgInfo = getOrgInfo(directImport, reportOne, reportTwo)\n",
        "        if orgInfo.lowestCommonManager is not None:\n",
        "          return orgInfo\n",
        "        numImportantReports += orgInfo.numImportantReports\n",
        "    if manager == reportOne or manager == reportTwo:\n",
        "        numImportantReports += 1\n",
        "    lowestCommonManager = manager if numImportantReports == 2 else None\n",
        "    return OrgInfo(lowestCommonManager,numImportantReports)\n",
        "class OrgInfo:\n",
        "    def __init__(self, lowestCommonManager, numImportantReports):\n",
        "        self.lowestCommonManager = lowestCommonManager\n",
        "        self.numImportantReports = numImportantReports\n",
        "        \n",
        "class OrgChart:\n",
        "    def __init__(self, name):\n",
        "        self.name = name\n",
        "        self.directReports = []"
      ],
      "metadata": {
        "id": "CCyw6E-1S7iM"
      },
      "execution_count": null,
      "outputs": []
    }
  ]
}