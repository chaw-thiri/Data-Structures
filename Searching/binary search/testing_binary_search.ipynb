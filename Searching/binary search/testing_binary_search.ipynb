{
  "nbformat": 4,
  "nbformat_minor": 0,
  "metadata": {
    "colab": {
      "provenance": []
    },
    "kernelspec": {
      "name": "python3",
      "display_name": "Python 3"
    },
    "language_info": {
      "name": "python"
    }
  },
  "cells": [
    {
      "cell_type": "code",
      "execution_count": 1,
      "metadata": {
        "colab": {
          "base_uri": "https://localhost:8080/"
        },
        "id": "xLI2pPLiFNcy",
        "outputId": "5cc17e8e-44a4-4778-a6db-253d45451c90"
      },
      "outputs": [
        {
          "output_type": "stream",
          "name": "stdout",
          "text": [
            "Type your list of number : 1,2,3,4,5,3,6,5,7,9,6,5\n",
            "Type the number u are finding?7\n",
            "8\n"
          ]
        }
      ],
      "source": [
        "# python \n",
        "# binary_search : search the target number using binary search method.\n",
        "def binary_search(array,target):\n",
        "    if target not in array:\n",
        "        return -1\n",
        "    else:\n",
        "        sorted_array = sorted(array)\n",
        "        while True:\n",
        "            mid_point= round(len(sorted_array)/2)\n",
        "            small_half = sorted_array[:mid_point]\n",
        "            big_half = sorted_array[mid_point:]\n",
        "            big_first_number = big_half[0]\n",
        "            if big_first_number == target:\n",
        "                return array.index(big_first_number)\n",
        "            elif target > big_first_number:\n",
        "                sorted_array = big_half\n",
        "            elif target < big_first_number:\n",
        "                sorted_array = small_half\n",
        "user_string = input(\"Type your list of number : \")\n",
        "user_list = user_string.split(',')\n",
        "user_list = list(map(int,user_list))\n",
        "user_number = int(input('Type the number u are finding?'))\n",
        "print(binary_search(user_list, user_number))"
      ]
    },
    {
      "cell_type": "code",
      "source": [],
      "metadata": {
        "id": "jEvm1mh0FVFV"
      },
      "execution_count": null,
      "outputs": []
    }
  ]
}