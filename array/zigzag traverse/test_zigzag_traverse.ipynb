{
  "nbformat": 4,
  "nbformat_minor": 0,
  "metadata": {
    "colab": {
      "provenance": []
    },
    "kernelspec": {
      "name": "python3",
      "display_name": "Python 3"
    },
    "language_info": {
      "name": "python"
    }
  },
  "cells": [
    {
      "cell_type": "code",
      "source": [
        "# time = O(n)\n",
        "# space = O(n) where n is the number of elements in the 2D array\n",
        "def zigzagTraverse(array):\n",
        "    height = len(array)-1\n",
        "    width = len(array[0])-1\n",
        "    result = []\n",
        "    row, col = 0,0\n",
        "    goingDown = True\n",
        "    while not isOutOfBounds(row, col, height, width):\n",
        "        result.append(array[row][col])\n",
        "        if goingDown:\n",
        "            if col == 0 or row == height:\n",
        "                goingDown = False\n",
        "                if row == height:\n",
        "                    col += 1\n",
        "                else:\n",
        "                    row += 1\n",
        "            else:\n",
        "                row += 1\n",
        "                col -= 1\n",
        "        else:\n",
        "            if row == 0 or col == width:\n",
        "                goingDown = True\n",
        "                if col == width:\n",
        "                    row += 1\n",
        "                else: \n",
        "                    col += 1\n",
        "            else:\n",
        "                row -= 1\n",
        "                col += 1\n",
        "    return result\n",
        "\n",
        "def isOutOfBounds(row, col, height, width):\n",
        "    return row < 0 or row > height or col < 0 or col > width"
      ],
      "metadata": {
        "id": "4YsFICKvE84Z"
      },
      "execution_count": null,
      "outputs": []
    }
  ]
}