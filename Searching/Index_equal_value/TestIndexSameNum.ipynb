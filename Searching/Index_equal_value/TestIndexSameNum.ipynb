{
  "nbformat": 4,
  "nbformat_minor": 0,
  "metadata": {
    "colab": {
      "provenance": []
    },
    "kernelspec": {
      "name": "python3",
      "display_name": "Python 3"
    },
    "language_info": {
      "name": "python"
    }
  },
  "cells": [
    {
      "cell_type": "code",
      "execution_count": 1,
      "metadata": {
        "colab": {
          "base_uri": "https://localhost:8080/"
        },
        "id": "2aneLi8cqraa",
        "outputId": "a9778560-e191-44e7-c875-013e8d51d6f5"
      },
      "outputs": [
        {
          "output_type": "stream",
          "name": "stdout",
          "text": [
            "3\n"
          ]
        }
      ],
      "source": [
        "def indexEqualsValue(array):\n",
        "    l = 0\n",
        "    r = len(array) - 1\n",
        "    while l<=r:\n",
        "        mid = (l + r) //2\n",
        "        if array[mid] == mid and ((mid == 0) or array[mid-1]<mid-1):\n",
        "            return mid\n",
        "        elif array[mid] < mid:\n",
        "            l = mid + 1\n",
        "        else:\n",
        "            r = mid - 1\n",
        "    return -1\n",
        "\n",
        "\n",
        "array = [-5, -3, 0, 3, 4, 5, 9]\n",
        "print(indexEqualsValue(array))"
      ]
    },
    {
      "cell_type": "code",
      "source": [],
      "metadata": {
        "id": "5ENJkcWnYoD2"
      },
      "execution_count": null,
      "outputs": []
    }
  ]
}