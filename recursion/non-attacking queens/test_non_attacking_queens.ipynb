{
  "nbformat": 4,
  "nbformat_minor": 0,
  "metadata": {
    "colab": {
      "provenance": []
    },
    "kernelspec": {
      "name": "python3",
      "display_name": "Python 3"
    },
    "language_info": {
      "name": "python"
    }
  },
  "cells": [
    {
      "cell_type": "code",
      "source": [
        "def nonAttackingQueens(n):\n",
        "    # each index of col placement represent a row of chessboard\n",
        "    # and the value at each index is the col (on the relevant row) where\n",
        "    # a queen is currently placed\n",
        "    colPlacement= [0]*n\n",
        "    return getNoOfNonAttackingQueenPlacements(0, colPlacement, n)\n",
        "def getNoOfNonAttackingQueenPlacements(row, colPlacement, boardSize):\n",
        "    if row == boardSize:\n",
        "        return 1 \n",
        "\n",
        "    validPlacements = 0\n",
        "    for col in range(boardSize):\n",
        "        if isNonAttackingPlacement(row, col, colPlacement):\n",
        "            colPlacement[row] = col\n",
        "            validPlacements += getNoOfNonAttackingQueenPlacements(row+1,colPlacement, boardSize)\n",
        "        \n",
        "    return validPlacements\n",
        "\n",
        "def isNonAttackingPlacement(row, col, colPlacement):\n",
        "    for previousRow in range(row):\n",
        "        colToCheck = colPlacement[previousRow]\n",
        "        sameCol = colToCheck == col\n",
        "        onDiagonal = abs(colToCheck - col) == row - previousRow\n",
        "        if sameCol or onDiagonal:\n",
        "            return False\n",
        "    return True"
      ],
      "metadata": {
        "id": "7fLu4dNzla8J"
      },
      "execution_count": null,
      "outputs": []
    },
    {
      "cell_type": "code",
      "source": [
        "# lower bound O(n!) time \n",
        "# O(n) space\n",
        "def nonAttackingQueens(n):\n",
        "    blockedCol = set()\n",
        "    blockedUpDiagonal = set()\n",
        "    blockedDownDiagonal = set()\n",
        "    return getNoOfNonAttackingQueenPlacements(0, blockedCol, blockedUpDiagonal, blockedDownDiagonal, n)\n",
        "def getNoOfNonAttackingQueenPlacements(row, blockedCol, blockedUpDiagonal, blockedDownDiagonal, boardSize):\n",
        "    if row == boardSize:\n",
        "        return 1 \n",
        "\n",
        "    validPlacements = 0\n",
        "    for col in range(boardSize):\n",
        "        if isNonAttackingPlacement(row, col, blockedCol, blockedUpDiagonal, blockedDownDiagonal):\n",
        "            placeQueen(row, col, blockedCol, blockedUpDiagonal, blockedDownDiagonal )\n",
        "            validPlacements += getNoOfNonAttackingQueenPlacements(row+1, blockedCol, blockedUpDiagonal, blockedDownDiagonal, boardSize)\n",
        "            removeQueen(row, col,blockedCol, blockedUpDiagonal, blockedDownDiagonal )\n",
        "        \n",
        "    return validPlacements\n",
        "\n",
        "def isNonAttackingPlacement(row, col,blockedCol, blockedUpDiagonal, blockedDownDiagonal):\n",
        "    if col in blockedCol:\n",
        "        return False\n",
        "    if row+col in blockedUpDiagonal:\n",
        "        return False\n",
        "    if row-col in blockedDownDiagonal:\n",
        "        return False\n",
        "    return True\n",
        "\n",
        "\n",
        "def placeQueen(row, col, blockedCol, blockedUpDiagonal, blockedDownDiagonal ):\n",
        "    blockedCol.add(col)\n",
        "    blockedUpDiagonal.add(row+col)\n",
        "    blockedDownDiagonal.add(row-col)\n",
        "def removeQueen(row, col,blockedCol, blockedUpDiagonal, blockedDownDiagonal ):\n",
        "    blockedCol.remove(col)\n",
        "    blockedUpDiagonal.remove(row+col)\n",
        "    blockedDownDiagonal.remove(row-col)"
      ],
      "metadata": {
        "id": "RMS0uSbulb8v"
      },
      "execution_count": null,
      "outputs": []
    }
  ]
}