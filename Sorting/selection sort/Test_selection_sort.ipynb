{
  "nbformat": 4,
  "nbformat_minor": 0,
  "metadata": {
    "colab": {
      "provenance": []
    },
    "kernelspec": {
      "name": "python3",
      "display_name": "Python 3"
    },
    "language_info": {
      "name": "python"
    }
  },
  "cells": [
    {
      "cell_type": "code",
      "execution_count": 1,
      "metadata": {
        "colab": {
          "base_uri": "https://localhost:8080/"
        },
        "id": "2aneLi8cqraa",
        "outputId": "d22a706a-c763-408c-a1b0-73689f43fd59"
      },
      "outputs": [
        {
          "output_type": "stream",
          "name": "stdout",
          "text": [
            "[1, 2, 3, 3, 4, 5, 6, 7, 7]\n"
          ]
        }
      ],
      "source": [
        "def selectioSort(array):\n",
        "    return selectionSortHelper(array,0)\n",
        "def selectionSortHelper(array,smallestIndex):\n",
        "    j = smallestIndex  # j is the index of the smallest number in the array. here we assume index 0 as the smallest number.\n",
        "    while j != len(array):\n",
        "        for i in range(j,len(array)):\n",
        "            if array[i]<=array[smallestIndex]:\n",
        "                smallestIndex= i\n",
        "                #  \n",
        "        array[smallestIndex], array[j] = array[j],array[smallestIndex]\n",
        "        j += 1\n",
        "        return selectionSortHelper(array,j)\n",
        "    return array\n",
        "array= [3,7,3,7,2,4,1,5,6]\n",
        "print(selectioSort(array))\n"
      ]
    },
    {
      "cell_type": "code",
      "source": [],
      "metadata": {
        "id": "5ENJkcWnYoD2"
      },
      "execution_count": null,
      "outputs": []
    }
  ]
}