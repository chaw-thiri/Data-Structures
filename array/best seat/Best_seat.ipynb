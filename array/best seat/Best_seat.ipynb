{
  "nbformat": 4,
  "nbformat_minor": 0,
  "metadata": {
    "colab": {
      "provenance": []
    },
    "kernelspec": {
      "name": "python3",
      "display_name": "Python 3"
    },
    "language_info": {
      "name": "python"
    }
  },
  "cells": [
    {
      "cell_type": "code",
      "execution_count": null,
      "metadata": {
        "id": "M5MhXymkxA2o"
      },
      "outputs": [],
      "source": [
        "# time = O(n)\n",
        "# space = O(1)\n",
        "def bestSeat(seats):\n",
        "    bestSeat = -1\n",
        "    maxSpace = 0\n",
        "\n",
        "    left = 0\n",
        "    while left < len(seats):\n",
        "        right = left + 1\n",
        "        while right< len(seats) and seats[right] == 0: # empty seat\n",
        "            right += 1\n",
        "\n",
        "        availableSpace = right- left -1 \n",
        "        if availableSpace > maxSpace:\n",
        "            bestSeat = (left + right)//2 # middle seat\n",
        "            maxSpace = availableSpace\n",
        "        left = right \n",
        "    return bestSeat"
      ]
    }
  ]
}