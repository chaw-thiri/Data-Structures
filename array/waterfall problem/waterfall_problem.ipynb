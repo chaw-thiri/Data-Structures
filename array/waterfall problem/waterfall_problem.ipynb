{
  "nbformat": 4,
  "nbformat_minor": 0,
  "metadata": {
    "colab": {
      "provenance": []
    },
    "kernelspec": {
      "name": "python3",
      "display_name": "Python 3"
    },
    "language_info": {
      "name": "python"
    }
  },
  "cells": [
    {
      "cell_type": "code",
      "execution_count": null,
      "metadata": {
        "id": "lt_OCoNvuc6C"
      },
      "outputs": [],
      "source": [
        "# O(w^2 * h) time \n",
        "# O(w) space \n",
        "# w = width and h = height of the input array\n",
        "def waterfallStreams(array, source):\n",
        "    rowAbove = array[0][:] \n",
        "    # [:] = make a shallow copy of the array allowing to modify the copy without damaging the original.\n",
        "    # -1 = water\n",
        "    rowAbove[source]= -1\n",
        "\n",
        "    for row in range(1,len(array)):\n",
        "        currentRow = array[row][:]\n",
        "        for idx in range(len(rowAbove)):\n",
        "            valueAbove = rowAbove[idx]\n",
        "\n",
        "            hasWaterAbove = valueAbove == -1 # check -1\n",
        "            hasBlock = currentRow[idx]== 1 # 1\n",
        "\n",
        "            if not hasWaterAbove:\n",
        "                # if there is no water above \n",
        "                continue\n",
        "\n",
        "            if not hasBlock:\n",
        "                # if there is no block in the current column, move the water below\n",
        "                currentRow[idx] += valueAbove # the row goes down ...currentRow[idx] << rowAbove[idx]\n",
        "                continue\n",
        "\n",
        "            splitWater = valueAbove/2\n",
        "\n",
        "            # move water right \n",
        "            rightIdx = idx\n",
        "            while rightIdx+1 < len(rowAbove): # condition to prevent going beyond the wall\n",
        "                rightIdx += 1\n",
        "                if rowAbove[rightIdx] == 1: # if there is a block in the way\n",
        "                    break\n",
        "                if currentRow[rightIdx] != 1: # if there is no water on the right side \n",
        "                    currentRow[rightIdx] += splitWater\n",
        "                    break\n",
        "\n",
        "            #move water left\n",
        "            leftIdx = idx\n",
        "            while leftIdx - 1 >= 0: # condition to prevent going beyond the wall\n",
        "                leftIdx -= 1\n",
        "                if rowAbove[leftIdx] == 1: # if there is a block in the way\n",
        "                    break\n",
        "                if  currentRow[leftIdx] != 1: # if there is no water below us\n",
        "                    currentRow[leftIdx] += splitWater\n",
        "                    break\n",
        "\n",
        "        rowAbove = currentRow\n",
        "    \n",
        "    #covert the decimal to the percnetages of water\n",
        "    finalPercentages = list(map(lambda num: num *-100, rowAbove))\n",
        "\n",
        "    return finalPercentages\n",
        "\n"
      ]
    }
  ]
}