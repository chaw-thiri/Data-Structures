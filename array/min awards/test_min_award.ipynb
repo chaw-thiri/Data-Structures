{
  "nbformat": 4,
  "nbformat_minor": 0,
  "metadata": {
    "colab": {
      "provenance": []
    },
    "kernelspec": {
      "name": "python3",
      "display_name": "Python 3"
    },
    "language_info": {
      "name": "python"
    }
  },
  "cells": [
    {
      "cell_type": "code",
      "execution_count": null,
      "metadata": {
        "id": "yGJFQ1rnQ88Z"
      },
      "outputs": [],
      "source": [
        "# time = O(n)\n",
        "# space = O(n)\n",
        "def minRewards(scores):\n",
        "    rewards = [1 for _ in scores]\n",
        "    for i in range(1,len(scores)):\n",
        "        if scores[i] > scores[i-1]:\n",
        "            rewards[i] = rewards[i - 1]+1\n",
        "    for i in reversed(range(len(scores)-1)):\n",
        "        if scores[i] > scores[i+1]:\n",
        "            rewards[i] = max(rewards[i],rewards[i+1]+1)\n",
        "    return sum(rewards)\n"
      ]
    },
    {
      "cell_type": "code",
      "source": [
        "# time = O(n)\n",
        "# space = O(n)\n",
        "def minRewards(scores):\n",
        "    rewards = [ 1 for _ in scores]\n",
        "    localMinIdxs = getLocakMinIdxs(scores)\n",
        "    for localMinIdx in localMinIdxs:\n",
        "        expandFromLocalMinIdxs(localMinIdx, scores, rewards)\n",
        "    return sum(rewards)\n",
        "\n",
        "def getLocakMinIdxs(array):\n",
        "    if len(array) == 1:\n",
        "        return [0]\n",
        "    localMinIdxs = []\n",
        "    for i in range(len(array)):\n",
        "        if i == 0 and array[i] < array[i+1]:\n",
        "            localMinIdxs.append(i)\n",
        "        if i == len(array)-1 and array[i] < array[i-1]:\n",
        "            localMinIdxs.append(i)\n",
        "        if i == 0 or i == len(array)-1:\n",
        "            continue\n",
        "        if array[i] < array[i+1] and array[i] < array[i-1]:\n",
        "            localMinIdxs.append(i)\n",
        "    return localMinIdxs\n",
        "\n",
        "def expandFromLocalMinIdxs(localMinIdx, scores, rewards):\n",
        "    leftIdx = localMinIdx - 1\n",
        "    while leftIdx >= 0 and scores[leftIdx] > scores[leftIdx + 1]:\n",
        "        rewards[leftIdx] = max(rewards[leftIdx],rewards[leftIdx+1]+1)\n",
        "        leftIdx -= 1\n",
        "    rightIdx = localMinIdx + 1\n",
        "    while rightIdx< len(scores) and scores[rightIdx] > scores[rightIdx-1]:\n",
        "        rewards[rightIdx] = rewards[rightIdx-1]+1\n",
        "        rightIdx += 1"
      ],
      "metadata": {
        "id": "A22rR4L1Q_LB"
      },
      "execution_count": null,
      "outputs": []
    },
    {
      "cell_type": "code",
      "source": [
        "# time = O(n*2)\n",
        "# space = O(n)\n",
        "def minRewards(scores):\n",
        "    rewards = [ 1 for _ in scores]\n",
        "    for i in range(1,len(scores)):\n",
        "        j = i-1 \n",
        "        if scores[i] > scores[j]:\n",
        "            rewards[i] = rewards[j]+1\n",
        "        else:\n",
        "            while j >= 0 and scores[j] > scores[j+1]:\n",
        "                rewards[j] = max(rewards[j],rewards[j+1]+1)\n",
        "                j -= 1\n",
        "\n",
        "    return sum(rewards)"
      ],
      "metadata": {
        "id": "s4A-VQSbRCMo"
      },
      "execution_count": null,
      "outputs": []
    }
  ]
}