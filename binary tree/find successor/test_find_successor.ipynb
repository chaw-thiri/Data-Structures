{
  "cells": [
    {
      "cell_type": "code",
      "execution_count": null,
      "metadata": {
        "id": "yvmBWN0gLyE1"
      },
      "outputs": [],
      "source": [
        "# T = O(n)\n",
        "# S = O(n), n = number of nodes in the tree\n",
        "class BinaryTree:\n",
        "    def __init__(self, value, left=None, right=None, parent=None):\n",
        "        self.value = value\n",
        "        self.left = left\n",
        "        self.right = right\n",
        "        self.parent = parent\n",
        "\n",
        "def inOrderTraversal(tree,array=[]):\n",
        "    if tree is  not None:\n",
        "        inOrderTraversal(tree.left, array)\n",
        "        array.append(tree)   # tree.value is appended here, find successor function cannot compare curr_node with node.\n",
        "        inOrderTraversal(tree.right, array)\n",
        "    return array\n",
        "\n",
        "\n",
        "\n",
        "def findSuccessor(tree, node):\n",
        "    # Write your code here.\n",
        "    array = inOrderTraversal(tree)\n",
        "\n",
        "    for idx,curr_node in enumerate(array):\n",
        "        if curr_node != node:\n",
        "            continue\n",
        "        if idx == len(array)-1:\n",
        "            return None\n",
        "\n",
        "        return array[idx+1]\n",
        "\n",
        "\n",
        "\n",
        "\n",
        "\n",
        "\n",
        "\n"
      ]
    },
    {
      "cell_type": "code",
      "execution_count": null,
      "metadata": {
        "id": "pKA8lOftMCOi"
      },
      "outputs": [],
      "source": [
        "# time = O(h), h = height of the tree\n",
        "# space O(1)\n",
        "class BinaryTree:\n",
        "    def __init__(self, value, left=None, right=None, parent=None):\n",
        "        self.value = value\n",
        "        self.left = left\n",
        "        self.right = right\n",
        "        self.parent = parent\n",
        "\n",
        "def findSuccessor(tree,node):\n",
        "    if node.right is not None:\n",
        "        return getLeftmostChild(node.right)\n",
        "    return getRightmostParent(node)\n",
        "\n",
        "def getLeftmostChild(node):\n",
        "    currNode = node\n",
        "    while currNode.left is not None:\n",
        "        currNode = currNode.left\n",
        "\n",
        "    return currNode\n",
        "\n",
        "def getRightmostParent(node):\n",
        "    currNode = node\n",
        "    while currNode.parent is not None and currNode.parent.right == currNode:\n",
        "        currNode = currNode.parent\n",
        "    return currNode.parent"
      ]
    }
  ],
  "metadata": {
    "colab": {
      "provenance": []
    },
    "kernelspec": {
      "display_name": "Python 3",
      "name": "python3"
    },
    "language_info": {
      "name": "python"
    }
  },
  "nbformat": 4,
  "nbformat_minor": 0
}
