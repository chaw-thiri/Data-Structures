{
  "nbformat": 4,
  "nbformat_minor": 0,
  "metadata": {
    "colab": {
      "provenance": []
    },
    "kernelspec": {
      "name": "python3",
      "display_name": "Python 3"
    },
    "language_info": {
      "name": "python"
    }
  },
  "cells": [
    {
      "cell_type": "code",
      "execution_count": null,
      "metadata": {
        "id": "yeterzfdartT"
      },
      "outputs": [],
      "source": [
        "def zeroSumSubarray(nums):\n",
        "    sums = set([0])\n",
        "    # checking the sum linearly will cost excessive time, in that case set is use. \n",
        "    currentSum = 0\n",
        "    for num in nums:\n",
        "        currentSum += num\n",
        "        if currentSum in sums:\n",
        "            return True\n",
        "        sums.add(currentSum)\n",
        "    return False\n"
      ]
    }
  ]
}