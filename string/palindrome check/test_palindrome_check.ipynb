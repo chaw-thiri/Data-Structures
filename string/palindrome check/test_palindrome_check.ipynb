{
  "nbformat": 4,
  "nbformat_minor": 0,
  "metadata": {
    "colab": {
      "provenance": []
    },
    "kernelspec": {
      "name": "python3",
      "display_name": "Python 3"
    },
    "language_info": {
      "name": "python"
    }
  },
  "cells": [
    {
      "cell_type": "code",
      "execution_count": null,
      "metadata": {
        "id": "FKTdLG-LSoh9"
      },
      "outputs": [],
      "source": [
        "# time = O(n)/ space = O(1)\n",
        "def isPalindrome(array):\n",
        "    start = 0\n",
        "    end = len(array)-1\n",
        "    if len(array) <= 0: \n",
        "        # all the array of len 1 or 0 are palindromes\n",
        "        return True\n",
        "    while start < end:\n",
        "        # print(f\"checking start {array[start]} vs end {array[end]}\")\n",
        "        if array[start] == array[end]:\n",
        "            start += 1\n",
        "            end -= 1\n",
        "        else:\n",
        "            return False\n",
        "    return True\n",
        "print(isPalindrome('abcdcba'))"
      ]
    }
  ]
}