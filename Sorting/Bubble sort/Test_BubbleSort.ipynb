{
  "nbformat": 4,
  "nbformat_minor": 0,
  "metadata": {
    "colab": {
      "provenance": []
    },
    "kernelspec": {
      "name": "python3",
      "display_name": "Python 3"
    },
    "language_info": {
      "name": "python"
    }
  },
  "cells": [
    {
      "cell_type": "code",
      "execution_count": 1,
      "metadata": {
        "colab": {
          "base_uri": "https://localhost:8080/"
        },
        "id": "2aneLi8cqraa",
        "outputId": "8b6fc7b3-8447-40a0-ee1a-d4602cb03e93"
      },
      "outputs": [
        {
          "output_type": "stream",
          "name": "stdout",
          "text": [
            "[2, 3, 5, 6, 8, 8, 9]\n"
          ]
        }
      ],
      "source": [
        "# time = O (n*2) or O (n) | space = O (1)\n",
        "def bubbleSort(array):\n",
        "    sorted = False\n",
        "    counter = 0\n",
        "    while not sorted:\n",
        "        sorted = True\n",
        "        for i in range(len(array)-1-counter):\n",
        "            if array[i+1]<array[i]:\n",
        "                swap(array, i, i+1)\n",
        "                sorted = False\n",
        "    \n",
        "        counter += 1\n",
        "    return array\n",
        "            \n",
        "def swap(array, i, j):\n",
        "    array[i],array[j]=array[j],array[i]\n",
        "array= [8,6,5,3,2,8,9]\n",
        "print(bubbleSort(array))\n"
      ]
    },
    {
      "cell_type": "code",
      "source": [],
      "metadata": {
        "id": "5ENJkcWnYoD2"
      },
      "execution_count": null,
      "outputs": []
    }
  ]
}