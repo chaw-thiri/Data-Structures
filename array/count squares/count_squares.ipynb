{
  "nbformat": 4,
  "nbformat_minor": 0,
  "metadata": {
    "colab": {
      "provenance": []
    },
    "kernelspec": {
      "name": "python3",
      "display_name": "Python 3"
    },
    "language_info": {
      "name": "python"
    }
  },
  "cells": [
    {
      "cell_type": "code",
      "execution_count": null,
      "metadata": {
        "id": "jKoZrTn1AhmG"
      },
      "outputs": [],
      "source": [
        "# O(n^2) time\n",
        "# O(n) space - where n is the number of points\n",
        "def countSquares(points):\n",
        "    pointsSet = set()\n",
        "    for point in points:\n",
        "        pointsSet.add(pointToString(point))\n",
        "\n",
        "    count = 0\n",
        "    for pointA in points:\n",
        "        for pointB in points:\n",
        "            if pointA == pointB:\n",
        "                continue\n",
        "\n",
        "            midpoint = [(pointA[0]+pointB[0]) /2 ,(pointA[1]+pointB[1]) /2]\n",
        "            xDistanceFromMid = pointA[0] - midpoint[0]\n",
        "            yDistanceFromMid = pointA[1] - midpoint[1]\n",
        "\n",
        "            pointC = [midpoint[0] + yDistanceFromMid, midpoint[1] - xDistanceFromMid]\n",
        "            pointD = [midpoint[0] - yDistanceFromMid, midpoint[1] + xDistanceFromMid]\n",
        "\n",
        "            if pointToString(pointC) in pointsSet and pointToString(pointD) in pointsSet:\n",
        "                count += 1\n",
        "\n",
        "    return count / 4\n",
        "\n",
        "def pointToString(point):\n",
        "    if point[0] % 1 == 0 and point[1] % 1 == 0:\n",
        "        point = [int(coordinate) for coordinate in point]\n",
        "    return \",\".join([str(coordinate) for coordinate in point])"
      ]
    }
  ]
}