{
  "nbformat": 4,
  "nbformat_minor": 0,
  "metadata": {
    "colab": {
      "provenance": []
    },
    "kernelspec": {
      "name": "python3",
      "display_name": "Python 3"
    },
    "language_info": {
      "name": "python"
    }
  },
  "cells": [
    {
      "cell_type": "markdown",
      "source": [
        "attempt 1 : in order traversal of the tree , pick up the k  O(n) ST\n",
        "\n",
        "\n",
        "attempt 2 : reverse order traversal , stop once kth term is reach\n",
        "still O(n) ST in worst case, O(log n) time, O(n) space in balanced tree.\n",
        "\n",
        "\n",
        "attempt 3 : stil reverse order traversal but no need  to store the whole array, since we only need kth term\n",
        "time O(n) space O(k)"
      ],
      "metadata": {
        "id": "67tvd8E1lsmi"
      }
    },
    {
      "cell_type": "code",
      "execution_count": null,
      "metadata": {
        "colab": {
          "base_uri": "https://localhost:8080/"
        },
        "id": "FF_wUdmfo2Ki",
        "outputId": "6bbd3de2-3e16-4818-d3ff-2e99e8eb0896"
      },
      "outputs": [
        {
          "output_type": "stream",
          "name": "stdout",
          "text": [
            "Visiting node 10, count: 0\n",
            "Visiting node 15, count: 0\n",
            "Visiting node 17, count: 0\n",
            "Traversal complete or k limit reached\n",
            "Adding value 17 to array. count: 1\n",
            "Traversal complete or k limit reached\n",
            "Adding value 15 to array. count: 1\n",
            "Visiting node 12, count: 1\n",
            "Traversal complete or k limit reached\n",
            "Adding value 12 to array. count: 2\n",
            "Traversal complete or k limit reached\n",
            "Adding value 10 to array. count: 1\n",
            "Visiting node 5, count: 1\n",
            "Visiting node 7, count: 1\n",
            "Traversal complete or k limit reached\n",
            "Adding value 7 to array. count: 2\n",
            "Traversal complete or k limit reached\n",
            "Adding value 5 to array. count: 2\n",
            "Visiting node 2, count: 2\n",
            "Traversal complete or k limit reached\n",
            "Adding value 2 to array. count: 3\n",
            "Traversal complete or k limit reached\n",
            "Kth largest value for k=3: 12\n"
          ]
        }
      ],
      "source": [
        "class BST:\n",
        "    def __init__(self, value, left=None, right=None):\n",
        "        self.value = value\n",
        "        self.left = left\n",
        "        self.right = right\n",
        "\n",
        "def findKthLargestValueInBst(tree, k):\n",
        "    count = 0\n",
        "    array = []\n",
        "    reverseOrderTraverse(tree, array, k, count)\n",
        "    if len(array) >= k:\n",
        "        return array[k-1]\n",
        "    return -1\n",
        "\n",
        "def reverseOrderTraverse(tree, array, k, count):\n",
        "    if tree is not None and count < k:\n",
        "        print(f\"Visiting node {tree.value}, count: {count}\")\n",
        "        reverseOrderTraverse(tree.right, array, k, count)\n",
        "        if count < k:\n",
        "            array.append(tree.value)\n",
        "            count += 1\n",
        "            print(f\"Adding value {tree.value} to array. count: {count}\")\n",
        "            reverseOrderTraverse(tree.left, array, k, count)\n",
        "        else:\n",
        "            print(\"                                     \")\n",
        "            print(\"Reached k limit, stopping traversal\")\n",
        "    else:\n",
        "        print(\"Traversal complete or k limit reached\")\n",
        "\n",
        "# Test example\n",
        "tree = BST(10)\n",
        "tree.left = BST(5)\n",
        "tree.right = BST(15)\n",
        "tree.left.left = BST(2)\n",
        "tree.left.right = BST(7)\n",
        "tree.right.left = BST(12)\n",
        "tree.right.right = BST(17)\n",
        "\n",
        "k = 3\n",
        "result = findKthLargestValueInBst(tree, k)\n",
        "print(f\"Kth largest value for k={k}: {result}\")"
      ]
    },
    {
      "cell_type": "markdown",
      "source": [],
      "metadata": {
        "id": "z-UTdsD0lqte"
      }
    },
    {
      "cell_type": "code",
      "source": [
        "class BST:\n",
        "    def __init__(self, value, left=None, right=None):\n",
        "        self.value = value\n",
        "        self.left = left\n",
        "        self.right = right\n",
        "\n",
        "def findKthLargestValueInBst(tree, k):\n",
        "    count = 0\n",
        "    array = []\n",
        "    reverseOrderTraverse(tree, array, k, count)\n",
        "    if len(array) >= k:\n",
        "        return array[k-1]\n",
        "    return -1\n",
        "\n",
        "def reverseOrderTraverse(tree, array, k, count):\n",
        "    if tree is not None and count < k:\n",
        "        print(f\"Visiting node {tree.value}, count: {count}\")\n",
        "        reverseOrderTraverse(tree.right, array, k, count)\n",
        "        array.append(tree.value)\n",
        "        count += 1\n",
        "        print(f\"Adding value {tree.value} to array. count: {count}\")\n",
        "        reverseOrderTraverse(tree.left, array, k, count)\n",
        "    else:\n",
        "        print(\"Traversal complete or k limit reached\")\n",
        "\n",
        "# Test example\n",
        "tree = BST(10)\n",
        "tree.left = BST(5)\n",
        "tree.right = BST(15)\n",
        "tree.left.left = BST(2)\n",
        "tree.left.right = BST(7)\n",
        "tree.right.left = BST(12)\n",
        "tree.right.right = BST(17)\n",
        "\n",
        "k = 3\n",
        "result = findKthLargestValueInBst(tree, k)\n",
        "print(f\"Kth largest value for k={k}: {result}\")"
      ],
      "metadata": {
        "colab": {
          "base_uri": "https://localhost:8080/"
        },
        "id": "x8muQpDQpzXC",
        "outputId": "42fa59c1-a3f8-44ae-daf4-55d50dab99da"
      },
      "execution_count": null,
      "outputs": [
        {
          "output_type": "stream",
          "name": "stdout",
          "text": [
            "Visiting node 10, count: 0\n",
            "Visiting node 15, count: 0\n",
            "Visiting node 17, count: 0\n",
            "Traversal complete or k limit reached\n",
            "Adding value 17 to array. count: 1\n",
            "Traversal complete or k limit reached\n",
            "Adding value 15 to array. count: 1\n",
            "Visiting node 12, count: 1\n",
            "Traversal complete or k limit reached\n",
            "Adding value 12 to array. count: 2\n",
            "Traversal complete or k limit reached\n",
            "Adding value 10 to array. count: 1\n",
            "Visiting node 5, count: 1\n",
            "Visiting node 7, count: 1\n",
            "Traversal complete or k limit reached\n",
            "Adding value 7 to array. count: 2\n",
            "Traversal complete or k limit reached\n",
            "Adding value 5 to array. count: 2\n",
            "Visiting node 2, count: 2\n",
            "Traversal complete or k limit reached\n",
            "Adding value 2 to array. count: 3\n",
            "Traversal complete or k limit reached\n",
            "Kth largest value for k=3: 12\n"
          ]
        }
      ]
    },
    {
      "cell_type": "markdown",
      "source": [
        "        10\n",
        "       /  \\\n",
        "      5    15\n",
        "     / \\   / \\\n",
        "    2   7 12 17\n"
      ],
      "metadata": {
        "id": "2ZSFaL9BpUga"
      }
    }
  ]
}