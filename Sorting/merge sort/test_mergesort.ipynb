{
  "nbformat": 4,
  "nbformat_minor": 0,
  "metadata": {
    "colab": {
      "provenance": []
    },
    "kernelspec": {
      "name": "python3",
      "display_name": "Python 3"
    },
    "language_info": {
      "name": "python"
    }
  },
  "cells": [
    {
      "cell_type": "code",
      "execution_count": null,
      "metadata": {
        "id": "f3b0tnkGVwWw"
      },
      "outputs": [],
      "source": [
        "# s = O(nlog n )\n",
        "# t = O(n log n )\n",
        "def mergeSort(array):\n",
        "    if len(array) == 1:\n",
        "        return array\n",
        "    midIdx = len(array) // 2\n",
        "    leftHalf =array[:midIdx]\n",
        "    rightHalf = array[midIdx:]\n",
        "    return mergeSortedArray(mergeSort(leftHalf), mergeSort(rightHalf))\n",
        "\n",
        "\n",
        "def mergeSortedArray(leftHalf, rightHalf):\n",
        "    sortedArr = [None] * (len(leftHalf)+ len(rightHalf))\n",
        "    k = i = j = 0\n",
        "    while i < len(leftHalf) and j < len(rightHalf):\n",
        "        if leftHalf[i] <= rightHalf[j]:\n",
        "            sortedArr[k] = leftHalf[i]\n",
        "            i += 1\n",
        "        else:\n",
        "            sortedArr[k] = rightHalf[j]\n",
        "            j += 1\n",
        "        k += 1\n",
        "    while i < len(leftHalf):\n",
        "        sortedArr[k] = leftHalf[i]\n",
        "        i += 1\n",
        "        k += 1\n",
        "    while j < len(rightHalf):\n",
        "        sortedArr[k] = rightHalf[j]\n",
        "        j += 1\n",
        "        k += 1\n",
        "    return sortedArr\n"
      ]
    },
    {
      "cell_type": "code",
      "source": [
        "\n",
        "# s = O(nlog n )\n",
        "# t = O(n )\n",
        "def mergeSort(array):\n",
        "  if len(array) <= 1:\n",
        "    return array\n",
        "  auxiArray = array[:]\n",
        "  mergeSortHelper(array, 0, len(array)-1, auxiArray)\n",
        "  return array\n",
        "\n",
        "def mergeSortHelper(mainArr, startIdx, endIdx, auxiArr):\n",
        "  if startIdx == endIdx: return\n",
        "  midIdx = (startIdx + endIdx ) //2\n",
        "  mergeSortHelper(auxiArr, startIdx, midIdx, mainArr)\n",
        "  mergeSortHelper(auxiArr, midIdx+1, endIdx, mainArr)\n",
        "  doMerge(mainArr,startIdx,midIdx, endIdx, auxiArr)\n",
        "\n",
        "def doMerge(mainArr, startIdx, midIdx, endIdx, auxiArr):\n",
        "  i = startIdx\n",
        "  k = startIdx\n",
        "  j = midIdx + 1\n",
        "  while i <= midIdx and j <= endIdx:\n",
        "\n",
        "    if auxiArr[i] <= auxiArr[j]:\n",
        "      mainArr[k] = auxiArr[i]\n",
        "      i += 1\n",
        "    else:\n",
        "      mainArr[k] = auxiArr[j]\n",
        "      j += 1\n",
        "    k += 1\n",
        "  while i <= midIdx:\n",
        "    mainArr[k] = auxiArr[i]\n",
        "    i += 1\n",
        "    k += 1\n",
        "  while j <= endIdx:\n",
        "    mainArr[k] = auxiArr[j]\n",
        "    j += 1\n",
        "    k += 1\n",
        ""
      ],
      "metadata": {
        "id": "YIKk9mUuVxfr"
      },
      "execution_count": null,
      "outputs": []
    }
  ]
}