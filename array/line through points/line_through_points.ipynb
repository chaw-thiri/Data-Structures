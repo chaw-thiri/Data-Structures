{
  "nbformat": 4,
  "nbformat_minor": 0,
  "metadata": {
    "colab": {
      "provenance": []
    },
    "kernelspec": {
      "name": "python3",
      "display_name": "Python 3"
    },
    "language_info": {
      "name": "python"
    }
  },
  "cells": [
    {
      "cell_type": "code",
      "execution_count": null,
      "metadata": {
        "id": "1DKgCGPOx9sS"
      },
      "outputs": [],
      "source": [
        "# time = O(n*n)\n",
        "# space = O(n)\n",
        "def lineThroughPoints(points):\n",
        "    maxNumberOfPointsOnLine = 1\n",
        "\n",
        "    for idx1, p1 in enumerate(points):\n",
        "        slopes = {}\n",
        "        for idx2 in range(idx1+ 1 ,len(points)):\n",
        "            p2 = points[idx2]\n",
        "            rise, run = getSlopeOfLineBetweenPoints(p1,p2)\n",
        "            slopeKey = createHashableKeyForRational(rise,run)\n",
        "            if slopeKey not in slopes:\n",
        "                slopes[slopeKey] = 1\n",
        "            \n",
        "            slopes[slopeKey] += 1\n",
        "\n",
        "        \n",
        "        maxNumberOfPointsOnLine= max(maxNumberOfPointsOnLine, max(slopes.values(), default=0))\n",
        "    return maxNumberOfPointsOnLine\n",
        "\n",
        "def getSlopeOfLineBetweenPoints(p1,p2):\n",
        "    p1x, p1y = p1\n",
        "    p2x, p2y = p2\n",
        "    slope = [1,0] # slope of a vertical line\n",
        "\n",
        "    if p1x != p2x: # if line is not vertical\n",
        "        xDiff = p1x - p2x\n",
        "        yDiff = p1y - p2y\n",
        "        gcd = getGreatestCommonDivisor(abs(xDiff),abs(yDiff))\n",
        "        xDiff = xDiff//gcd\n",
        "        yDiff = yDiff//gcd\n",
        "        if xDiff < 0:\n",
        "            xDiff *= -1\n",
        "            yDiff *= -1 \n",
        "        slope = [yDiff,xDiff]\n",
        "    return slope\n",
        "\n",
        "\n",
        "\n",
        "def getGreatestCommonDivisor(num1, num2):\n",
        "    a = num1\n",
        "    b = num2\n",
        "    while True:\n",
        "        if a==0:\n",
        "            return b\n",
        "        if b==0:\n",
        "            return a\n",
        "        a, b = b, a % b\n",
        "\n",
        "\n",
        "def createHashableKeyForRational(numerator , denominator):\n",
        "    return str(numerator) + \":\" + str(denominator)\n",
        "\n"
      ]
    }
  ]
}