{
  "nbformat": 4,
  "nbformat_minor": 0,
  "metadata": {
    "colab": {
      "provenance": []
    },
    "kernelspec": {
      "name": "python3",
      "display_name": "Python 3"
    },
    "language_info": {
      "name": "python"
    }
  },
  "cells": [
    {
      "cell_type": "code",
      "execution_count": 3,
      "metadata": {
        "colab": {
          "base_uri": "https://localhost:8080/"
        },
        "id": "Ecnz9X_omQO7",
        "outputId": "bd391cf4-654b-4e78-901c-1c321a2c2ab2"
      },
      "outputs": [
        {
          "output_type": "stream",
          "name": "stdout",
          "text": [
            "[8, 40, 10, 20]\n"
          ]
        }
      ],
      "source": [
        "array = [5,1,4,2]\n",
        "print(arrayOfProducts(array))\n",
        "  \n"
      ]
    },
    {
      "cell_type": "code",
      "source": [
        "# solution 1\n",
        "\n",
        "# O(n^2) time | O(n) space - where n is the length of the input array\n",
        "def arrayOfProducts(array):\n",
        "    products = [1 for _ in range(len(array))]\n",
        "\n",
        "    for i in range(len(array)):\n",
        "        runningProduct = 1\n",
        "        for j in range(len(array)):\n",
        "            if i != j:\n",
        "                runningProduct *= array[j]\n",
        "        products[i] = runningProduct\n",
        "\n",
        "    return products\n"
      ],
      "metadata": {
        "id": "iH3grE0RFZSN"
      },
      "execution_count": 2,
      "outputs": []
    },
    {
      "cell_type": "markdown",
      "source": [
        " Question : give the product of all other elements in the input array.\n",
        "\n",
        "---\n",
        "\n",
        "\n",
        " \n",
        "\n",
        "\n",
        "*   nested for loop(Solution 1)\n",
        "\n",
        "\n",
        "> time compleity = O(n*2) | space = O(n)\n",
        "\n",
        "\n",
        "---\n",
        "\n",
        "*   creating left and right array(Solution 2)\n",
        "\n",
        "\n",
        "\n",
        "> left array = the multiplication of all that number on the left side\n",
        "\n",
        "\n",
        "> right array = multiplication of nums on right \n",
        "\n",
        "\n",
        "> result = multiplicaton of left and right array.\n",
        "\n",
        "\n",
        "> Time = O(n): have to loop each array once(n+n+n)  | space = O(n): occur at the same array space\n",
        "\n",
        "\n",
        "\n",
        "\n",
        "\n",
        "\n",
        "\n",
        "\n",
        "\n",
        "\n"
      ],
      "metadata": {
        "id": "FzfMk6sN8rcv"
      }
    },
    {
      "cell_type": "code",
      "source": [
        "# Solution 2\n",
        "\n",
        "\n",
        "# O(n^2) time | O(n) space - where n is the length of the input array\n",
        "def arrayOfProducts(array):\n",
        "    products = [1 for _ in range(len(array))]\n",
        "\n",
        "    for i in range(len(array)):\n",
        "        runningProduct = 1\n",
        "        for j in range(len(array)):\n",
        "            if i != j:\n",
        "                runningProduct *= array[j]\n",
        "        products[i] = runningProduct\n",
        "\n",
        "    return products\n"
      ],
      "metadata": {
        "id": "ugiwCr2jFrk0"
      },
      "execution_count": null,
      "outputs": []
    },
    {
      "cell_type": "code",
      "source": [
        "# solution 3\n",
        "\n",
        "\n",
        "# O(n^2) time | O(n) space - where n is the length of the input array\n",
        "def arrayOfProducts(array):\n",
        "    products = [1 for _ in range(len(array))]\n",
        "\n",
        "    for i in range(len(array)):\n",
        "        runningProduct = 1\n",
        "        for j in range(len(array)):\n",
        "            if i != j:\n",
        "                runningProduct *= array[j]\n",
        "        products[i] = runningProduct\n",
        "\n",
        "    return products\n"
      ],
      "metadata": {
        "id": "bSq3fj3AF32O"
      },
      "execution_count": null,
      "outputs": []
    }
  ]
}