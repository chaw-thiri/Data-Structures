{
  "nbformat": 4,
  "nbformat_minor": 0,
  "metadata": {
    "colab": {
      "provenance": []
    },
    "kernelspec": {
      "name": "python3",
      "display_name": "Python 3"
    },
    "language_info": {
      "name": "python"
    }
  },
  "cells": [
    {
      "cell_type": "code",
      "execution_count": null,
      "metadata": {
        "id": "45TG2Adss0lI"
      },
      "outputs": [],
      "source": [
        "# don't touch the values , just play with indice\n",
        "class MinHeap:\n",
        "    def __init__(self, array):\n",
        "        self.heap = self.buildHeap(array)\n",
        "\n",
        "    \n",
        "    # O(n) time, O(1) space\n",
        "    def buildHeap(self, array):\n",
        "        LastParentIdx = (len(array)-2)//2\n",
        "        for currentIdx in reversed(range(LastParentIdx + 1)): # go from bottom to top\n",
        "            self.siftDown(currentIdx, len(array)-1, array)\n",
        "        return array\n",
        "        \n",
        "    # O(log(n)) time, O(1) space\n",
        "    def siftDown(self, currentIdx, endIdx, heap):\n",
        "        childOneIdx = currentIdx * 2 + 1\n",
        "        while childOneIdx <= endIdx:\n",
        "            childTwoIdx = currentIdx * 2 + 2 if currentIdx * 2 + 2 <= endIdx else -1\n",
        "            \n",
        "            # check conditions to swap\n",
        "            if childTwoIdx != -1 and heap[childTwoIdx] < heap[childOneIdx]:\n",
        "                idxToSwap = childTwoIdx\n",
        "            else:\n",
        "                idxToSwap = childOneIdx\n",
        "\n",
        "            if heap[currentIdx] > heap[idxToSwap]: # idxToSwap is the smaller one of the child node\n",
        "                self.swap(currentIdx,idxToSwap,heap)\n",
        "                currentIdx = idxToSwap\n",
        "                childOneIdx = currentIdx * 2 + 1\n",
        "            else:\n",
        "                return \n",
        "\n",
        "    # O(log n) time, O(1) space\n",
        "    def siftUp(self, currentIdx, heap):\n",
        "        parentIdx = (currentIdx-1)//2 \n",
        "        while currentIdx > 0 and heap[currentIdx] < heap[parentIdx]: # < cux min heap, > in max heap\n",
        "            # while not at the top of the heap\n",
        "            self.swap(currentIdx, parentIdx, heap)\n",
        "            currentIdx = parentIdx\n",
        "            parentIdx = (currentIdx-1) // 2\n",
        "\n",
        "\n",
        "\n",
        "    # O(1), O(1)\n",
        "    def peek(self):\n",
        "        # check the node value\n",
        "        return self.heap[0]\n",
        "        \n",
        "    # O(log n) time, O(1) space\n",
        "    def remove(self): \n",
        "        # swap it with the last index\n",
        "        # pop off the last index\\\n",
        "        self.swap(0,len(self.heap)-1, self.heap)\n",
        "        valueToRemove = self.heap.pop() # pop removes the last index\n",
        "        self.siftDown(0, len(self.heap)-1, self.heap)\n",
        "        return valueToRemove\n",
        "        \n",
        "    \n",
        "    # O(log n) time , O(1) space\n",
        "    def insert(self, value):\n",
        "        self.heap.append(value)\n",
        "        self.siftUp(len(self.heap)-1, self.heap) # don\n",
        "       \n",
        "    def swap(self, i, j, heap):\n",
        "        heap[i], heap[j] = heap[j],heap[i]\n",
        "\n",
        "   \n",
        "\n"
      ]
    },
    {
      "cell_type": "markdown",
      "source": [],
      "metadata": {
        "id": "sZxVCGH9tTMr"
      }
    }
  ]
}