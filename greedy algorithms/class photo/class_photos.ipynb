{
  "nbformat": 4,
  "nbformat_minor": 0,
  "metadata": {
    "colab": {
      "provenance": []
    },
    "kernelspec": {
      "name": "python3",
      "display_name": "Python 3"
    },
    "language_info": {
      "name": "python"
    }
  },
  "cells": [
    {
      "cell_type": "code",
      "execution_count": null,
      "metadata": {
        "id": "XclBbVW5F_tf"
      },
      "outputs": [],
      "source": [
        "# t= O (n log n)\n",
        "# s= O (1)\n",
        "def classPhotos(redShirtHeights, blueShirtHeights):\n",
        "    redShirtHeights.sort(reverse=True)\n",
        "    blueShirtHeights.sort(reverse=True)\n",
        "\n",
        "    shirtColorInFirstRow = \"RED\" if redShirtHeights[0] < blueShirtHeights[0] else \"BLUE\"\n",
        "    for idx in range(len(redShirtHeights)):\n",
        "        redShirtHeight = redShirtHeights[idx]\n",
        "        blueShirtHeight = blueShirtHeights[idx]\n",
        "\n",
        "        if shirtColorInFirstRow == \"RED\":\n",
        "            if redShirtHeight >= blueShirtHeight:\n",
        "                return False\n",
        "        else:\n",
        "            if blueShirtHeight >= redShirtHeight:\n",
        "                return False\n",
        "\n",
        "    return True\n",
        ""
      ]
    }
  ]
}