{
  "nbformat": 4,
  "nbformat_minor": 0,
  "metadata": {
    "colab": {
      "provenance": []
    },
    "kernelspec": {
      "name": "python3",
      "display_name": "Python 3"
    },
    "language_info": {
      "name": "python"
    }
  },
  "cells": [
    {
      "cell_type": "code",
      "execution_count": 1,
      "metadata": {
        "colab": {
          "base_uri": "https://localhost:8080/"
        },
        "id": "2aneLi8cqraa",
        "outputId": "44fe8604-ed9a-4136-cb75-f314d2a81993"
      },
      "outputs": [
        {
          "output_type": "stream",
          "name": "stdout",
          "text": [
            "8\n"
          ]
        }
      ],
      "source": [
        "def shiftedBinarySearch(array, target):\n",
        "    left = 0\n",
        "    right = len(array)-1\n",
        "    \n",
        "    while left <= right:\n",
        "        mid = (left + right)// 2\n",
        "        if target == array[mid]:\n",
        "            return mid\n",
        "        elif array[mid] > array[left]: # sorted side\n",
        "            if target > array[mid] or target < array[left]:\n",
        "                left = mid + 1 \n",
        "            else:\n",
        "                right = mid -1 \n",
        "        else: # not sorted side\n",
        "            if target < array[mid] or target > array[right]:\n",
        "                right = mid -1\n",
        "            else: \n",
        "                left = mid + 1\n",
        "\n",
        "    return -1\n",
        "\n",
        "array = [45, 61, 71, 72, 73, 0, 1, 21, 33, 37]\n",
        "target = 33\n",
        "print(shiftedBinarySearch(array,target))"
      ]
    }
  ]
}