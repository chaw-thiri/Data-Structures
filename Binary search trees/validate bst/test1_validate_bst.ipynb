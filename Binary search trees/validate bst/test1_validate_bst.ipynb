{
  "nbformat": 4,
  "nbformat_minor": 0,
  "metadata": {
    "colab": {
      "provenance": []
    },
    "kernelspec": {
      "name": "python3",
      "display_name": "Python 3"
    },
    "language_info": {
      "name": "python"
    }
  },
  "cells": [
    {
      "cell_type": "code",
      "execution_count": null,
      "metadata": {
        "id": "Z1n12Axiwixi"
      },
      "outputs": [],
      "source": [
        "\n",
        "# time = O(n)\n",
        "# space = O (d ) d = depth of the tree\n",
        "class BST:\n",
        "    def __init__(self, value):\n",
        "        self.value = value\n",
        "        self.left = None\n",
        "        self.right = None\n",
        "\n",
        "\n",
        "def validateBst(tree):\n",
        "    # Write your code here.\n",
        "    return validateBstHelper(tree, float(\"-inf\"),float(\"inf\"))\n",
        "# for left nodes: parent(curr node) is the max value possible\n",
        "# for right nodes : parent(curr node) is the min value possible\n",
        "def validateBstHelper(tree, minValue, maxValue):\n",
        "    if tree is None: # left node\n",
        "        return True\n",
        "    if tree.value < minValue or tree.value >= maxValue:# *** right side can be greater or equal but left must be strictly less\n",
        "        return False\n",
        "    leftIsValid = validateBstHelper(tree.left,minValue, tree.value)\n",
        "    return leftIsValid and validateBstHelper(tree.right, tree.value, maxValue)\n"
      ]
    }
  ]
}