{
  "nbformat": 4,
  "nbformat_minor": 0,
  "metadata": {
    "colab": {
      "provenance": []
    },
    "kernelspec": {
      "name": "python3",
      "display_name": "Python 3"
    },
    "language_info": {
      "name": "python"
    }
  },
  "cells": [
    {
      "cell_type": "code",
      "execution_count": null,
      "metadata": {
        "id": "TFEiqojdXiJ5"
      },
      "outputs": [],
      "source": [
        "# oridnary method : find the mid point using lenght\n",
        "# time = O(n)\n",
        "# space = O(1)\n",
        "\n",
        "class LinkedList:\n",
        "    def __init__(self, value):\n",
        "        self.value = value\n",
        "        self.next = None\n",
        "\n",
        "\n",
        "def middleNode(linkedList):\n",
        "    currentNode = linkedList  # linkedList = head node\n",
        "    count = 0\n",
        "    while currentNode is not None:\n",
        "        count += 1\n",
        "        currentNode = currentNode.next\n",
        "\n",
        "    middleNode = linkedList\n",
        "    for _ in range(count // 2):\n",
        "        middleNode = middleNode.next\n",
        "\n",
        "    return middleNode\n"
      ]
    },
    {
      "cell_type": "code",
      "source": [
        "# two pointers method\n",
        "\n",
        "# time = O(n)\n",
        "# space = O(1)\n",
        "\n",
        "class LinkedList:\n",
        "    def __init__(self, value):\n",
        "        self.value = value\n",
        "        self.next = None\n",
        "\n",
        "\n",
        "def middleNode(linkedList):\n",
        "    slowNode = linkedList\n",
        "    fastNode = linkedList\n",
        "    while fastNode != None and fastNode.next != None: #  put fastNode at the front\n",
        "        #cuz Nonetype erro can arise if fastNode.next is checked first\n",
        "       slowNode = slowNode.next\n",
        "       fastNode = fastNode.next.next\n",
        "    return slowNode"
      ],
      "metadata": {
        "id": "jjPqs6BhXpkg"
      },
      "execution_count": null,
      "outputs": []
    }
  ]
}