{
  "nbformat": 4,
  "nbformat_minor": 0,
  "metadata": {
    "colab": {
      "provenance": []
    },
    "kernelspec": {
      "name": "python3",
      "display_name": "Python 3"
    },
    "language_info": {
      "name": "python"
    }
  },
  "cells": [
    {
      "cell_type": "code",
      "execution_count": 7,
      "metadata": {
        "colab": {
          "base_uri": "https://localhost:8080/"
        },
        "id": "x4meORz6bZCC",
        "outputId": "212dfc74-e2f0-4e88-9304-32943d8aab2b"
      },
      "outputs": [
        {
          "output_type": "stream",
          "name": "stdout",
          "text": [
            "[1, 2, 2, 2, 3, 3, 3]\n"
          ]
        }
      ],
      "source": [
        "# three number sort \n",
        "# space = O(1) \n",
        "# time = O(n)\n",
        "\n",
        "array = [2,3,3,2,1,2,3]\n",
        "order = [1,2,3]\n",
        "counter =[0,0,0]\n",
        "def threeNumberSort(array,order):\n",
        "  for i in array:\n",
        "      index=order.index(i) # counts the occurence of order's number in array\n",
        "      counter[index] += 1\n",
        "  # print(counter)\n",
        "  i = 0 \n",
        "  for j in range(3): #len(order) = 3\n",
        "    for count in range(counter[j]):\n",
        "      array[i] = order[j]\n",
        "      i += 1\n",
        "  return array\n",
        "print(threeNumberSort(array,order))"
      ]
    }
  ]
}