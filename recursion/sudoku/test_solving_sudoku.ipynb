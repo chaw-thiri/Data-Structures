{
  "nbformat": 4,
  "nbformat_minor": 0,
  "metadata": {
    "colab": {
      "provenance": []
    },
    "kernelspec": {
      "name": "python3",
      "display_name": "Python 3"
    },
    "language_info": {
      "name": "python"
    }
  },
  "cells": [
    {
      "cell_type": "code",
      "source": [
        "# time = O(1)\n",
        "# space = O(1)\n",
        "def solveSudoku(board):\n",
        "    solvePartialSudoku(0, 0, board)\n",
        "    return board\n",
        "def solvePartialSudoku(row, col, board):\n",
        "    currentRow = row\n",
        "    currentCol = col\n",
        "    \n",
        "    if currentCol == len(board[currentRow]):\n",
        "        currentRow += 1\n",
        "        currentCol = 0\n",
        "        if currentRow == len(board):\n",
        "            return True # board is complete\n",
        "            \n",
        "    if board[currentRow][currentCol]== 0:\n",
        "        return tryDigitsAtPosition(currentRow, currentCol, board)\n",
        "    return solvePartialSudoku(currentRow, currentCol+1, board)\n",
        "    \n",
        "def tryDigitsAtPosition(row,col,board):\n",
        "    for digit in range(1,10):\n",
        "        if isValidAtPosition(digit,row,col,board):\n",
        "            board[row][col]= digit\n",
        "            if solvePartialSudoku(row, col+1, board):\n",
        "                return True\n",
        "    board[row][col] = 0\n",
        "    return False\n",
        "def isValidAtPosition(value,row,col,board):\n",
        "    rowIsValid = value not in board[row]\n",
        "    columnIsValid = value not in map(lambda r:r[col], board)\n",
        "\n",
        "    if not rowIsValid or not columnIsValid:\n",
        "        return False\n",
        "    \n",
        "    # check subgrid constraint\n",
        "    subgridRowStart = (row //3) * 3\n",
        "    subgridColStart = (col // 3) * 3 \n",
        "    for rowIdx in range(3):\n",
        "        for colIdx in range(3):\n",
        "            rowToCheck = subgridRowStart + rowIdx\n",
        "            colToCheck = subgridColStart + colIdx\n",
        "            existingValue = board[rowToCheck][colToCheck]\n",
        "\n",
        "            if existingValue == value:\n",
        "                return False\n",
        "    return True"
      ],
      "metadata": {
        "id": "v8b3jmPnrs2U"
      },
      "execution_count": null,
      "outputs": []
    }
  ]
}