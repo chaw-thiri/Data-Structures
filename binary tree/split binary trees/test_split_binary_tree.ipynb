{
  "nbformat": 4,
  "nbformat_minor": 0,
  "metadata": {
    "colab": {
      "provenance": []
    },
    "kernelspec": {
      "name": "python3",
      "display_name": "Python 3"
    },
    "language_info": {
      "name": "python"
    }
  },
  "cells": [
    {
      "cell_type": "code",
      "execution_count": null,
      "metadata": {
        "id": "fEj2sZyXF4Bf"
      },
      "outputs": [],
      "source": [
        "# time = O(n)\n",
        "# space = O(h)\n",
        "class BinaryTree:\n",
        "    def __init__(self, value, left=None, right=None):\n",
        "        self.value = value\n",
        "        self.left = left\n",
        "        self.right = right\n",
        "\n",
        "\n",
        "def splitBinaryTree(tree):\n",
        "    desiredSubtreeSum = getTreeSum(tree) / 2\n",
        "    canBeSplit = trySubtrees(tree, desiredSubtreeSum)[1]\n",
        "    return desiredSubtreeSum if canBeSplit else 0\n",
        "\n",
        "def trySubtrees(tree, desiredSubtreeSum):\n",
        "    if tree is None:\n",
        "        return (0,False)\n",
        "\n",
        "    leftSum, leftCanBeSplit =  trySubtrees(tree.left, desiredSubtreeSum)\n",
        "    rightSum, rightCanBeSplit = trySubtrees(tree.right, desiredSubtreeSum)\n",
        "\n",
        "    currentTreeSum = tree.value + leftSum + rightSum\n",
        "    canBeSplit = leftCanBeSplit or rightCanBeSplit or currentTreeSum == desiredSubtreeSum\n",
        "    return (currentTreeSum,canBeSplit)\n",
        "\n",
        "def getTreeSum(tree):\n",
        "    if tree is None:\n",
        "        return 0\n",
        "    return tree.value + getTreeSum(tree.left) + getTreeSum(tree.right)\n"
      ]
    }
  ]
}