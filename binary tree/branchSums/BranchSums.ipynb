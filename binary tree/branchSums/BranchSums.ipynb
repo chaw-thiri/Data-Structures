{
  "nbformat": 4,
  "nbformat_minor": 0,
  "metadata": {
    "colab": {
      "provenance": []
    },
    "kernelspec": {
      "name": "python3",
      "display_name": "Python 3"
    },
    "language_info": {
      "name": "python"
    }
  },
  "cells": [
    {
      "cell_type": "code",
      "execution_count": null,
      "metadata": {
        "id": "nw4f0z5tzcTL"
      },
      "outputs": [],
      "source": [
        "# T= O(n) ,\n",
        "# S = O(n) max\n",
        "class BinaryTree:\n",
        "    def __init__(self, value):\n",
        "        self.value = value\n",
        "        self.left = None\n",
        "        self.right = None\n",
        "\n",
        "\n",
        "def branchSums(root):\n",
        "    arraySum = []\n",
        "    brunchSumHelper(root,0, arraySum)\n",
        "    return arraySum\n",
        "\n",
        "def brunchSumHelper(currNode,currSum, arraySum):\n",
        "    if currNode is None:\n",
        "        return\n",
        "    newSum = currSum + currNode.value\n",
        "    if currNode.left is None and currNode.right is None:\n",
        "        arraySum.append(newSum)\n",
        "        return\n",
        "    brunchSumHelper(currNode.left, newSum, arraySum)\n",
        "    brunchSumHelper(currNode.right, newSum, arraySum)\n",
        "\n",
        "\n"
      ]
    }
  ]
}