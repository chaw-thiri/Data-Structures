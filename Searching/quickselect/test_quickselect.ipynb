{
  "nbformat": 4,
  "nbformat_minor": 0,
  "metadata": {
    "colab": {
      "provenance": []
    },
    "kernelspec": {
      "name": "python3",
      "display_name": "Python 3"
    },
    "language_info": {
      "name": "python"
    }
  },
  "cells": [
    {
      "cell_type": "code",
      "execution_count": 1,
      "metadata": {
        "colab": {
          "base_uri": "https://localhost:8080/"
        },
        "id": "2aneLi8cqraa",
        "outputId": "6a382957-8677-47ef-b1c1-0ae541a762d9"
      },
      "outputs": [
        {
          "output_type": "stream",
          "name": "stdout",
          "text": [
            "3\n"
          ]
        }
      ],
      "source": [
        "def quickselect(array, k):\n",
        "    position = k -1\n",
        "    return quickselectHelper(array, position, 0, len(array)-1)\n",
        "    \n",
        "\n",
        "def quickselectHelper(array, position, start, end):\n",
        "    while True:\n",
        "        if start > end:\n",
        "            raise Exception('Your algorithm has error at some point.')\n",
        "        pivot = start\n",
        "        left = start + 1 \n",
        "        right = end\n",
        "        while left <= right:\n",
        "            if array[left] > array[pivot] and array[right] < array[pivot]:\n",
        "                swap(left,right,array)\n",
        "            if array[left] <= array[pivot]:\n",
        "                left += 1 \n",
        "            if array[right] >= array[pivot]:\n",
        "                right -= 1\n",
        "        swap(pivot, right, array)\n",
        "        if position == right:\n",
        "            return array[right]\n",
        "        elif position > right:\n",
        "            start = right + 1 \n",
        "        else:\n",
        "            end = right - 1\n",
        "\n",
        "def swap(i,j,array):\n",
        "    array[i], array[j]= array[j],array[i]\n",
        "\n",
        "print(quickselect([2,5,7,8,4,3,6,56],2))"
      ]
    }
  ]
}