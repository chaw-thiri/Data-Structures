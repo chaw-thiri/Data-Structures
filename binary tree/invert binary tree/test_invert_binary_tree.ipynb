{
  "nbformat": 4,
  "nbformat_minor": 0,
  "metadata": {
    "colab": {
      "provenance": []
    },
    "kernelspec": {
      "name": "python3",
      "display_name": "Python 3"
    },
    "language_info": {
      "name": "python"
    }
  },
  "cells": [
    {
      "cell_type": "code",
      "execution_count": null,
      "metadata": {
        "id": "_tFlG3E6tUr4"
      },
      "outputs": [],
      "source": [
        "# iterative solution\n",
        "# t = O(n)\n",
        "# s = O(n) , in perfect binary tree will come nearly to n\n",
        "\n",
        "def invertBinaryTree(tree):\n",
        "    queue = [tree]\n",
        "    while len(queue):\n",
        "        current = queue.pop(0)\n",
        "        if current is None: # skip the null nodes\n",
        "            # swap if there is a check of a single child\n",
        "            # ask interviewer for that\n",
        "            continue\n",
        "        swap(current)\n",
        "        queue.append(current.left)\n",
        "        queue.append(current.right)\n",
        "def swap(tree):\n",
        "    tree.left, tree.right = tree.right,tree.left\n",
        "\n",
        "\n",
        "# This is the class of the input binary tree.\n",
        "class BinaryTree:\n",
        "    def __init__(self, value):\n",
        "        self.value = value\n",
        "        self.left = None\n",
        "        self.right = None\n"
      ]
    },
    {
      "cell_type": "code",
      "source": [
        "# recursive sol\n",
        "# T = O(n)\n",
        "# S = O(d) , d = depth of the tree\n",
        "def invertBinaryTree(tree):\n",
        "    if tree is None:\n",
        "        return\n",
        "    swap(tree)\n",
        "    invertBinaryTree(tree.left)\n",
        "    invertBinaryTree(tree.right)\n",
        "\n",
        "\n",
        "def swap(tree):\n",
        "    tree.left, tree.right = tree.right, tree.left\n",
        "\n",
        "\n",
        "# This is the class of the input binary tree.\n",
        "class BinaryTree:\n",
        "    def __init__(self, value):\n",
        "        self.value = value\n",
        "        self.left = None\n",
        "        self.right = None\n",
        "\n"
      ],
      "metadata": {
        "id": "Qxq3s6uxtYIs"
      },
      "execution_count": null,
      "outputs": []
    }
  ]
}