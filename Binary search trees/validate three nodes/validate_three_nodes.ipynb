{
  "nbformat": 4,
  "nbformat_minor": 0,
  "metadata": {
    "colab": {
      "provenance": []
    },
    "kernelspec": {
      "name": "python3",
      "display_name": "Python 3"
    },
    "language_info": {
      "name": "python"
    }
  },
  "cells": [
    {
      "cell_type": "code",
      "execution_count": null,
      "metadata": {
        "id": "rAy_YwUwZHm5"
      },
      "outputs": [],
      "source": [
        "# time and space = O(h)\n",
        "class BST:\n",
        "    def __init__(self, value, left=None, right=None):\n",
        "        self.value = value\n",
        "        self.left = left\n",
        "        self.right = right\n",
        "\n",
        "\n",
        "def validateThreeNodes(nodeOne, nodeTwo, nodeThree):\n",
        "    if isDescendant(nodeTwo,nodeOne):\n",
        "        return isDescendant(nodeThree,nodeTwo)\n",
        "\n",
        "    if isDescendant(nodeTwo,nodeThree):\n",
        "        return isDescendant(nodeOne,nodeTwo)\n",
        "\n",
        "    return False\n",
        "\n",
        "def isDescendant(node,target):\n",
        "    if node is None:\n",
        "        return False\n",
        "\n",
        "    if node is target:\n",
        "        return True\n",
        "\n",
        "    return isDescendant(node.left,target) if target.value<node.value else isDescendant(node.right,target)\n"
      ]
    },
    {
      "cell_type": "code",
      "source": [],
      "metadata": {
        "id": "myJsP95mZMpp"
      },
      "execution_count": null,
      "outputs": []
    },
    {
      "cell_type": "code",
      "source": [
        "# solution 2\n",
        "class BST:\n",
        "    def __init__(self, value, left=None, right=None):\n",
        "        self.value = value\n",
        "        self.left = left\n",
        "        self.right = right\n",
        "\n",
        "# O(h) time , O(1) space\n",
        "def validateThreeNodes(nodeOne, nodeTwo, nodeThree):\n",
        "    if isDescendant(nodeTwo,nodeOne):\n",
        "        return isDescendant(nodeThree, nodeTwo)\n",
        "\n",
        "    if isDescendant(nodeTwo, nodeThree):\n",
        "        return isDescendant(nodeOne,nodeTwo)\n",
        "\n",
        "    return False\n",
        "\n",
        "def isDescendant(node, target):\n",
        "    if node is None:\n",
        "        return False\n",
        "    if node is target:\n",
        "        return True\n",
        "    return isDescendant(node.left, target) if target.value < node.value else isDescendant(node.right, target)\n",
        "\n",
        "\n",
        "\n"
      ],
      "metadata": {
        "id": "aHkV_s0zZORg"
      },
      "execution_count": null,
      "outputs": []
    },
    {
      "cell_type": "code",
      "source": [],
      "metadata": {
        "id": "J7GIAs7kZPFo"
      },
      "execution_count": null,
      "outputs": []
    },
    {
      "cell_type": "code",
      "source": [
        "# solution 3\n",
        "class BST:\n",
        "    def __init__(self, value, left=None, right=None):\n",
        "        self.value = value\n",
        "        self.left = left\n",
        "        self.right = right\n",
        "\n",
        "\n",
        "def validateThreeNodes(nodeOne, nodeTwo, nodeThree):\n",
        "    # Write your code here.\n",
        "    searchOne=nodeOne\n",
        "    searchTwo=nodeThree\n",
        "\n",
        "    while True:\n",
        "        foundThreeFromOne=searchOne is nodeThree\n",
        "        foundOneFromThree=searchTwo is nodeOne\n",
        "        foundNodeTwo=searchOne is nodeTwo or searchTwo is nodeTwo\n",
        "        finishedSearching=searchOne is None and searchTwo is None\n",
        "        if foundThreeFromOne or foundOneFromThree or foundNodeTwo or finishedSearching:\n",
        "            break\n",
        "\n",
        "        if searchOne is not None:\n",
        "            searchOne=searchOne.left if searchOne.value>nodeTwo.value else searchOne.right\n",
        "\n",
        "        if searchTwo is not None:\n",
        "            searchTwo=searchTwo.left if searchTwo.value>nodeTwo.value else searchTwo.right\n",
        "\n",
        "    foundNodeFromOther=searchOne is nodeThree or searchTwo is nodeOne\n",
        "    foundNodeTwo=searchOne is nodeTwo or searchTwo is nodeTwo\n",
        "    if not foundNodeTwo or foundNodeFromOther:\n",
        "        return False\n",
        "\n",
        "    return searchForTarget(nodeTwo,nodeThree if searchOne is nodeTwo else nodeOne)\n",
        "\n",
        "def searchForTarget(node,target):\n",
        "    while node is not None and node is not target:\n",
        "        node=node.left if target.value <node.value else node.right\n",
        "\n",
        "    return node is target\n"
      ],
      "metadata": {
        "id": "sVarYpVxZRDV"
      },
      "execution_count": null,
      "outputs": []
    }
  ]
}