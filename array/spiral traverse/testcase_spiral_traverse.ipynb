{
  "nbformat": 4,
  "nbformat_minor": 0,
  "metadata": {
    "colab": {
      "provenance": []
    },
    "kernelspec": {
      "name": "python3",
      "display_name": "Python 3"
    },
    "language_info": {
      "name": "python"
    }
  },
  "cells": [
    {
      "cell_type": "code",
      "execution_count": null,
      "metadata": {
        "id": "JcDS7NA_5hgB"
      },
      "outputs": [],
      "source": [
        "def spiralTraverse(array):\n",
        "    result = []\n",
        "    startRow, endRow = 0, len(array)-1\n",
        "    startCol, endCol = 0, len(array[0])-1\n",
        "    while startRow <= endRow and startCol <= endCol:\n",
        "        for col in range(startCol,endCol+1):\n",
        "            result.append(array[startRow][col])\n",
        "        for row in range(startRow+1, endRow+1):\n",
        "            result.append(array[row][endCol])\n",
        "        for col in reversed(range(startCol,endCol)):\n",
        "            if startRow == endRow:\n",
        "                break\n",
        "            result.append(array[endRow][col])\n",
        "        for row in reversed(range(startRow+1,endRow)):\n",
        "            if startCol == endCol:\n",
        "                break\n",
        "         # **the second row is startRow + 1 not -\n",
        "            result.append(array[row][startCol])\n",
        "        startRow += 1\n",
        "        startCol += 1\n",
        "        endRow -= 1\n",
        "        endCol -= 1\n",
        "    return result"
      ]
    }
  ]
}