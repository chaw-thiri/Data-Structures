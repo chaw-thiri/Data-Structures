{
  "nbformat": 4,
  "nbformat_minor": 0,
  "metadata": {
    "colab": {
      "provenance": []
    },
    "kernelspec": {
      "name": "python3",
      "display_name": "Python 3"
    },
    "language_info": {
      "name": "python"
    }
  },
  "cells": [
    {
      "cell_type": "code",
      "execution_count": 2,
      "metadata": {
        "id": "v1gWfb_Nl9yF",
        "colab": {
          "base_uri": "https://localhost:8080/"
        },
        "outputId": "024b8e54-a55d-4b44-d4bc-eb630ab4af0f"
      },
      "outputs": [
        {
          "output_type": "stream",
          "name": "stdout",
          "text": [
            "True\n"
          ]
        }
      ],
      "source": [
        "array = [5,4,32,65,3,4,7,8]\n",
        "sequence = [4,3,7]\n",
        "\n",
        "def isValidSubsequence(array, sequence):\n",
        "  arrayIdx = 0\n",
        "  sequenceIdx = 0 \n",
        "  while arrayIdx< len(array) and sequenceIdx< len(sequence):\n",
        "    if array[arrayIdx] == sequence[sequenceIdx]:\n",
        "      sequenceIdx += 1\n",
        "    arrayIdx += 1\n",
        "  return sequenceIdx== len(sequence)\n",
        "\n",
        "print(isValidSubsequence(array,sequence))\n",
        "\n",
        "        \n",
        "\n",
        "\n",
        "\n"
      ]
    },
    {
      "cell_type": "code",
      "source": [
        "array = [5,4,32,65,3,4,7,8]\n",
        "sequence = [4,3,7]\n",
        "def isValidSubsequence(array, sequence):\n",
        "  sequenceIdx = 0 \n",
        "  for number in array:\n",
        "    if sequenceIdx == len(sequence):\n",
        "      return True\n",
        "    if number == sequence[sequenceIdx]:\n",
        "      sequenceIdx += 1\n",
        "\n",
        "  return sequenceIdx == len(sequence)\n",
        "print(isValidSubsequence(array,sequence))"
      ],
      "metadata": {
        "colab": {
          "base_uri": "https://localhost:8080/"
        },
        "id": "IQW8GxTNBmRc",
        "outputId": "2fdf7bd7-2af1-4140-e444-8289a4754257"
      },
      "execution_count": 5,
      "outputs": [
        {
          "output_type": "stream",
          "name": "stdout",
          "text": [
            "True\n"
          ]
        }
      ]
    }
  ]
}