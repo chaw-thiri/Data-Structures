{
  "nbformat": 4,
  "nbformat_minor": 0,
  "metadata": {
    "colab": {
      "provenance": []
    },
    "kernelspec": {
      "name": "python3",
      "display_name": "Python 3"
    },
    "language_info": {
      "name": "python"
    }
  },
  "cells": [
    {
      "cell_type": "code",
      "execution_count": null,
      "metadata": {
        "id": "sSnCoE2a1IO1"
      },
      "outputs": [],
      "source": [
        "\n",
        "# recursive sol:\n",
        "class BST:\n",
        "    def __init__(self, value, left = None, right = None):\n",
        "        self.value = value\n",
        "        self.left = left\n",
        "        self.right = right\n",
        "\n",
        "# O(n) time | O(h) space\n",
        "# n = no of nodes in the tree\n",
        "# h = height of the tree\n",
        "def repairBst(tree):\n",
        "    nodeOne = nodeTwo = prevNode = None\n",
        "\n",
        "    # nested fun\n",
        "    def inOrderTraversal(node):\n",
        "        nonlocal nodeOne, nodeTwo, prevNode    # local<nonLocal < global\n",
        "        if node is None: # base case\n",
        "            return\n",
        "\n",
        "        inOrderTraversal(node.left)\n",
        "\n",
        "        if prevNode is not None and prevNode.value > node.value: # wrong location\n",
        "            if nodeOne is None:\n",
        "                nodeOne = prevNode\n",
        "            nodeTwo = node\n",
        "        prevNode = node\n",
        "        inOrderTraversal(node.right)\n",
        "\n",
        "    inOrderTraversal(tree)\n",
        "\n",
        "    nodeOne.value, nodeTwo.value = nodeTwo.value, nodeOne.value\n",
        "    return tree"
      ]
    },
    {
      "cell_type": "code",
      "source": [
        "class BST:\n",
        "    def __init__(self, value, left = None, right = None):\n",
        "        self.value = value\n",
        "        self.right = right\n",
        "        self.left = left\n",
        "\n",
        "# time = O(n) , space = O(h)\n",
        "# iterative solution\n",
        "def repairBst(tree):\n",
        "    nodeOne = nodeTwo = prevNode = None\n",
        "\n",
        "    stack = []\n",
        "    currNode = tree\n",
        "    while currNode is not None or len(stack) > 0:\n",
        "        while currNode is not None:\n",
        "            stack.append(currNode)\n",
        "            currNode = currNode.left\n",
        "        currNode = stack.pop()\n",
        "\n",
        "        if prevNode is not None and prevNode.value > currNode.value:\n",
        "            if nodeOne is None:\n",
        "                nodeOne = prevNode\n",
        "            nodeTwo = currNode\n",
        "\n",
        "        prevNode = currNode\n",
        "        currNode = currNode.right\n",
        "\n",
        "    nodeOne.value, nodeTwo.value = nodeTwo.value, nodeOne.value\n",
        "    return tree"
      ],
      "metadata": {
        "id": "Uf6GtOAH1K9f"
      },
      "execution_count": null,
      "outputs": []
    }
  ]
}