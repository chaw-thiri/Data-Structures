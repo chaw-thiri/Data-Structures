{
  "nbformat": 4,
  "nbformat_minor": 0,
  "metadata": {
    "colab": {
      "provenance": []
    },
    "kernelspec": {
      "name": "python3",
      "display_name": "Python 3"
    },
    "language_info": {
      "name": "python"
    }
  },
  "cells": [
    {
      "cell_type": "code",
      "execution_count": 4,
      "metadata": {
        "colab": {
          "base_uri": "https://localhost:8080/"
        },
        "id": "RsBytAaNbq7P",
        "outputId": "bb447201-0485-416d-a24f-adf9d42743f5"
      },
      "outputs": [
        {
          "output_type": "stream",
          "name": "stdout",
          "text": [
            "Type in the array : 141, 1, 17, -7, -17, -27, 18, 541, 8, 7, 7\n",
            "[18, 141, 541]\n"
          ]
        }
      ],
      "source": [
        "def findThreeLargestNumbers(array):\n",
        "    max_list = []\n",
        "    for i in range(3):\n",
        "        max_num = max(array)\n",
        "        max_list.append(max_num)\n",
        "        array.remove(max_num)\n",
        "    final_list = sorted(max_list)\n",
        "    return final_list\n",
        "array = input('Type in the array : ').split(',')\n",
        "array = list(map(int,array))\n",
        "print(findThreeLargestNumbers(array))"
      ]
    }
  ]
}