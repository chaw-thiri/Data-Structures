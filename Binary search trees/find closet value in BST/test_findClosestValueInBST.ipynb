{
  "nbformat": 4,
  "nbformat_minor": 0,
  "metadata": {
    "colab": {
      "provenance": []
    },
    "kernelspec": {
      "name": "python3",
      "display_name": "Python 3"
    },
    "language_info": {
      "name": "python"
    }
  },
  "cells": [
    {
      "cell_type": "code",
      "execution_count": null,
      "metadata": {
        "id": "JkmNp8i-I2CO"
      },
      "outputs": [],
      "source": [
        "def findClosestValueInBst(tree, target):\n",
        "        return findHelper(target, tree, float('inf'))\n",
        "\n",
        "\n",
        "def findHelper(target, tree, closest):\n",
        "    if tree == None:\n",
        "        return closest # end the recursion\n",
        "    else:\n",
        "        if abs(closest -target) > abs(tree.value - target):\n",
        "            closest = tree.value\n",
        "        if target > tree.value:\n",
        "            return findHelper(target, tree.right, closest)\n",
        "        elif target < tree.value:\n",
        "            return findHelper(target, tree.left, closest)\n",
        "        elif target == tree.value:\n",
        "            return closest\n",
        "\n",
        "\n",
        "\n",
        "\n",
        "\n",
        "# This is the class of the input tree. Do not edit.\n",
        "class BST:\n",
        "    def __init__(self, value):\n",
        "        self.value = value    # node value\n",
        "        self.left = None #left child\n",
        "        self.right = None #right child\n",
        "\n",
        "\n",
        "\n"
      ]
    }
  ]
}