{
  "nbformat": 4,
  "nbformat_minor": 0,
  "metadata": {
    "colab": {
      "provenance": []
    },
    "kernelspec": {
      "name": "python3",
      "display_name": "Python 3"
    },
    "language_info": {
      "name": "python"
    }
  },
  "cells": [
    {
      "cell_type": "code",
      "execution_count": null,
      "metadata": {
        "id": "OsuuUq77QrjJ"
      },
      "outputs": [],
      "source": [
        "# time = O(n log n)\n",
        "# space = O(1)\n",
        "def tandemBicycle(redShirtSpeeds, blueShirtSpeeds, fastest):\n",
        "    redShirtSpeeds.sort()\n",
        "    blueShirtSpeeds.sort()\n",
        "\n",
        "    if not fastest:\n",
        "        reverseArrayInPlace(redShirtSpeeds)\n",
        "\n",
        "    totalSpeed = 0\n",
        "    for idx in range(len(redShirtSpeeds)):\n",
        "        rider1 = redShirtSpeeds[idx]\n",
        "        rider2 = blueShirtSpeeds[len(blueShirtSpeeds) - idx - 1]\n",
        "        totalSpeed += max(rider1,rider2)\n",
        "\n",
        "    return totalSpeed\n",
        "\n",
        "def reverseArrayInPlace(array):\n",
        "    start = 0\n",
        "    end = len(array) - 1\n",
        "    while start < end:\n",
        "        array[start], array[end] = array[end], array[start]\n",
        "        start += 1\n",
        "        end -= 1\n"
      ]
    }
  ]
}