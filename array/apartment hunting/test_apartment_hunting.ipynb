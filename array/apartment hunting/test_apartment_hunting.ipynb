{
  "nbformat": 4,
  "nbformat_minor": 0,
  "metadata": {
    "colab": {
      "provenance": []
    },
    "kernelspec": {
      "name": "python3",
      "display_name": "Python 3"
    },
    "language_info": {
      "name": "python"
    }
  },
  "cells": [
    {
      "cell_type": "code",
      "source": [
        "# time = O(br)\n",
        "# space = O(br)\n",
        "# b = number of blocks , r = number of requirements\n",
        "def apartmentHunting(blocks, reqs):\n",
        "    minDistancesFromBlocks = list(map(lambda req: getMinDistances(blocks,req),reqs))\n",
        "    maxDistancesAtBlocks = getMaxDistancesAtBlocks(blocks, minDistancesFromBlocks)\n",
        "    return getIdxAtMinValue(maxDistancesAtBlocks)\n",
        "    \n",
        "def getMinDistances(blocks,req):\n",
        "    minDistances = [0 for block in blocks]\n",
        "    closestReqIdx = float(\"inf\")\n",
        "    for i in range(len(blocks)):\n",
        "        if blocks[i][req]:\n",
        "            closestReqIdx = i\n",
        "        minDistances[i] = distanceBetween(i,closestReqIdx)\n",
        "    for i in reversed(range(len(blocks))):\n",
        "        if blocks[i][req]:\n",
        "            closestReqIdx = i\n",
        "        minDistances[i] = min(minDistances[i], distanceBetween(i, closestReqIdx))\n",
        "    return minDistances\n",
        "    \n",
        "def getMaxDistancesAtBlocks(blocks, minDistanceFromBlocks):\n",
        "    maxDistancesAtBlocks = [0 for _ in blocks]\n",
        "    for i in range(len(blocks)):\n",
        "        minDistanceAtBlock = list(map(lambda distances : distances[i], minDistanceFromBlocks))\n",
        "        maxDistancesAtBlocks[i] = max(minDistanceAtBlock)\n",
        "    return maxDistancesAtBlocks\n",
        "    \n",
        "def getIdxAtMinValue(array):\n",
        "    idxAtMinValue = 0\n",
        "    minValue = float(\"inf\")\n",
        "    for i in range(len(array)):\n",
        "        currentValue = array[i]\n",
        "        if currentValue < minValue:\n",
        "            minValue = currentValue\n",
        "            idxAtMinValue = i\n",
        "    return idxAtMinValue\n",
        "    \n",
        "def distanceBetween(a, b):\n",
        "    return abs(a - b)"
      ],
      "metadata": {
        "id": "B-vDgQWZFOcv"
      },
      "execution_count": null,
      "outputs": []
    },
    {
      "cell_type": "code",
      "source": [
        "#time = O(b^2*r)\n",
        "#space = O(b)\n",
        "def apartmentHunting(blocks,reqs):\n",
        "    maxDistancesAtBlocks = [float(\"-inf\") for block in blocks]\n",
        "    for i in range(len(blocks)):\n",
        "        for req in reqs:\n",
        "            closestReqDistance = float(\"inf\")\n",
        "            for j in range(len(blocks)):\n",
        "                if blocks[j][req]:\n",
        "                    closestReqDistance = min(closestReqDistance, distanceBetween(i,j))\n",
        "            maxDistancesAtBlocks[i] = max(maxDistancesAtBlocks[i],closestReqDistance)\n",
        "        return getIdxAtMinValue(maxDistancesAtBlocks)\n",
        "\n",
        "def getIdxAtMinValue(array):\n",
        "    idxAtMinValue = 0\n",
        "    minValue = float(\"inf\")\n",
        "    for i in range(len(array)):\n",
        "        currentValue=array[i]\n",
        "        if currentValue< minValue:\n",
        "            minValue = currentValue\n",
        "            idxAtMinValue = i\n",
        "    return idxAtMinValue\n",
        "\n",
        "def distanceBetween(a,b):\n",
        "    return abs(a-b)"
      ],
      "metadata": {
        "id": "Qpn0CLcSFUfV"
      },
      "execution_count": null,
      "outputs": []
    }
  ]
}