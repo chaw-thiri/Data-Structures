{
  "nbformat": 4,
  "nbformat_minor": 0,
  "metadata": {
    "colab": {
      "provenance": []
    },
    "kernelspec": {
      "name": "python3",
      "display_name": "Python 3"
    },
    "language_info": {
      "name": "python"
    }
  },
  "cells": [
    {
      "cell_type": "code",
      "execution_count": null,
      "metadata": {
        "id": "5MVqe60TgOQm"
      },
      "outputs": [],
      "source": [
        "# O(n) ST\n",
        "# cons : doesn't use the given insert method\n",
        "\n",
        "def minHeightBst(array):\n",
        "    return minHeightHelper(array,None, 0, len(array)-1)\n",
        "def minHeightHelper(array,curr_node, startIdx, endIdx):\n",
        "    midIdx = (startIdx+endIdx)//2\n",
        "    if (startIdx > endIdx): # until all the value in the array has been added\n",
        "        return\n",
        "\n",
        "    newNode = BST(array[midIdx]) # =\n",
        "    if curr_node is None:\n",
        "        curr_node = newNode\n",
        "    else: # smaller or larger\n",
        "        if newNode.value < curr_node.value:\n",
        "            curr_node.left = newNode\n",
        "            curr_node = curr_node.left  # insertion : O(n) time complexity\n",
        "        else:\n",
        "            curr_node.right = newNode\n",
        "            curr_node = curr_node.right\n",
        "        # cannot use while loop here cus there are two functions to return\n",
        "    minHeightHelper(array,curr_node, startIdx, midIdx-1)\n",
        "    minHeightHelper(array,curr_node,midIdx+1,endIdx)\n",
        "\n",
        "\n",
        "\n",
        "    return curr_node\n",
        "\n",
        "\n",
        "class BST:\n",
        "    def __init__(self, value):\n",
        "        self.value = value\n",
        "        self.left = None\n",
        "        self.right = None\n",
        "\n",
        "    def insert(self, value):\n",
        "        if value < self.value:\n",
        "            if self.left is None:\n",
        "                self.left = BST(value)\n",
        "            else:\n",
        "                self.left.insert(value)\n",
        "        else:\n",
        "            if self.right is None:\n",
        "                self.right = BST(value)\n",
        "            else:\n",
        "                self.right.insert(value)\n"
      ]
    }
  ]
}