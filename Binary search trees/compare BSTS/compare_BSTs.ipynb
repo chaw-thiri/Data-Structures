{
  "nbformat": 4,
  "nbformat_minor": 0,
  "metadata": {
    "colab": {
      "provenance": []
    },
    "kernelspec": {
      "name": "python3",
      "display_name": "Python 3"
    },
    "language_info": {
      "name": "python"
    }
  },
  "cells": [
    {
      "cell_type": "code",
      "source": [
        "# time = O(n^2) : n times of O(n)\n",
        "# space = O(n^2) = no of nodes in each array, due to recursive call stack\n",
        "# clear ans , suitable for coding interview (45 mins time)\n",
        "\n",
        "def sameBsts(arrayOne, arrayTwo):\n",
        "    # len of arrays must be equal\n",
        "    if len(arrayOne) != len(arrayTwo):\n",
        "        return False\n",
        "\n",
        "    # array is empty\n",
        "    if len(arrayOne) == 0 and len(arrayTwo) == 0:\n",
        "        return True\n",
        "\n",
        "    # root nodes are equal\n",
        "    if arrayOne[0] != arrayTwo[0]:\n",
        "        return False\n",
        "\n",
        "    # left sub trees\n",
        "    leftOne = getSmaller(arrayOne)\n",
        "    leftTwo = getSmaller(arrayTwo)\n",
        "\n",
        "    # right sub trees\n",
        "    rightOne = getBiggerOrEqual(arrayOne)\n",
        "    rightTwo= getBiggerOrEqual(arrayTwo)\n",
        "\n",
        "\n",
        "    return sameBsts(leftOne, leftTwo) and sameBsts(rightOne, rightTwo)\n",
        "\n",
        "def getSmaller(array):\n",
        "    smaller= []\n",
        "    for i in range(1, len(array)): # 0 is omitted bc it is root node\n",
        "        if array[i]< array[0]:\n",
        "            smaller.append(array[i])\n",
        "    return smaller\n",
        "\n",
        "def getBiggerOrEqual(array):\n",
        "    biggerOrEqual = []\n",
        "    for i in range(1, len(array)):\n",
        "        if array[i] >= array[0]:\n",
        "            biggerOrEqual.append(array[i])\n",
        "    return biggerOrEqual"
      ],
      "metadata": {
        "id": "fMPIB4GPCuJU"
      },
      "execution_count": null,
      "outputs": []
    },
    {
      "cell_type": "code",
      "execution_count": null,
      "metadata": {
        "id": "UsDCyqvGCrab"
      },
      "outputs": [],
      "source": [
        "# pass pointers instead of call stacks to reduce space complexity\n",
        "# time = O(n ^2 )\n",
        "# space = O(d) where d is the depth of the array\n",
        "def sameBsts(arrayOne, arrayTwo):\n",
        "    return areSameBsts(arrayOne, arrayTwo, 0 , 0 , float(\"-inf\"))\n",
        "\n",
        "def areSameBsts(arrayOne, arrayTwo, rootIdxOne, rootIdxTwo,minVal, maxVal):\n",
        "\n",
        "    # both the array are equal\n",
        "    if rootIdxOne == -1 or rootIdxTwo == -1:\n",
        "        return rootIdxOne == rootIdxTwo\n",
        "\n",
        "    # root nodes are equal\n",
        "    if arrayOne[rootIdxOne] != arrayTwo[rootIdxTwo]:\n",
        "        return False\n",
        "\n",
        "    # four new roots\n",
        "    leftRootIdxOne = getIdxOfFirstSmaller(arrayOne, rootIdxOne, minVal) # first left child\n",
        "    leftRootIdxTwo = getIdxOfFirstSmaller(arrayTwo, rootIdxTwo, minVal)\n",
        "    rightRootIdxOne = getIdxOfFirstBiggerOrEqual(arrayOne,rootIdxOne, maxVal)\n",
        "    rightRootIdxTwo = getIdxOfFirstBiggerOrEqual(arrayTwo,rootIdxTwo, maxVal)\n",
        "\n",
        "    currentValue = arrayOne[rootIdxOne]\n",
        "    leftAreSame = areSameBsts(arrayOne, arrayTwo, leftRootIdxOne, leftRootIdxTwo,minVal, currentValue)\n",
        "    rightAreSame = areSameBsts(arrayOne, arrayTwo, rightRootIdxOne, rightRootIdxTwo, currentValue, maxVal)\n",
        "\n",
        "    return leftAreSame and rightAreSame\n",
        "def getIdxOfFirstSmaller(array, startingIdx, minVal):\n",
        "    # find the idx of the first smaller value after the starting idx\n",
        "    # check this value is smaller or equal to the minVal\n",
        "    # what is the value of the previous parent node in the BST\n",
        "    # if it isn't then that value is located in the left subtree of the previous parent node\n",
        "    for i in range(startingIdx+1, len(array)):\n",
        "        if array[i] < array[startingIdx] and array[i] >= minVal: # minVal is the parent node\n",
        "            return i\n",
        "    return -1\n",
        "\n",
        "\n",
        "def getIdxOfFirstBiggerOrEqual(array, startingIdx, maxVal):\n",
        "    # find the idx of hte first bigger/ equal value after the starting idx\n",
        "    # make sure that this value is smaller than maxVal, which the\n",
        "    # the value of the previous parent node in the Bst\n",
        "    # if it isn't than the value is located in the right subtree of the previous parent node\n",
        "    for i in range(startingIdx+1, len(array)):\n",
        "        if array[i] >= array[startingIdx] and array[i] < maxVal:\n",
        "            return i\n",
        "    return -1"
      ]
    }
  ]
}