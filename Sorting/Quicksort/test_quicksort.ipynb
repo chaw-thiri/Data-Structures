{
  "nbformat": 4,
  "nbformat_minor": 0,
  "metadata": {
    "colab": {
      "provenance": []
    },
    "kernelspec": {
      "name": "python3",
      "display_name": "Python 3"
    },
    "language_info": {
      "name": "python"
    }
  },
  "cells": [
    {
      "cell_type": "code",
      "execution_count": 1,
      "metadata": {
        "colab": {
          "base_uri": "https://localhost:8080/"
        },
        "id": "2aneLi8cqraa",
        "outputId": "49975043-c1ab-47ea-aa72-2a06f1768e4b"
      },
      "outputs": [
        {
          "output_type": "stream",
          "name": "stdout",
          "text": [
            "[3, 3, 5, 6, 7]\n"
          ]
        }
      ],
      "source": [
        "my_array= [3,7,5,6,3]\n",
        "\n",
        "\n",
        "def quickSort(array):\n",
        "    quickSorthelper(array, 0, len(array)-1)\n",
        "    return array\n",
        "def quickSorthelper(array, start, end):\n",
        "    left = start + 1\n",
        "    right = end\n",
        "    pivot = start\n",
        "    if start >= end: # = when len(array) == 1\n",
        "        return array\n",
        "    while left <= right:\n",
        "        if array[left] > array[pivot] and array[right] < array[pivot]:\n",
        "            array[left], array[right] = array[right], array[left]\n",
        "        if array[left] <= array[pivot]:\n",
        "            left += 1\n",
        "        if array[right] >= array[pivot]:\n",
        "            right -= 1\n",
        "    array[right],array[pivot] = array[pivot],array[right]\n",
        "    Short_left_side = (right-1)-start > end-(right+1)\n",
        "    if Short_left_side:\n",
        "        quickSorthelper(array, right+1, end)\n",
        "        quickSorthelper(array, start, right-1)\n",
        "    else:\n",
        "        quickSorthelper(array, start, right-1)\n",
        "        quickSorthelper(array, right+1, end)\n",
        "print(quickSort(my_array))"
      ]
    }
  ]
}