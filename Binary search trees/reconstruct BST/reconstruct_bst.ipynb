{
  "nbformat": 4,
  "nbformat_minor": 0,
  "metadata": {
    "colab": {
      "provenance": []
    },
    "kernelspec": {
      "name": "python3",
      "display_name": "Python 3"
    },
    "language_info": {
      "name": "python"
    }
  },
  "cells": [
    {
      "cell_type": "code",
      "execution_count": null,
      "metadata": {
        "id": "cOZT6joGLXiO"
      },
      "outputs": [],
      "source": [
        "# T = O(n^2)\n",
        "#   looping through the array n, calling it n time, so n * n ---> n square\n",
        "# S = O(h) , h = height of the BST: no of call stack on recursion\n",
        "class BST:\n",
        "    def __init__(self, value, left=None, right=None):\n",
        "        self.value = value\n",
        "        self.left = left\n",
        "        self.right = right\n",
        "\n",
        "\n",
        "def reconstructBst(preOrderTraversalValues):\n",
        "    if len(preOrderTraversalValues)==0:\n",
        "        return None\n",
        "    # root node will always be index 0\n",
        "    currentValue=preOrderTraversalValues[0]\n",
        "    rightSubtreeRootIdx=len(preOrderTraversalValues)\n",
        "\n",
        "\n",
        "    # to get right tree index\n",
        "    for idx in range(1,len(preOrderTraversalValues)):\n",
        "        value=preOrderTraversalValues[idx]\n",
        "        if value>=currentValue:\n",
        "            rightSubtreeRootIdx=idx\n",
        "            break\n",
        "\n",
        "    leftSubtree=reconstructBst(preOrderTraversalValues[1:rightSubtreeRootIdx])\n",
        "    rightSubtree=reconstructBst(preOrderTraversalValues[rightSubtreeRootIdx:])\n",
        "    return BST(currentValue,leftSubtree,rightSubtree) # leftSubtree is a left child and right subtree is a right child"
      ]
    },
    {
      "cell_type": "code",
      "source": [
        "# This is an input class. Do not edit.\n",
        "class BST:\n",
        "    def __init__(self, value, left=None, right=None):\n",
        "        self.value = value\n",
        "        self.left = left\n",
        "        self.right = right\n",
        "\n",
        "\n",
        "\n",
        "class TreeInfo:\n",
        "    def __init__(self, rootIdx):\n",
        "        self.rootIdx=rootIdx\n",
        "\n",
        "\n",
        "def reconstructBst(preOrderTraversalValues):\n",
        "    treeInfo=TreeInfo(0)\n",
        "    return reconstructBstFromRange(float(\"-inf\"), float(\"inf\"), preOrderTraversalValues,treeInfo)\n",
        "\n",
        "\n",
        "\n",
        "def reconstructBstFromRange(lowerBound,upperBound,preOrderTraversalValues,currentSubtreeInfo):\n",
        "\n",
        "    # all the nodes are finished\n",
        "    if currentSubtreeInfo.rootIdx==len(preOrderTraversalValues):\n",
        "            return None\n",
        "\n",
        "    rootValue=preOrderTraversalValues[currentSubtreeInfo.rootIdx]\n",
        "    if rootValue<lowerBound or rootValue>=upperBound:\n",
        "        return None\n",
        "\n",
        "    leftSubtree=reconstructBstFromRange(lowerBound,rootValue,preOrderTraversalValues,currentSubtreeInfo)\n",
        "    rightSubtree=reconstructBstFromRange(rootValue,upperBound,preOrderTraversalValues,currentSubtreeInfo)\n",
        "    return BST(rootValue,leftSubtree,rightSubtree)"
      ],
      "metadata": {
        "id": "JsUdf1vKLh-r"
      },
      "execution_count": null,
      "outputs": []
    }
  ]
}