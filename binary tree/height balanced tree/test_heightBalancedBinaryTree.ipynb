{
  "nbformat": 4,
  "nbformat_minor": 0,
  "metadata": {
    "colab": {
      "provenance": []
    },
    "kernelspec": {
      "name": "python3",
      "display_name": "Python 3"
    },
    "language_info": {
      "name": "python"
    }
  },
  "cells": [
    {
      "cell_type": "code",
      "execution_count": 1,
      "metadata": {
        "id": "XH2CHLxDEkcN"
      },
      "outputs": [],
      "source": [
        "# sol from algoexpert\n",
        "# Time = O(n)\n",
        "# Space = O(h)\n",
        "class BinaryTree:\n",
        "    def __init__(self, value, left=None, right=None):\n",
        "        self.value = value\n",
        "        self.left = left\n",
        "        self.right = right\n",
        "\n",
        "class TreeClass:\n",
        "    def __init__(self, isBalanced, height):\n",
        "        self.isBalanced = isBalanced\n",
        "        self.height = height\n",
        "\n",
        "def heightBalancedBinaryTree(tree):\n",
        "    treeInfo = getTreeInfo(tree)\n",
        "    return treeInfo.isBalanced\n",
        "\n",
        "def getTreeInfo(node):\n",
        "    if node is None:\n",
        "        return TreeClass(True,-1)\n",
        "\n",
        "    leftSubtreeInfo = getTreeInfo(node.left)\n",
        "    rightTreeInfo = getTreeInfo(node.right)\n",
        "\n",
        "    isBalanced = (\n",
        "        leftSubtreeInfo.isBalanced and\n",
        "        rightTreeInfo.isBalanced and\n",
        "        abs(leftSubtreeInfo.height-rightTreeInfo.height) <= 1\n",
        "    )\n",
        "    height = max(leftSubtreeInfo.height,rightTreeInfo.height) + 1\n",
        "    return TreeClass(isBalanced,height)"
      ]
    },
    {
      "cell_type": "code",
      "source": [
        "class BinaryTree:\n",
        "    def __init__(self, value, left=None, right=None):\n",
        "        self.value = value\n",
        "        self.left = left\n",
        "        self.right = right\n",
        "\n",
        "def heightBalancedBinaryTree(tree):\n",
        "    if tree is None:\n",
        "        return True\n",
        "    return heightBalancedBinaryTreeHelper(tree)\n",
        "\n",
        "def heightBalancedBinaryTreeHelper(tree):\n",
        "    if tree is None:\n",
        "        return True\n",
        "\n",
        "    leftHeight = getHeight(tree.left)\n",
        "    rightHeight = getHeight(tree.right)\n",
        "\n",
        "    if (\n",
        "        abs(leftHeight - rightHeight) > 1 or\n",
        "        not heightBalancedBinaryTreeHelper(tree.left) or\n",
        "        not heightBalancedBinaryTreeHelper(tree.right)\n",
        "    ):\n",
        "        return False\n",
        "\n",
        "    return True\n",
        "\n",
        "def getHeight(tree):\n",
        "    if tree is None:\n",
        "        return 0\n",
        "    return max(getHeight(tree.left), getHeight(tree.right)) + 1\n",
        "# time = O(n)\n",
        "# space = O(n)"
      ],
      "metadata": {
        "id": "8mwuVVbSE6o_"
      },
      "execution_count": null,
      "outputs": []
    }
  ]
}