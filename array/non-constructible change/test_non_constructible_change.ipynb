{
  "nbformat": 4,
  "nbformat_minor": 0,
  "metadata": {
    "colab": {
      "provenance": []
    },
    "kernelspec": {
      "name": "python3",
      "display_name": "Python 3"
    },
    "language_info": {
      "name": "python"
    }
  },
  "cells": [
    {
      "cell_type": "code",
      "execution_count": 14,
      "metadata": {
        "id": "gqq0VBNlMNKC"
      },
      "outputs": [],
      "source": [
        "array = [1,1,2,3,22]"
      ]
    },
    {
      "cell_type": "code",
      "source": [
        "def nonConstructibleChange(coins):\n",
        "    TotalCheckedCoins = 0\n",
        "    coins.sort()\n",
        "    for coin in coins:\n",
        "      if TotalCheckedCoins+1 < coin: # in this example, the currently checked coin is 7 and the remaining coin is 22, so 8 cannot be created.\n",
        "        return TotalCheckedCoins+1\n",
        "      TotalCheckedCoins += coin\n",
        "\n",
        "    return TotalCheckedCoins+1"
      ],
      "metadata": {
        "id": "dNXAS_wDPqs2"
      },
      "execution_count": 15,
      "outputs": []
    },
    {
      "cell_type": "code",
      "source": [
        "print(nonConstructibleChange(array))"
      ],
      "metadata": {
        "colab": {
          "base_uri": "https://localhost:8080/"
        },
        "id": "LvVXEBdgPuPH",
        "outputId": "09739108-9d78-4c5c-9884-c18c66d88a23"
      },
      "execution_count": 16,
      "outputs": [
        {
          "output_type": "stream",
          "name": "stdout",
          "text": [
            "8\n"
          ]
        }
      ]
    }
  ]
}